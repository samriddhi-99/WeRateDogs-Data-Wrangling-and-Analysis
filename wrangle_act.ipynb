{
 "cells": [
  {
   "cell_type": "markdown",
   "metadata": {},
   "source": [
    "# WeRateDogs - Data Wrangling and Analysis"
   ]
  },
  {
   "cell_type": "markdown",
   "metadata": {},
   "source": [
    "# Load Packages"
   ]
  },
  {
   "cell_type": "code",
   "execution_count": 1,
   "metadata": {},
   "outputs": [],
   "source": [
    "import pandas as pd\n",
    "import numpy as np\n",
    "import os\n",
    "import requests\n",
    "import tweepy\n",
    "from tweepy import OAuthHandler\n",
    "import seaborn as sns\n",
    "import matplotlib.pyplot as plt\n",
    "%matplotlib inline\n",
    "import json\n",
    "from timeit import default_timer as timer\n",
    "import warnings"
   ]
  },
  {
   "cell_type": "markdown",
   "metadata": {},
   "source": [
    "# WeRateDogs Twitter archive"
   ]
  },
  {
   "cell_type": "code",
   "execution_count": 2,
   "metadata": {},
   "outputs": [],
   "source": [
    "df=pd.read_csv('twitter-archive-enhanced.csv', encoding='utf-8')\n"
   ]
  },
  {
   "cell_type": "code",
   "execution_count": 3,
   "metadata": {},
   "outputs": [
    {
     "data": {
      "text/html": [
       "<div>\n",
       "<style scoped>\n",
       "    .dataframe tbody tr th:only-of-type {\n",
       "        vertical-align: middle;\n",
       "    }\n",
       "\n",
       "    .dataframe tbody tr th {\n",
       "        vertical-align: top;\n",
       "    }\n",
       "\n",
       "    .dataframe thead th {\n",
       "        text-align: right;\n",
       "    }\n",
       "</style>\n",
       "<table border=\"1\" class=\"dataframe\">\n",
       "  <thead>\n",
       "    <tr style=\"text-align: right;\">\n",
       "      <th></th>\n",
       "      <th>tweet_id</th>\n",
       "      <th>in_reply_to_status_id</th>\n",
       "      <th>in_reply_to_user_id</th>\n",
       "      <th>timestamp</th>\n",
       "      <th>source</th>\n",
       "      <th>text</th>\n",
       "      <th>retweeted_status_id</th>\n",
       "      <th>retweeted_status_user_id</th>\n",
       "      <th>retweeted_status_timestamp</th>\n",
       "      <th>expanded_urls</th>\n",
       "      <th>rating_numerator</th>\n",
       "      <th>rating_denominator</th>\n",
       "      <th>name</th>\n",
       "      <th>doggo</th>\n",
       "      <th>floofer</th>\n",
       "      <th>pupper</th>\n",
       "      <th>puppo</th>\n",
       "    </tr>\n",
       "  </thead>\n",
       "  <tbody>\n",
       "    <tr>\n",
       "      <th>0</th>\n",
       "      <td>892420643555336193</td>\n",
       "      <td>NaN</td>\n",
       "      <td>NaN</td>\n",
       "      <td>2017-08-01 16:23:56 +0000</td>\n",
       "      <td>&lt;a href=\"http://twitter.com/download/iphone\" r...</td>\n",
       "      <td>This is Phineas. He's a mystical boy. Only eve...</td>\n",
       "      <td>NaN</td>\n",
       "      <td>NaN</td>\n",
       "      <td>NaN</td>\n",
       "      <td>https://twitter.com/dog_rates/status/892420643...</td>\n",
       "      <td>13</td>\n",
       "      <td>10</td>\n",
       "      <td>Phineas</td>\n",
       "      <td>None</td>\n",
       "      <td>None</td>\n",
       "      <td>None</td>\n",
       "      <td>None</td>\n",
       "    </tr>\n",
       "    <tr>\n",
       "      <th>1</th>\n",
       "      <td>892177421306343426</td>\n",
       "      <td>NaN</td>\n",
       "      <td>NaN</td>\n",
       "      <td>2017-08-01 00:17:27 +0000</td>\n",
       "      <td>&lt;a href=\"http://twitter.com/download/iphone\" r...</td>\n",
       "      <td>This is Tilly. She's just checking pup on you....</td>\n",
       "      <td>NaN</td>\n",
       "      <td>NaN</td>\n",
       "      <td>NaN</td>\n",
       "      <td>https://twitter.com/dog_rates/status/892177421...</td>\n",
       "      <td>13</td>\n",
       "      <td>10</td>\n",
       "      <td>Tilly</td>\n",
       "      <td>None</td>\n",
       "      <td>None</td>\n",
       "      <td>None</td>\n",
       "      <td>None</td>\n",
       "    </tr>\n",
       "    <tr>\n",
       "      <th>2</th>\n",
       "      <td>891815181378084864</td>\n",
       "      <td>NaN</td>\n",
       "      <td>NaN</td>\n",
       "      <td>2017-07-31 00:18:03 +0000</td>\n",
       "      <td>&lt;a href=\"http://twitter.com/download/iphone\" r...</td>\n",
       "      <td>This is Archie. He is a rare Norwegian Pouncin...</td>\n",
       "      <td>NaN</td>\n",
       "      <td>NaN</td>\n",
       "      <td>NaN</td>\n",
       "      <td>https://twitter.com/dog_rates/status/891815181...</td>\n",
       "      <td>12</td>\n",
       "      <td>10</td>\n",
       "      <td>Archie</td>\n",
       "      <td>None</td>\n",
       "      <td>None</td>\n",
       "      <td>None</td>\n",
       "      <td>None</td>\n",
       "    </tr>\n",
       "  </tbody>\n",
       "</table>\n",
       "</div>"
      ],
      "text/plain": [
       "             tweet_id  in_reply_to_status_id  in_reply_to_user_id  \\\n",
       "0  892420643555336193                    NaN                  NaN   \n",
       "1  892177421306343426                    NaN                  NaN   \n",
       "2  891815181378084864                    NaN                  NaN   \n",
       "\n",
       "                   timestamp  \\\n",
       "0  2017-08-01 16:23:56 +0000   \n",
       "1  2017-08-01 00:17:27 +0000   \n",
       "2  2017-07-31 00:18:03 +0000   \n",
       "\n",
       "                                              source  \\\n",
       "0  <a href=\"http://twitter.com/download/iphone\" r...   \n",
       "1  <a href=\"http://twitter.com/download/iphone\" r...   \n",
       "2  <a href=\"http://twitter.com/download/iphone\" r...   \n",
       "\n",
       "                                                text  retweeted_status_id  \\\n",
       "0  This is Phineas. He's a mystical boy. Only eve...                  NaN   \n",
       "1  This is Tilly. She's just checking pup on you....                  NaN   \n",
       "2  This is Archie. He is a rare Norwegian Pouncin...                  NaN   \n",
       "\n",
       "   retweeted_status_user_id retweeted_status_timestamp  \\\n",
       "0                       NaN                        NaN   \n",
       "1                       NaN                        NaN   \n",
       "2                       NaN                        NaN   \n",
       "\n",
       "                                       expanded_urls  rating_numerator  \\\n",
       "0  https://twitter.com/dog_rates/status/892420643...                13   \n",
       "1  https://twitter.com/dog_rates/status/892177421...                13   \n",
       "2  https://twitter.com/dog_rates/status/891815181...                12   \n",
       "\n",
       "   rating_denominator     name doggo floofer pupper puppo  \n",
       "0                  10  Phineas  None    None   None  None  \n",
       "1                  10    Tilly  None    None   None  None  \n",
       "2                  10   Archie  None    None   None  None  "
      ]
     },
     "execution_count": 3,
     "metadata": {},
     "output_type": "execute_result"
    }
   ],
   "source": [
    "df.head(3)"
   ]
  },
  {
   "cell_type": "code",
   "execution_count": 4,
   "metadata": {},
   "outputs": [
    {
     "data": {
      "text/plain": [
       "(2356, 17)"
      ]
     },
     "execution_count": 4,
     "metadata": {},
     "output_type": "execute_result"
    }
   ],
   "source": [
    "df.shape"
   ]
  },
  {
   "cell_type": "markdown",
   "metadata": {},
   "source": [
    "# The tweet image predictions"
   ]
  },
  {
   "cell_type": "code",
   "execution_count": 5,
   "metadata": {},
   "outputs": [],
   "source": [
    "url = 'https://d17h27t6h515a5.cloudfront.net/topher/2017/August/599fd2ad_image-predictions/image-predictions.tsv'\n",
    "response = requests.get(url)\n",
    "folder_name = 'image-predictions'\n",
    "if not os.path.exists(folder_name):\n",
    "    os.makedirs(folder_name)\n",
    "    \n",
    "with open(os.path.join(folder_name, url.split('/')[-1]), mode='wb') as file:\n",
    "    file.write(response.content)"
   ]
  },
  {
   "cell_type": "code",
   "execution_count": 6,
   "metadata": {},
   "outputs": [
    {
     "data": {
      "text/plain": [
       "['image-predictions.tsv']"
      ]
     },
     "execution_count": 6,
     "metadata": {},
     "output_type": "execute_result"
    }
   ],
   "source": [
    "os.listdir(folder_name)"
   ]
  },
  {
   "cell_type": "code",
   "execution_count": 7,
   "metadata": {},
   "outputs": [],
   "source": [
    "image_predictions_df = pd.read_csv(folder_name + '/image-predictions.tsv', sep='\\t')"
   ]
  },
  {
   "cell_type": "code",
   "execution_count": 8,
   "metadata": {},
   "outputs": [
    {
     "data": {
      "text/html": [
       "<div>\n",
       "<style scoped>\n",
       "    .dataframe tbody tr th:only-of-type {\n",
       "        vertical-align: middle;\n",
       "    }\n",
       "\n",
       "    .dataframe tbody tr th {\n",
       "        vertical-align: top;\n",
       "    }\n",
       "\n",
       "    .dataframe thead th {\n",
       "        text-align: right;\n",
       "    }\n",
       "</style>\n",
       "<table border=\"1\" class=\"dataframe\">\n",
       "  <thead>\n",
       "    <tr style=\"text-align: right;\">\n",
       "      <th></th>\n",
       "      <th>tweet_id</th>\n",
       "      <th>jpg_url</th>\n",
       "      <th>img_num</th>\n",
       "      <th>p1</th>\n",
       "      <th>p1_conf</th>\n",
       "      <th>p1_dog</th>\n",
       "      <th>p2</th>\n",
       "      <th>p2_conf</th>\n",
       "      <th>p2_dog</th>\n",
       "      <th>p3</th>\n",
       "      <th>p3_conf</th>\n",
       "      <th>p3_dog</th>\n",
       "    </tr>\n",
       "  </thead>\n",
       "  <tbody>\n",
       "    <tr>\n",
       "      <th>0</th>\n",
       "      <td>666020888022790149</td>\n",
       "      <td>https://pbs.twimg.com/media/CT4udn0WwAA0aMy.jpg</td>\n",
       "      <td>1</td>\n",
       "      <td>Welsh_springer_spaniel</td>\n",
       "      <td>0.465074</td>\n",
       "      <td>True</td>\n",
       "      <td>collie</td>\n",
       "      <td>0.156665</td>\n",
       "      <td>True</td>\n",
       "      <td>Shetland_sheepdog</td>\n",
       "      <td>0.061428</td>\n",
       "      <td>True</td>\n",
       "    </tr>\n",
       "  </tbody>\n",
       "</table>\n",
       "</div>"
      ],
      "text/plain": [
       "             tweet_id                                          jpg_url  \\\n",
       "0  666020888022790149  https://pbs.twimg.com/media/CT4udn0WwAA0aMy.jpg   \n",
       "\n",
       "   img_num                      p1   p1_conf  p1_dog      p2   p2_conf  \\\n",
       "0        1  Welsh_springer_spaniel  0.465074    True  collie  0.156665   \n",
       "\n",
       "   p2_dog                 p3   p3_conf  p3_dog  \n",
       "0    True  Shetland_sheepdog  0.061428    True  "
      ]
     },
     "execution_count": 8,
     "metadata": {},
     "output_type": "execute_result"
    }
   ],
   "source": [
    "image_predictions_df.head(1)"
   ]
  },
  {
   "cell_type": "markdown",
   "metadata": {},
   "source": [
    "To check for duplicated tweet_id ->"
   ]
  },
  {
   "cell_type": "code",
   "execution_count": 9,
   "metadata": {},
   "outputs": [
    {
     "data": {
      "text/plain": [
       "0"
      ]
     },
     "execution_count": 9,
     "metadata": {},
     "output_type": "execute_result"
    }
   ],
   "source": [
    "df.tweet_id.duplicated().sum()"
   ]
  },
  {
   "cell_type": "code",
   "execution_count": 10,
   "metadata": {},
   "outputs": [
    {
     "data": {
      "text/plain": [
       "0"
      ]
     },
     "execution_count": 10,
     "metadata": {},
     "output_type": "execute_result"
    }
   ],
   "source": [
    "image_predictions_df.tweet_id.duplicated().sum()"
   ]
  },
  {
   "cell_type": "markdown",
   "metadata": {},
   "source": [
    "# Tweet's JSON data"
   ]
  },
  {
   "cell_type": "code",
   "execution_count": 68,
   "metadata": {},
   "outputs": [],
   "source": [
    "consumer_key = '7hpsXEwxla9tyRqYlJh7RHPZW'\n",
    "consumer_secret = 'OjJBNj0wgTr2qo2iICobIo9HkjkYX5omtmXtULRnYP5LHv6uJR'\n",
    "access_token = '1212695400697610240-xnUNteTR8Cna9OLl7XF2K9kxD1OI0D'\n",
    "access_secret = 'r2IBzs3zD2eO7IYba6ZDNzmtN3Q8HIWeW3KDrAtioRIFu'\n",
    "\n",
    "auth = tweepy.OAuthHandler(consumer_key, consumer_secret)\n",
    "auth.set_access_token(access_token, access_secret)\n",
    "\n",
    "api = tweepy.API(auth, wait_on_rate_limit = True, wait_on_rate_limit_notify = True)"
   ]
  },
  {
   "cell_type": "code",
   "execution_count": 69,
   "metadata": {},
   "outputs": [
    {
     "data": {
      "text/plain": [
       "<tweepy.api.API at 0x1d2d8d92d08>"
      ]
     },
     "execution_count": 69,
     "metadata": {},
     "output_type": "execute_result"
    }
   ],
   "source": [
    "api"
   ]
  },
  {
   "cell_type": "code",
   "execution_count": 70,
   "metadata": {},
   "outputs": [
    {
     "name": "stdout",
     "output_type": "stream",
     "text": [
      "Error for: 888202515573088257\n",
      "Error for: 873697596434513921\n",
      "Error for: 872668790621863937\n",
      "Error for: 872261713294495745\n",
      "Error for: 869988702071779329\n",
      "Error for: 866816280283807744\n",
      "Error for: 861769973181624320\n",
      "Error for: 856602993587888130\n",
      "Error for: 851953902622658560\n",
      "Error for: 845459076796616705\n",
      "Error for: 844704788403113984\n",
      "Error for: 842892208864923648\n",
      "Error for: 837366284874571778\n",
      "Error for: 837012587749474308\n",
      "Error for: 829374341691346946\n",
      "Error for: 827228250799742977\n",
      "Error for: 812747805718642688\n",
      "Error for: 802247111496568832\n",
      "Error for: 779123168116150273\n",
      "Error for: 775096608509886464\n",
      "Error for: 771004394259247104\n",
      "Error for: 770743923962707968\n",
      "Error for: 759566828574212096\n",
      "Error for: 754011816964026368\n",
      "Error for: 680055455951884288\n",
      "3017.0692556000004\n",
      "{'888202515573088257': TweepError([{'code': 144, 'message': 'No status found with that ID.'}]), '873697596434513921': TweepError([{'code': 144, 'message': 'No status found with that ID.'}]), '872668790621863937': TweepError([{'code': 144, 'message': 'No status found with that ID.'}]), '872261713294495745': TweepError([{'code': 144, 'message': 'No status found with that ID.'}]), '869988702071779329': TweepError([{'code': 144, 'message': 'No status found with that ID.'}]), '866816280283807744': TweepError([{'code': 144, 'message': 'No status found with that ID.'}]), '861769973181624320': TweepError([{'code': 144, 'message': 'No status found with that ID.'}]), '856602993587888130': TweepError([{'code': 144, 'message': 'No status found with that ID.'}]), '851953902622658560': TweepError([{'code': 144, 'message': 'No status found with that ID.'}]), '845459076796616705': TweepError([{'code': 144, 'message': 'No status found with that ID.'}]), '844704788403113984': TweepError([{'code': 144, 'message': 'No status found with that ID.'}]), '842892208864923648': TweepError([{'code': 144, 'message': 'No status found with that ID.'}]), '837366284874571778': TweepError([{'code': 144, 'message': 'No status found with that ID.'}]), '837012587749474308': TweepError([{'code': 144, 'message': 'No status found with that ID.'}]), '829374341691346946': TweepError([{'code': 144, 'message': 'No status found with that ID.'}]), '827228250799742977': TweepError([{'code': 144, 'message': 'No status found with that ID.'}]), '812747805718642688': TweepError([{'code': 144, 'message': 'No status found with that ID.'}]), '802247111496568832': TweepError([{'code': 144, 'message': 'No status found with that ID.'}]), '779123168116150273': TweepError([{'code': 144, 'message': 'No status found with that ID.'}]), '775096608509886464': TweepError([{'code': 144, 'message': 'No status found with that ID.'}]), '771004394259247104': TweepError([{'code': 179, 'message': 'Sorry, you are not authorized to see this status.'}]), '770743923962707968': TweepError([{'code': 144, 'message': 'No status found with that ID.'}]), '759566828574212096': TweepError([{'code': 144, 'message': 'No status found with that ID.'}]), '754011816964026368': TweepError([{'code': 144, 'message': 'No status found with that ID.'}]), '680055455951884288': TweepError([{'code': 144, 'message': 'No status found with that ID.'}])}\n"
     ]
    }
   ],
   "source": [
    "tweet_ids = list(df.tweet_id)\n",
    "tdata = {}\n",
    "fdict = {}\n",
    "start = timer()\n",
    "for tweet_id in tweet_ids:\n",
    "    try:\n",
    "        tweet_status = api.get_status(tweet_id, tweet_mode='extended')         \n",
    "        tdata[str(tweet_id)] = tweet_status._json\n",
    "    except tweepy.TweepError as e:\n",
    "        print(\"Error for: \" +str(tweet_id))\n",
    "        fdict[str(tweet_id)] = e\n",
    "\n",
    "end = timer()\n",
    "print(end - start)\n",
    "print(fdict) "
   ]
  },
  {
   "cell_type": "markdown",
   "metadata": {},
   "source": [
    "The number of tweet_id which are not present in the website of twitter ->"
   ]
  },
  {
   "cell_type": "code",
   "execution_count": 71,
   "metadata": {},
   "outputs": [
    {
     "data": {
      "text/plain": [
       "25"
      ]
     },
     "execution_count": 71,
     "metadata": {},
     "output_type": "execute_result"
    }
   ],
   "source": [
    "len (fdict)"
   ]
  },
  {
   "cell_type": "code",
   "execution_count": 73,
   "metadata": {},
   "outputs": [
    {
     "data": {
      "text/plain": [
       "2331"
      ]
     },
     "execution_count": 73,
     "metadata": {},
     "output_type": "execute_result"
    }
   ],
   "source": [
    "len(tdata)"
   ]
  },
  {
   "cell_type": "markdown",
   "metadata": {},
   "source": [
    "To write the data obtained in a text file ->"
   ]
  },
  {
   "cell_type": "code",
   "execution_count": 74,
   "metadata": {},
   "outputs": [],
   "source": [
    "with open('tweet_json.txt', 'w') as file:\n",
    "    json.dump(tdata, file)"
   ]
  },
  {
   "cell_type": "markdown",
   "metadata": {},
   "source": [
    "Writing the test to json file ->"
   ]
  },
  {
   "cell_type": "code",
   "execution_count": 75,
   "metadata": {},
   "outputs": [],
   "source": [
    "with open('tweet_json.txt') as file:\n",
    "    data = json.load(file)"
   ]
  },
  {
   "cell_type": "code",
   "execution_count": 76,
   "metadata": {},
   "outputs": [],
   "source": [
    "tweets_list = []\n",
    "for tweet_id in data.keys():\n",
    "    retweets = data[tweet_id]['retweet_count']\n",
    "    favourites = data[tweet_id]['favorite_count']\n",
    "    followers = data[tweet_id]['user']['followers_count']\n",
    "    friends = data[tweet_id]['user']['friends_count']\n",
    "    tweets_list.append({'tweet_id': tweet_id, 'retweets' : retweets,\n",
    "                             'favorites': favourites\n",
    "                             ,\n",
    "                            'followers' : followers\n",
    "                             , \n",
    "                             'friends' : friends\n",
    "                            })\n",
    "    \n",
    "tweets_df = pd.DataFrame(tweets_list, columns = ['tweet_id', 'retweets', 'favorites','followers','friends'])"
   ]
  },
  {
   "cell_type": "code",
   "execution_count": 77,
   "metadata": {},
   "outputs": [
    {
     "data": {
      "text/html": [
       "<div>\n",
       "<style scoped>\n",
       "    .dataframe tbody tr th:only-of-type {\n",
       "        vertical-align: middle;\n",
       "    }\n",
       "\n",
       "    .dataframe tbody tr th {\n",
       "        vertical-align: top;\n",
       "    }\n",
       "\n",
       "    .dataframe thead th {\n",
       "        text-align: right;\n",
       "    }\n",
       "</style>\n",
       "<table border=\"1\" class=\"dataframe\">\n",
       "  <thead>\n",
       "    <tr style=\"text-align: right;\">\n",
       "      <th></th>\n",
       "      <th>tweet_id</th>\n",
       "      <th>retweets</th>\n",
       "      <th>favorites</th>\n",
       "      <th>followers</th>\n",
       "      <th>friends</th>\n",
       "    </tr>\n",
       "  </thead>\n",
       "  <tbody>\n",
       "    <tr>\n",
       "      <th>0</th>\n",
       "      <td>892420643555336193</td>\n",
       "      <td>7724</td>\n",
       "      <td>36281</td>\n",
       "      <td>8779938</td>\n",
       "      <td>16</td>\n",
       "    </tr>\n",
       "    <tr>\n",
       "      <th>1</th>\n",
       "      <td>892177421306343426</td>\n",
       "      <td>5711</td>\n",
       "      <td>31272</td>\n",
       "      <td>8779938</td>\n",
       "      <td>16</td>\n",
       "    </tr>\n",
       "  </tbody>\n",
       "</table>\n",
       "</div>"
      ],
      "text/plain": [
       "             tweet_id  retweets  favorites  followers  friends\n",
       "0  892420643555336193      7724      36281    8779938       16\n",
       "1  892177421306343426      5711      31272    8779938       16"
      ]
     },
     "execution_count": 77,
     "metadata": {},
     "output_type": "execute_result"
    }
   ],
   "source": [
    "tweets_df.head(2)"
   ]
  },
  {
   "cell_type": "code",
   "execution_count": 78,
   "metadata": {},
   "outputs": [
    {
     "data": {
      "text/plain": [
       "0"
      ]
     },
     "execution_count": 78,
     "metadata": {},
     "output_type": "execute_result"
    }
   ],
   "source": [
    "tweets_df.tweet_id.duplicated().sum() #to check for duplicated value"
   ]
  },
  {
   "cell_type": "markdown",
   "metadata": {},
   "source": [
    "### Complete data\n",
    "\n",
    "* df -> dataset \"twitter-archive-enhanced.csv\" which was converted into a dataframe and gives information on basic tweet data\n",
    "* image_predictions_df ->  information about predictions about the image\n",
    "* tweets_df -> dataset will contain information like tweet_id, no of retweets and no of favorites etc"
   ]
  },
  {
   "cell_type": "markdown",
   "metadata": {},
   "source": [
    "# Assessing the data"
   ]
  },
  {
   "cell_type": "markdown",
   "metadata": {},
   "source": [
    "Assessing df -> "
   ]
  },
  {
   "cell_type": "code",
   "execution_count": 79,
   "metadata": {},
   "outputs": [
    {
     "data": {
      "text/html": [
       "<div>\n",
       "<style scoped>\n",
       "    .dataframe tbody tr th:only-of-type {\n",
       "        vertical-align: middle;\n",
       "    }\n",
       "\n",
       "    .dataframe tbody tr th {\n",
       "        vertical-align: top;\n",
       "    }\n",
       "\n",
       "    .dataframe thead th {\n",
       "        text-align: right;\n",
       "    }\n",
       "</style>\n",
       "<table border=\"1\" class=\"dataframe\">\n",
       "  <thead>\n",
       "    <tr style=\"text-align: right;\">\n",
       "      <th></th>\n",
       "      <th>tweet_id</th>\n",
       "      <th>in_reply_to_status_id</th>\n",
       "      <th>in_reply_to_user_id</th>\n",
       "      <th>timestamp</th>\n",
       "      <th>source</th>\n",
       "      <th>text</th>\n",
       "      <th>retweeted_status_id</th>\n",
       "      <th>retweeted_status_user_id</th>\n",
       "      <th>retweeted_status_timestamp</th>\n",
       "      <th>expanded_urls</th>\n",
       "      <th>rating_numerator</th>\n",
       "      <th>rating_denominator</th>\n",
       "      <th>name</th>\n",
       "      <th>doggo</th>\n",
       "      <th>floofer</th>\n",
       "      <th>pupper</th>\n",
       "      <th>puppo</th>\n",
       "    </tr>\n",
       "  </thead>\n",
       "  <tbody>\n",
       "    <tr>\n",
       "      <th>0</th>\n",
       "      <td>892420643555336193</td>\n",
       "      <td>NaN</td>\n",
       "      <td>NaN</td>\n",
       "      <td>2017-08-01 16:23:56 +0000</td>\n",
       "      <td>&lt;a href=\"http://twitter.com/download/iphone\" r...</td>\n",
       "      <td>This is Phineas. He's a mystical boy. Only eve...</td>\n",
       "      <td>NaN</td>\n",
       "      <td>NaN</td>\n",
       "      <td>NaN</td>\n",
       "      <td>https://twitter.com/dog_rates/status/892420643...</td>\n",
       "      <td>13</td>\n",
       "      <td>10</td>\n",
       "      <td>Phineas</td>\n",
       "      <td>None</td>\n",
       "      <td>None</td>\n",
       "      <td>None</td>\n",
       "      <td>None</td>\n",
       "    </tr>\n",
       "    <tr>\n",
       "      <th>1</th>\n",
       "      <td>892177421306343426</td>\n",
       "      <td>NaN</td>\n",
       "      <td>NaN</td>\n",
       "      <td>2017-08-01 00:17:27 +0000</td>\n",
       "      <td>&lt;a href=\"http://twitter.com/download/iphone\" r...</td>\n",
       "      <td>This is Tilly. She's just checking pup on you....</td>\n",
       "      <td>NaN</td>\n",
       "      <td>NaN</td>\n",
       "      <td>NaN</td>\n",
       "      <td>https://twitter.com/dog_rates/status/892177421...</td>\n",
       "      <td>13</td>\n",
       "      <td>10</td>\n",
       "      <td>Tilly</td>\n",
       "      <td>None</td>\n",
       "      <td>None</td>\n",
       "      <td>None</td>\n",
       "      <td>None</td>\n",
       "    </tr>\n",
       "    <tr>\n",
       "      <th>2</th>\n",
       "      <td>891815181378084864</td>\n",
       "      <td>NaN</td>\n",
       "      <td>NaN</td>\n",
       "      <td>2017-07-31 00:18:03 +0000</td>\n",
       "      <td>&lt;a href=\"http://twitter.com/download/iphone\" r...</td>\n",
       "      <td>This is Archie. He is a rare Norwegian Pouncin...</td>\n",
       "      <td>NaN</td>\n",
       "      <td>NaN</td>\n",
       "      <td>NaN</td>\n",
       "      <td>https://twitter.com/dog_rates/status/891815181...</td>\n",
       "      <td>12</td>\n",
       "      <td>10</td>\n",
       "      <td>Archie</td>\n",
       "      <td>None</td>\n",
       "      <td>None</td>\n",
       "      <td>None</td>\n",
       "      <td>None</td>\n",
       "    </tr>\n",
       "    <tr>\n",
       "      <th>3</th>\n",
       "      <td>891689557279858688</td>\n",
       "      <td>NaN</td>\n",
       "      <td>NaN</td>\n",
       "      <td>2017-07-30 15:58:51 +0000</td>\n",
       "      <td>&lt;a href=\"http://twitter.com/download/iphone\" r...</td>\n",
       "      <td>This is Darla. She commenced a snooze mid meal...</td>\n",
       "      <td>NaN</td>\n",
       "      <td>NaN</td>\n",
       "      <td>NaN</td>\n",
       "      <td>https://twitter.com/dog_rates/status/891689557...</td>\n",
       "      <td>13</td>\n",
       "      <td>10</td>\n",
       "      <td>Darla</td>\n",
       "      <td>None</td>\n",
       "      <td>None</td>\n",
       "      <td>None</td>\n",
       "      <td>None</td>\n",
       "    </tr>\n",
       "  </tbody>\n",
       "</table>\n",
       "</div>"
      ],
      "text/plain": [
       "             tweet_id  in_reply_to_status_id  in_reply_to_user_id  \\\n",
       "0  892420643555336193                    NaN                  NaN   \n",
       "1  892177421306343426                    NaN                  NaN   \n",
       "2  891815181378084864                    NaN                  NaN   \n",
       "3  891689557279858688                    NaN                  NaN   \n",
       "\n",
       "                   timestamp  \\\n",
       "0  2017-08-01 16:23:56 +0000   \n",
       "1  2017-08-01 00:17:27 +0000   \n",
       "2  2017-07-31 00:18:03 +0000   \n",
       "3  2017-07-30 15:58:51 +0000   \n",
       "\n",
       "                                              source  \\\n",
       "0  <a href=\"http://twitter.com/download/iphone\" r...   \n",
       "1  <a href=\"http://twitter.com/download/iphone\" r...   \n",
       "2  <a href=\"http://twitter.com/download/iphone\" r...   \n",
       "3  <a href=\"http://twitter.com/download/iphone\" r...   \n",
       "\n",
       "                                                text  retweeted_status_id  \\\n",
       "0  This is Phineas. He's a mystical boy. Only eve...                  NaN   \n",
       "1  This is Tilly. She's just checking pup on you....                  NaN   \n",
       "2  This is Archie. He is a rare Norwegian Pouncin...                  NaN   \n",
       "3  This is Darla. She commenced a snooze mid meal...                  NaN   \n",
       "\n",
       "   retweeted_status_user_id retweeted_status_timestamp  \\\n",
       "0                       NaN                        NaN   \n",
       "1                       NaN                        NaN   \n",
       "2                       NaN                        NaN   \n",
       "3                       NaN                        NaN   \n",
       "\n",
       "                                       expanded_urls  rating_numerator  \\\n",
       "0  https://twitter.com/dog_rates/status/892420643...                13   \n",
       "1  https://twitter.com/dog_rates/status/892177421...                13   \n",
       "2  https://twitter.com/dog_rates/status/891815181...                12   \n",
       "3  https://twitter.com/dog_rates/status/891689557...                13   \n",
       "\n",
       "   rating_denominator     name doggo floofer pupper puppo  \n",
       "0                  10  Phineas  None    None   None  None  \n",
       "1                  10    Tilly  None    None   None  None  \n",
       "2                  10   Archie  None    None   None  None  \n",
       "3                  10    Darla  None    None   None  None  "
      ]
     },
     "execution_count": 79,
     "metadata": {},
     "output_type": "execute_result"
    }
   ],
   "source": [
    "df.head(4)"
   ]
  },
  {
   "cell_type": "code",
   "execution_count": 80,
   "metadata": {},
   "outputs": [
    {
     "data": {
      "text/plain": [
       "Index(['tweet_id', 'in_reply_to_status_id', 'in_reply_to_user_id', 'timestamp',\n",
       "       'source', 'text', 'retweeted_status_id', 'retweeted_status_user_id',\n",
       "       'retweeted_status_timestamp', 'expanded_urls', 'rating_numerator',\n",
       "       'rating_denominator', 'name', 'doggo', 'floofer', 'pupper', 'puppo'],\n",
       "      dtype='object')"
      ]
     },
     "execution_count": 80,
     "metadata": {},
     "output_type": "execute_result"
    }
   ],
   "source": [
    "df.columns"
   ]
  },
  {
   "cell_type": "markdown",
   "metadata": {},
   "source": [
    "Detailed description of the column data can be obtained from here -> https://sfm.readthedocs.io/en/1.4.3/data_dictionary.html"
   ]
  },
  {
   "cell_type": "code",
   "execution_count": 81,
   "metadata": {},
   "outputs": [
    {
     "data": {
      "text/html": [
       "<div>\n",
       "<style scoped>\n",
       "    .dataframe tbody tr th:only-of-type {\n",
       "        vertical-align: middle;\n",
       "    }\n",
       "\n",
       "    .dataframe tbody tr th {\n",
       "        vertical-align: top;\n",
       "    }\n",
       "\n",
       "    .dataframe thead th {\n",
       "        text-align: right;\n",
       "    }\n",
       "</style>\n",
       "<table border=\"1\" class=\"dataframe\">\n",
       "  <thead>\n",
       "    <tr style=\"text-align: right;\">\n",
       "      <th></th>\n",
       "      <th>tweet_id</th>\n",
       "      <th>in_reply_to_status_id</th>\n",
       "      <th>in_reply_to_user_id</th>\n",
       "      <th>retweeted_status_id</th>\n",
       "      <th>retweeted_status_user_id</th>\n",
       "      <th>rating_numerator</th>\n",
       "      <th>rating_denominator</th>\n",
       "    </tr>\n",
       "  </thead>\n",
       "  <tbody>\n",
       "    <tr>\n",
       "      <th>count</th>\n",
       "      <td>2.356000e+03</td>\n",
       "      <td>7.800000e+01</td>\n",
       "      <td>7.800000e+01</td>\n",
       "      <td>1.810000e+02</td>\n",
       "      <td>1.810000e+02</td>\n",
       "      <td>2356.000000</td>\n",
       "      <td>2356.000000</td>\n",
       "    </tr>\n",
       "    <tr>\n",
       "      <th>mean</th>\n",
       "      <td>7.427716e+17</td>\n",
       "      <td>7.455079e+17</td>\n",
       "      <td>2.014171e+16</td>\n",
       "      <td>7.720400e+17</td>\n",
       "      <td>1.241698e+16</td>\n",
       "      <td>13.126486</td>\n",
       "      <td>10.455433</td>\n",
       "    </tr>\n",
       "    <tr>\n",
       "      <th>std</th>\n",
       "      <td>6.856705e+16</td>\n",
       "      <td>7.582492e+16</td>\n",
       "      <td>1.252797e+17</td>\n",
       "      <td>6.236928e+16</td>\n",
       "      <td>9.599254e+16</td>\n",
       "      <td>45.876648</td>\n",
       "      <td>6.745237</td>\n",
       "    </tr>\n",
       "    <tr>\n",
       "      <th>min</th>\n",
       "      <td>6.660209e+17</td>\n",
       "      <td>6.658147e+17</td>\n",
       "      <td>1.185634e+07</td>\n",
       "      <td>6.661041e+17</td>\n",
       "      <td>7.832140e+05</td>\n",
       "      <td>0.000000</td>\n",
       "      <td>0.000000</td>\n",
       "    </tr>\n",
       "    <tr>\n",
       "      <th>25%</th>\n",
       "      <td>6.783989e+17</td>\n",
       "      <td>6.757419e+17</td>\n",
       "      <td>3.086374e+08</td>\n",
       "      <td>7.186315e+17</td>\n",
       "      <td>4.196984e+09</td>\n",
       "      <td>10.000000</td>\n",
       "      <td>10.000000</td>\n",
       "    </tr>\n",
       "    <tr>\n",
       "      <th>50%</th>\n",
       "      <td>7.196279e+17</td>\n",
       "      <td>7.038708e+17</td>\n",
       "      <td>4.196984e+09</td>\n",
       "      <td>7.804657e+17</td>\n",
       "      <td>4.196984e+09</td>\n",
       "      <td>11.000000</td>\n",
       "      <td>10.000000</td>\n",
       "    </tr>\n",
       "    <tr>\n",
       "      <th>75%</th>\n",
       "      <td>7.993373e+17</td>\n",
       "      <td>8.257804e+17</td>\n",
       "      <td>4.196984e+09</td>\n",
       "      <td>8.203146e+17</td>\n",
       "      <td>4.196984e+09</td>\n",
       "      <td>12.000000</td>\n",
       "      <td>10.000000</td>\n",
       "    </tr>\n",
       "    <tr>\n",
       "      <th>max</th>\n",
       "      <td>8.924206e+17</td>\n",
       "      <td>8.862664e+17</td>\n",
       "      <td>8.405479e+17</td>\n",
       "      <td>8.874740e+17</td>\n",
       "      <td>7.874618e+17</td>\n",
       "      <td>1776.000000</td>\n",
       "      <td>170.000000</td>\n",
       "    </tr>\n",
       "  </tbody>\n",
       "</table>\n",
       "</div>"
      ],
      "text/plain": [
       "           tweet_id  in_reply_to_status_id  in_reply_to_user_id  \\\n",
       "count  2.356000e+03           7.800000e+01         7.800000e+01   \n",
       "mean   7.427716e+17           7.455079e+17         2.014171e+16   \n",
       "std    6.856705e+16           7.582492e+16         1.252797e+17   \n",
       "min    6.660209e+17           6.658147e+17         1.185634e+07   \n",
       "25%    6.783989e+17           6.757419e+17         3.086374e+08   \n",
       "50%    7.196279e+17           7.038708e+17         4.196984e+09   \n",
       "75%    7.993373e+17           8.257804e+17         4.196984e+09   \n",
       "max    8.924206e+17           8.862664e+17         8.405479e+17   \n",
       "\n",
       "       retweeted_status_id  retweeted_status_user_id  rating_numerator  \\\n",
       "count         1.810000e+02              1.810000e+02       2356.000000   \n",
       "mean          7.720400e+17              1.241698e+16         13.126486   \n",
       "std           6.236928e+16              9.599254e+16         45.876648   \n",
       "min           6.661041e+17              7.832140e+05          0.000000   \n",
       "25%           7.186315e+17              4.196984e+09         10.000000   \n",
       "50%           7.804657e+17              4.196984e+09         11.000000   \n",
       "75%           8.203146e+17              4.196984e+09         12.000000   \n",
       "max           8.874740e+17              7.874618e+17       1776.000000   \n",
       "\n",
       "       rating_denominator  \n",
       "count         2356.000000  \n",
       "mean            10.455433  \n",
       "std              6.745237  \n",
       "min              0.000000  \n",
       "25%             10.000000  \n",
       "50%             10.000000  \n",
       "75%             10.000000  \n",
       "max            170.000000  "
      ]
     },
     "execution_count": 81,
     "metadata": {},
     "output_type": "execute_result"
    }
   ],
   "source": [
    "df.describe()"
   ]
  },
  {
   "cell_type": "code",
   "execution_count": 82,
   "metadata": {},
   "outputs": [
    {
     "name": "stdout",
     "output_type": "stream",
     "text": [
      "<class 'pandas.core.frame.DataFrame'>\n",
      "RangeIndex: 2356 entries, 0 to 2355\n",
      "Data columns (total 17 columns):\n",
      " #   Column                      Non-Null Count  Dtype  \n",
      "---  ------                      --------------  -----  \n",
      " 0   tweet_id                    2356 non-null   int64  \n",
      " 1   in_reply_to_status_id       78 non-null     float64\n",
      " 2   in_reply_to_user_id         78 non-null     float64\n",
      " 3   timestamp                   2356 non-null   object \n",
      " 4   source                      2356 non-null   object \n",
      " 5   text                        2356 non-null   object \n",
      " 6   retweeted_status_id         181 non-null    float64\n",
      " 7   retweeted_status_user_id    181 non-null    float64\n",
      " 8   retweeted_status_timestamp  181 non-null    object \n",
      " 9   expanded_urls               2297 non-null   object \n",
      " 10  rating_numerator            2356 non-null   int64  \n",
      " 11  rating_denominator          2356 non-null   int64  \n",
      " 12  name                        2356 non-null   object \n",
      " 13  doggo                       2356 non-null   object \n",
      " 14  floofer                     2356 non-null   object \n",
      " 15  pupper                      2356 non-null   object \n",
      " 16  puppo                       2356 non-null   object \n",
      "dtypes: float64(4), int64(3), object(10)\n",
      "memory usage: 313.0+ KB\n"
     ]
    }
   ],
   "source": [
    "df.info()"
   ]
  },
  {
   "cell_type": "code",
   "execution_count": 83,
   "metadata": {},
   "outputs": [
    {
     "data": {
      "text/plain": [
       "tweet_id                         0\n",
       "in_reply_to_status_id         2278\n",
       "in_reply_to_user_id           2278\n",
       "timestamp                        0\n",
       "source                           0\n",
       "text                             0\n",
       "retweeted_status_id           2175\n",
       "retweeted_status_user_id      2175\n",
       "retweeted_status_timestamp    2175\n",
       "expanded_urls                   59\n",
       "rating_numerator                 0\n",
       "rating_denominator               0\n",
       "name                             0\n",
       "doggo                            0\n",
       "floofer                          0\n",
       "pupper                           0\n",
       "puppo                            0\n",
       "dtype: int64"
      ]
     },
     "execution_count": 83,
     "metadata": {},
     "output_type": "execute_result"
    }
   ],
   "source": [
    "df.isnull().sum()"
   ]
  },
  {
   "cell_type": "code",
   "execution_count": 84,
   "metadata": {},
   "outputs": [
    {
     "data": {
      "text/plain": [
       "0"
      ]
     },
     "execution_count": 84,
     "metadata": {},
     "output_type": "execute_result"
    }
   ],
   "source": [
    "df.tweet_id.duplicated().sum()"
   ]
  },
  {
   "cell_type": "code",
   "execution_count": 85,
   "metadata": {},
   "outputs": [
    {
     "data": {
      "text/html": [
       "<div>\n",
       "<style scoped>\n",
       "    .dataframe tbody tr th:only-of-type {\n",
       "        vertical-align: middle;\n",
       "    }\n",
       "\n",
       "    .dataframe tbody tr th {\n",
       "        vertical-align: top;\n",
       "    }\n",
       "\n",
       "    .dataframe thead th {\n",
       "        text-align: right;\n",
       "    }\n",
       "</style>\n",
       "<table border=\"1\" class=\"dataframe\">\n",
       "  <thead>\n",
       "    <tr style=\"text-align: right;\">\n",
       "      <th></th>\n",
       "      <th>tweet_id</th>\n",
       "      <th>in_reply_to_status_id</th>\n",
       "      <th>in_reply_to_user_id</th>\n",
       "      <th>timestamp</th>\n",
       "      <th>source</th>\n",
       "      <th>text</th>\n",
       "      <th>retweeted_status_id</th>\n",
       "      <th>retweeted_status_user_id</th>\n",
       "      <th>retweeted_status_timestamp</th>\n",
       "      <th>expanded_urls</th>\n",
       "      <th>rating_numerator</th>\n",
       "      <th>rating_denominator</th>\n",
       "      <th>name</th>\n",
       "      <th>doggo</th>\n",
       "      <th>floofer</th>\n",
       "      <th>pupper</th>\n",
       "      <th>puppo</th>\n",
       "    </tr>\n",
       "  </thead>\n",
       "  <tbody>\n",
       "    <tr>\n",
       "      <th>1747</th>\n",
       "      <td>679111216690831360</td>\n",
       "      <td>NaN</td>\n",
       "      <td>NaN</td>\n",
       "      <td>2015-12-22 01:28:25 +0000</td>\n",
       "      <td>&lt;a href=\"http://twitter.com/download/iphone\" r...</td>\n",
       "      <td>This is officially the greatest yawn of all ti...</td>\n",
       "      <td>NaN</td>\n",
       "      <td>NaN</td>\n",
       "      <td>NaN</td>\n",
       "      <td>https://twitter.com/dog_rates/status/679111216...</td>\n",
       "      <td>12</td>\n",
       "      <td>10</td>\n",
       "      <td>officially</td>\n",
       "      <td>None</td>\n",
       "      <td>None</td>\n",
       "      <td>None</td>\n",
       "      <td>None</td>\n",
       "    </tr>\n",
       "  </tbody>\n",
       "</table>\n",
       "</div>"
      ],
      "text/plain": [
       "                tweet_id  in_reply_to_status_id  in_reply_to_user_id  \\\n",
       "1747  679111216690831360                    NaN                  NaN   \n",
       "\n",
       "                      timestamp  \\\n",
       "1747  2015-12-22 01:28:25 +0000   \n",
       "\n",
       "                                                 source  \\\n",
       "1747  <a href=\"http://twitter.com/download/iphone\" r...   \n",
       "\n",
       "                                                   text  retweeted_status_id  \\\n",
       "1747  This is officially the greatest yawn of all ti...                  NaN   \n",
       "\n",
       "      retweeted_status_user_id retweeted_status_timestamp  \\\n",
       "1747                       NaN                        NaN   \n",
       "\n",
       "                                          expanded_urls  rating_numerator  \\\n",
       "1747  https://twitter.com/dog_rates/status/679111216...                12   \n",
       "\n",
       "      rating_denominator        name doggo floofer pupper puppo  \n",
       "1747                  10  officially  None    None   None  None  "
      ]
     },
     "execution_count": 85,
     "metadata": {},
     "output_type": "execute_result"
    }
   ],
   "source": [
    "df[df['name'] == 'officially']"
   ]
  },
  {
   "cell_type": "code",
   "execution_count": 86,
   "metadata": {},
   "outputs": [
    {
     "data": {
      "text/plain": [
       "12      558\n",
       "11      464\n",
       "10      461\n",
       "13      351\n",
       "9       158\n",
       "8       102\n",
       "7        55\n",
       "14       54\n",
       "5        37\n",
       "6        32\n",
       "3        19\n",
       "4        17\n",
       "1         9\n",
       "2         9\n",
       "420       2\n",
       "0         2\n",
       "15        2\n",
       "75        2\n",
       "80        1\n",
       "20        1\n",
       "24        1\n",
       "26        1\n",
       "44        1\n",
       "50        1\n",
       "60        1\n",
       "165       1\n",
       "84        1\n",
       "88        1\n",
       "144       1\n",
       "182       1\n",
       "143       1\n",
       "666       1\n",
       "960       1\n",
       "1776      1\n",
       "17        1\n",
       "27        1\n",
       "45        1\n",
       "99        1\n",
       "121       1\n",
       "204       1\n",
       "Name: rating_numerator, dtype: int64"
      ]
     },
     "execution_count": 86,
     "metadata": {},
     "output_type": "execute_result"
    }
   ],
   "source": [
    "df['rating_numerator'].value_counts()"
   ]
  },
  {
   "cell_type": "code",
   "execution_count": 87,
   "metadata": {},
   "outputs": [
    {
     "data": {
      "text/plain": [
       "10     2333\n",
       "11        3\n",
       "50        3\n",
       "80        2\n",
       "20        2\n",
       "2         1\n",
       "16        1\n",
       "40        1\n",
       "70        1\n",
       "15        1\n",
       "90        1\n",
       "110       1\n",
       "120       1\n",
       "130       1\n",
       "150       1\n",
       "170       1\n",
       "7         1\n",
       "0         1\n",
       "Name: rating_denominator, dtype: int64"
      ]
     },
     "execution_count": 87,
     "metadata": {},
     "output_type": "execute_result"
    }
   ],
   "source": [
    "df['rating_denominator'].value_counts()"
   ]
  },
  {
   "cell_type": "code",
   "execution_count": 88,
   "metadata": {},
   "outputs": [
    {
     "data": {
      "text/html": [
       "<div>\n",
       "<style scoped>\n",
       "    .dataframe tbody tr th:only-of-type {\n",
       "        vertical-align: middle;\n",
       "    }\n",
       "\n",
       "    .dataframe tbody tr th {\n",
       "        vertical-align: top;\n",
       "    }\n",
       "\n",
       "    .dataframe thead th {\n",
       "        text-align: right;\n",
       "    }\n",
       "</style>\n",
       "<table border=\"1\" class=\"dataframe\">\n",
       "  <thead>\n",
       "    <tr style=\"text-align: right;\">\n",
       "      <th></th>\n",
       "      <th>tweet_id</th>\n",
       "      <th>in_reply_to_status_id</th>\n",
       "      <th>in_reply_to_user_id</th>\n",
       "      <th>timestamp</th>\n",
       "      <th>source</th>\n",
       "      <th>text</th>\n",
       "      <th>retweeted_status_id</th>\n",
       "      <th>retweeted_status_user_id</th>\n",
       "      <th>retweeted_status_timestamp</th>\n",
       "      <th>expanded_urls</th>\n",
       "      <th>rating_numerator</th>\n",
       "      <th>rating_denominator</th>\n",
       "      <th>name</th>\n",
       "      <th>doggo</th>\n",
       "      <th>floofer</th>\n",
       "      <th>pupper</th>\n",
       "      <th>puppo</th>\n",
       "    </tr>\n",
       "  </thead>\n",
       "  <tbody>\n",
       "    <tr>\n",
       "      <th>313</th>\n",
       "      <td>835246439529840640</td>\n",
       "      <td>8.352460e+17</td>\n",
       "      <td>26259576.0</td>\n",
       "      <td>2017-02-24 21:54:03 +0000</td>\n",
       "      <td>&lt;a href=\"http://twitter.com/download/iphone\" r...</td>\n",
       "      <td>@jonnysun @Lin_Manuel ok jomny I know you're e...</td>\n",
       "      <td>NaN</td>\n",
       "      <td>NaN</td>\n",
       "      <td>NaN</td>\n",
       "      <td>NaN</td>\n",
       "      <td>960</td>\n",
       "      <td>0</td>\n",
       "      <td>None</td>\n",
       "      <td>None</td>\n",
       "      <td>None</td>\n",
       "      <td>None</td>\n",
       "      <td>None</td>\n",
       "    </tr>\n",
       "  </tbody>\n",
       "</table>\n",
       "</div>"
      ],
      "text/plain": [
       "               tweet_id  in_reply_to_status_id  in_reply_to_user_id  \\\n",
       "313  835246439529840640           8.352460e+17           26259576.0   \n",
       "\n",
       "                     timestamp  \\\n",
       "313  2017-02-24 21:54:03 +0000   \n",
       "\n",
       "                                                source  \\\n",
       "313  <a href=\"http://twitter.com/download/iphone\" r...   \n",
       "\n",
       "                                                  text  retweeted_status_id  \\\n",
       "313  @jonnysun @Lin_Manuel ok jomny I know you're e...                  NaN   \n",
       "\n",
       "     retweeted_status_user_id retweeted_status_timestamp expanded_urls  \\\n",
       "313                       NaN                        NaN           NaN   \n",
       "\n",
       "     rating_numerator  rating_denominator  name doggo floofer pupper puppo  \n",
       "313               960                   0  None  None    None   None  None  "
      ]
     },
     "execution_count": 88,
     "metadata": {},
     "output_type": "execute_result"
    }
   ],
   "source": [
    "df[df['rating_denominator'] == 0]"
   ]
  },
  {
   "cell_type": "code",
   "execution_count": 89,
   "metadata": {},
   "outputs": [],
   "source": [
    "dog_names = []\n",
    "dog_names = df['name'].unique()\n",
    "dog_names.sort()"
   ]
  },
  {
   "cell_type": "code",
   "execution_count": 90,
   "metadata": {},
   "outputs": [
    {
     "data": {
      "text/plain": [
       "array(['Abby', 'Ace', 'Acro', 'Adele', 'Aiden', 'Aja', 'Akumi', 'Al',\n",
       "       'Albert', 'Albus', 'Aldrick', 'Alejandro', 'Alexander',\n",
       "       'Alexanderson', 'Alf', 'Alfie', 'Alfy', 'Alice', 'Amber',\n",
       "       'Ambrose', 'Amy', 'Amélie', 'Anakin', 'Andru', 'Andy', 'Angel',\n",
       "       'Anna', 'Anthony', 'Antony', 'Apollo', 'Aqua', 'Archie', 'Arlen',\n",
       "       'Arlo', 'Arnie', 'Arnold', 'Arya', 'Ash', 'Asher', 'Ashleigh',\n",
       "       'Aspen', 'Astrid', 'Atlas', 'Atticus', 'Aubie', 'Augie', 'Autumn',\n",
       "       'Ava', 'Axel', 'Bailey', 'Baloo', 'Balto', 'Banditt', 'Banjo',\n",
       "       'Barclay', 'Barney', 'Baron', 'Barry', 'Batdog', 'Bauer', 'Baxter',\n",
       "       'Bayley', 'BeBe', 'Bear', 'Beau', 'Beckham', 'Beebop', 'Beemo',\n",
       "       'Bell', 'Bella', 'Belle', 'Ben', 'Benedict', 'Benji', 'Benny',\n",
       "       'Bentley', 'Berb', 'Berkeley', 'Bernie', 'Bert', 'Bertson',\n",
       "       'Betty', 'Beya', 'Biden', 'Bilbo', 'Billl', 'Billy', 'Binky',\n",
       "       'Birf', 'Bisquick', 'Blakely', 'Blanket', 'Blipson', 'Blitz',\n",
       "       'Bloo', 'Bloop', 'Blu', 'Blue', 'Bluebert', 'Bo', 'Bob', 'Bobb',\n",
       "       'Bobbay', 'Bobble', 'Bobby', 'Bode', 'Bodie', 'Bonaparte', 'Bones',\n",
       "       'Bookstore', 'Boomer', 'Boots', 'Boston', 'Bowie', 'Brad',\n",
       "       'Bradlay', 'Bradley', 'Brady', 'Brandi', 'Brandonald', 'Brandy',\n",
       "       'Brat', 'Brian', 'Brockly', 'Brody', 'Bronte', 'Brooks', 'Brownie',\n",
       "       'Bruce', 'Brudge', 'Bruiser', 'Bruno', 'Brutus', 'Bubba',\n",
       "       'Bubbles', 'Buckley', 'Buddah', 'Buddy', 'Bungalo', 'Burt',\n",
       "       'Butter', 'Butters', 'Cal', 'Calbert', 'Cali', 'Callie', 'Calvin',\n",
       "       'Canela', 'Cannon', 'Carbon', 'Carl', 'Carll', 'Carly', 'Carper',\n",
       "       'Carter', 'Caryl', 'Cash', 'Cassie', 'CeCe', 'Cecil', 'Cedrick',\n",
       "       'Cermet', 'Chadrick', 'Champ', 'Charl', 'Charles', 'Charleson',\n",
       "       'Charlie', 'Chase', 'Chaz', 'Cheesy', 'Chef', 'Chelsea', 'Cheryl',\n",
       "       'Chesney', 'Chester', 'Chesterson', 'Chet', 'Chevy', 'Chip',\n",
       "       'Chipson', 'Chloe', 'Chompsky', 'Christoper', 'Chubbs', 'Chuck',\n",
       "       'Chuckles', 'Chuq', 'Churlie', 'Cilantro', 'Clarence', 'Clark',\n",
       "       'Clarkus', 'Clarq', 'Claude', 'Cleopatricia', 'Clifford', 'Clybe',\n",
       "       'Clyde', 'Coco', 'Cody', 'Colby', 'Coleman', 'Colin', 'Combo',\n",
       "       'Comet', 'Cooper', 'Coops', 'Coopson', 'Cora', 'Corey', 'Covach',\n",
       "       'Craig', 'Crawford', 'Creg', 'Crimson', 'Crouton', 'Crumpet',\n",
       "       'Crystal', 'Cuddles', 'Cupcake', 'Cupid', 'Curtis', 'Daisy',\n",
       "       'Dakota', 'Dale', 'Dallas', 'Damon', 'Daniel', 'Danny', 'Dante',\n",
       "       'Darby', 'Darla', 'Darrel', 'Dash', 'Dave', 'Davey', 'Dawn',\n",
       "       'DayZ', 'Deacon', 'Derby', 'Derek', 'Devón', 'Dewey', 'Dex',\n",
       "       'Dexter', 'Dido', 'Dietrich', 'Diogi', 'Divine', 'Dixie', 'Django',\n",
       "       'Dobby', 'Doc', 'DonDon', 'Donny', 'Doobert', 'Dook', 'Dot',\n",
       "       'Dotsy', 'Doug', 'Duchess', 'Duddles', 'Dudley', 'Dug', 'Duke',\n",
       "       'Dunkin', 'Durg', 'Dutch', 'Dwight', 'Dylan', 'Earl', 'Eazy',\n",
       "       'Ebby', 'Ed', 'Edd', 'Edgar', 'Edmund', 'Eevee', 'Einstein',\n",
       "       'Eleanor', 'Eli', 'Ellie', 'Elliot', 'Emanuel', 'Ember', 'Emma',\n",
       "       'Emmie', 'Emmy', 'Enchilada', 'Erik', 'Eriq', 'Ester', 'Eugene',\n",
       "       'Eve', 'Evy', 'Fabio', 'Farfle', 'Ferg', 'Fido', 'Fiji', 'Fillup',\n",
       "       'Filup', 'Finley', 'Finn', 'Finnegus', 'Fiona', 'Fizz', 'Flash',\n",
       "       'Fletcher', 'Florence', 'Flurpson', 'Flávio', 'Frank', 'Frankie',\n",
       "       'Franklin', 'Franq', 'Fred', 'Freddery', 'Frönq', 'Furzey', 'Fwed',\n",
       "       'Fynn', 'Gabby', 'Gabe', 'Gary', 'General', 'Genevieve', 'Geno',\n",
       "       'Geoff', 'George', 'Georgie', 'Gerald', 'Gerbald', 'Gert',\n",
       "       'Gidget', 'Gilbert', 'Gin', 'Ginger', 'Gizmo', 'Glacier', 'Glenn',\n",
       "       'Godi', 'Godzilla', 'Goliath', 'Goose', 'Gordon', 'Grady', 'Grey',\n",
       "       'Griffin', 'Griswold', 'Grizz', 'Grizzie', 'Grizzwald', 'Gromit',\n",
       "       'Gunner', 'Gus', 'Gustaf', 'Gustav', 'Gòrdón', 'Hall', 'Halo',\n",
       "       'Hammond', 'Hamrick', 'Hank', 'Hanz', 'Happy', 'Harlso', 'Harnold',\n",
       "       'Harold', 'Harper', 'Harrison', 'Harry', 'Harvey', 'Hazel',\n",
       "       'Hector', 'Heinrich', 'Henry', 'Herald', 'Herb', 'Hercules',\n",
       "       'Herm', 'Hermione', 'Hero', 'Herschel', 'Hobbes', 'Holly',\n",
       "       'Horace', 'Howie', 'Hubertson', 'Huck', 'Humphrey', 'Hunter',\n",
       "       'Hurley', 'Huxley', 'Iggy', 'Ike', 'Indie', 'Iroh', 'Ito', 'Ivar',\n",
       "       'Izzy', 'JD', 'Jack', 'Jackie', 'Jackson', 'Jameson', 'Jamesy',\n",
       "       'Jangle', 'Jareld', 'Jarod', 'Jarvis', 'Jaspers', 'Jax', 'Jay',\n",
       "       'Jaycob', 'Jazz', 'Jazzy', 'Jeb', 'Jebberson', 'Jed', 'Jeffrey',\n",
       "       'Jeffri', 'Jeffrie', 'Jennifur', 'Jeph', 'Jeremy', 'Jerome',\n",
       "       'Jerry', 'Jersey', 'Jesse', 'Jessifer', 'Jessiga', 'Jett', 'Jim',\n",
       "       'Jimbo', 'Jiminus', 'Jiminy', 'Jimison', 'Jimothy', 'Jo',\n",
       "       'Jockson', 'Joey', 'Jomathan', 'Jonah', 'Jordy', 'Josep', 'Joshwa',\n",
       "       'Juckson', 'Julio', 'Julius', 'Juno', 'Kaia', 'Kaiya', 'Kallie',\n",
       "       'Kane', 'Kanu', 'Kara', 'Karl', 'Karll', 'Karma', 'Kathmandu',\n",
       "       'Katie', 'Kawhi', 'Kayla', 'Keet', 'Keith', 'Kellogg', 'Ken',\n",
       "       'Kendall', 'Kenneth', 'Kenny', 'Kenzie', 'Keurig', 'Kevin',\n",
       "       'Kevon', 'Kial', 'Kilo', 'Kingsley', 'Kirby', 'Kirk', 'Klein',\n",
       "       'Klevin', 'Kloey', 'Kobe', 'Koda', 'Kody', 'Koko', 'Kollin',\n",
       "       'Kona', 'Kota', 'Kramer', 'Kreg', 'Kreggory', 'Kulet', 'Kuyu',\n",
       "       'Kyle', 'Kyro', 'Lacy', 'Laela', 'Laika', 'Lambeau', 'Lance',\n",
       "       'Larry', 'Lassie', 'Layla', 'Leela', 'Lennon', 'Lenny', 'Lenox',\n",
       "       'Leo', 'Leonard', 'Leonidas', 'Levi', 'Liam', 'Lilah', 'Lili',\n",
       "       'Lilli', 'Lillie', 'Lilly', 'Lily', 'Lincoln', 'Linda', 'Link',\n",
       "       'Linus', 'Lipton', 'Livvie', 'Lizzie', 'Logan', 'Loki', 'Lola',\n",
       "       'Lolo', 'Longfellow', 'Loomis', 'Lorelei', 'Lorenzo', 'Lou',\n",
       "       'Louie', 'Louis', 'Luca', 'Lucia', 'Lucky', 'Lucy', 'Lugan',\n",
       "       'Lulu', 'Luna', 'Lupe', 'Luther', 'Mabel', 'Mac', 'Mack', 'Maddie',\n",
       "       'Maggie', 'Mairi', 'Maisey', 'Major', 'Maks', 'Malcolm', 'Malikai',\n",
       "       'Margo', 'Mark', 'Marlee', 'Marley', 'Marq', 'Marty', 'Marvin',\n",
       "       'Mary', 'Mason', 'Mattie', 'Maude', 'Mauve', 'Max', 'Maxaroni',\n",
       "       'Maximus', 'Maxwell', 'Maya', 'Meatball', 'Meera', 'Meyer', 'Mia',\n",
       "       'Michelangelope', 'Miguel', 'Mike', 'Miley', 'Milky', 'Millie',\n",
       "       'Milo', 'Mimosa', 'Mingus', 'Mister', 'Misty', 'Mitch', 'Mo',\n",
       "       'Moe', 'Mojo', 'Mollie', 'Molly', 'Mona', 'Monkey', 'Monster',\n",
       "       'Monty', 'Moofasa', 'Mookie', 'Moose', 'Moreton', 'Mosby',\n",
       "       'Murphy', 'Mutt', 'Mya', 'Nala', 'Naphaniel', 'Napolean', 'Nelly',\n",
       "       'Neptune', 'Newt', 'Nico', 'Nida', 'Nigel', 'Nimbus', 'Noah',\n",
       "       'Nollie', 'None', 'Noosh', 'Norman', 'Nugget', 'O', 'Oakley',\n",
       "       'Obi', 'Obie', 'Oddie', 'Odie', 'Odin', 'Olaf', 'Ole', 'Olive',\n",
       "       'Oliver', 'Olivia', 'Oliviér', 'Ollie', 'Opal', 'Opie', 'Oreo',\n",
       "       'Orion', 'Oscar', 'Oshie', 'Otis', 'Ozzie', 'Ozzy', 'Pablo',\n",
       "       'Paisley', 'Pancake', 'Panda', 'Patch', 'Patrick', 'Paull',\n",
       "       'Pavlov', 'Pawnd', 'Peaches', 'Peanut', 'Penelope', 'Penny',\n",
       "       'Pepper', 'Percy', 'Perry', 'Pete', 'Petrick', 'Pherb', 'Phil',\n",
       "       'Philbert', 'Philippe', 'Phineas', 'Phred', 'Pickles', 'Pilot',\n",
       "       'Pinot', 'Pip', 'Piper', 'Pippa', 'Pippin', 'Pipsy', 'Pluto',\n",
       "       'Poppy', 'Pubert', 'Puff', 'Pumpkin', 'Pupcasso', 'Quinn', 'Ralf',\n",
       "       'Ralph', 'Ralpher', 'Ralphie', 'Ralphson', 'Ralphus', 'Ralphy',\n",
       "       'Ralphé', 'Rambo', 'Randall', 'Raphael', 'Rascal', 'Raymond',\n",
       "       'Reagan', 'Reese', 'Reggie', 'Reginald', 'Remington', 'Remus',\n",
       "       'Remy', 'Reptar', 'Rey', 'Rhino', 'Richie', 'Ricky', 'Ridley',\n",
       "       'Riley', 'Rilo', 'Rinna', 'River', 'Rizzo', 'Rizzy', 'Robin',\n",
       "       'Rocco', 'Rocky', 'Rodman', 'Rodney', 'Rolf', 'Romeo', 'Ron',\n",
       "       'Ronduh', 'Ronnie', 'Rontu', 'Rooney', 'Roosevelt', 'Rorie',\n",
       "       'Rory', 'Roscoe', 'Rose', 'Rosie', 'Rover', 'Rubio', 'Ruby',\n",
       "       'Rudy', 'Rueben', 'Ruffles', 'Rufio', 'Rufus', 'Rumble', 'Rumpole',\n",
       "       'Rupert', 'Rusty', 'Sadie', 'Sage', 'Sailer', 'Sailor', 'Sam',\n",
       "       'Sammy', 'Sampson', 'Samsom', 'Samson', 'Sandra', 'Sandy', 'Sansa',\n",
       "       'Sarge', 'Saydee', 'Schnitzel', 'Schnozz', 'Scooter', 'Scott',\n",
       "       'Scout', 'Scruffers', 'Seamus', 'Sebastian', 'Sephie', 'Severus',\n",
       "       'Shadoe', 'Shadow', 'Shaggy', 'Shakespeare', 'Shawwn', 'Shelby',\n",
       "       'Shikha', 'Shiloh', 'Shnuggles', 'Shooter', 'Siba', 'Sid',\n",
       "       'Sierra', 'Simba', 'Skittle', 'Skittles', 'Sky', 'Skye', 'Smiley',\n",
       "       'Smokey', 'Snickers', 'Snicku', 'Snoop', 'Snoopy', 'Sobe', 'Socks',\n",
       "       'Sojourner', 'Solomon', 'Sonny', 'Sophie', 'Sora', 'Spanky',\n",
       "       'Spark', 'Sparky', 'Spencer', 'Sprinkles', 'Sprout', 'Staniel',\n",
       "       'Stanley', 'Stark', 'Stefan', 'Stella', 'Stephan', 'Stephanus',\n",
       "       'Steve', 'Steven', 'Stewie', 'Storkson', 'Stormy', 'Strider',\n",
       "       'Striker', 'Strudel', 'Stu', 'Stuart', 'Stubert', 'Sugar', 'Suki',\n",
       "       'Sully', 'Sundance', 'Sunny', 'Sunshine', 'Superpup', 'Swagger',\n",
       "       'Sweet', 'Sweets', 'Taco', 'Tango', 'Tanner', 'Tassy', 'Tater',\n",
       "       'Tayzie', 'Taz', 'Tebow', 'Ted', 'Tedders', 'Teddy', 'Tedrick',\n",
       "       'Terrance', 'Terrenth', 'Terry', 'Tess', 'Tessa', 'Theo',\n",
       "       'Theodore', 'Thor', 'Thumas', 'Tiger', 'Tilly', 'Timber',\n",
       "       'Timison', 'Timmy', 'Timofy', 'Tino', 'Titan', 'Tito', 'Tobi',\n",
       "       'Toby', 'Todo', 'Toffee', 'Tom', 'Tommy', 'Tonks', 'Torque',\n",
       "       'Tove', 'Travis', 'Traviss', 'Trevith', 'Trigger', 'Trip', 'Tripp',\n",
       "       'Trooper', 'Tuck', 'Tucker', 'Tuco', 'Tug', 'Tupawc', 'Tycho',\n",
       "       'Tyr', 'Tyrone', 'Tyrus', 'Ulysses', 'Venti', 'Vince', 'Vincent',\n",
       "       'Vinnie', 'Vinscent', 'Vixen', 'Wafer', 'Waffles', 'Walker',\n",
       "       'Wallace', 'Wally', 'Walter', 'Watson', 'Wesley', 'Wiggles',\n",
       "       'Willem', 'William', 'Willie', 'Willow', 'Willy', 'Wilson',\n",
       "       'Winifred', 'Winnie', 'Winston', 'Wishes', 'Wyatt', 'Yoda', 'Yogi',\n",
       "       'Yukon', 'Zara', 'Zeek', 'Zeke', 'Zeus', 'Ziva', 'Zoe', 'Zoey',\n",
       "       'Zooey', 'Zuzu', 'a', 'actually', 'all', 'an', 'by', 'getting',\n",
       "       'his', 'incredibly', 'infuriating', 'just', 'life', 'light', 'mad',\n",
       "       'my', 'not', 'officially', 'old', 'one', 'quite', 'space', 'such',\n",
       "       'the', 'this', 'unacceptable', 'very'], dtype=object)"
      ]
     },
     "execution_count": 90,
     "metadata": {},
     "output_type": "execute_result"
    }
   ],
   "source": [
    "dog_names"
   ]
  },
  {
   "cell_type": "markdown",
   "metadata": {},
   "source": [
    "### Quality Issues\n",
    "* in_reply_to_status_id, in_reply_to_user_id, retweeted_status_id , retweeted_status_user_id, retweeted_status_timestamp, expanded_urls have missing values.\n",
    "* 'infuriating', 'just', 'life', 'light', 'mad', 'my', 'not', 'officially', 'old', 'one', 'quite', 'space', 'such', 'the', 'this', 'unacceptable', 'very' -> inappropriate names for dogs\n",
    "* Missing values in doggo, floofer, pupper , puppo are None instead of NaN\n",
    "* Information of text is truncated to 50 characters.\n",
    "* timestamp and retweeted_status_timestamp must be of datetime\n",
    "* in_reply_to_status_id, in_reply_to_user_id, retweeted_status_id, retweeted_status_user_id must be integers\n",
    "* rating_numerator and rating_denominator have some incosistent values in the numerator and denominator\n",
    "* tweet id 835246439529840640 has a rating of denominator = 0"
   ]
  },
  {
   "cell_type": "markdown",
   "metadata": {},
   "source": [
    "### Tidiness Issues\n",
    "* We need to join all dataframes to get a final dataframe because some columns are present in more than 1 table.\n",
    "* Dog stages are found in multiple columns."
   ]
  },
  {
   "cell_type": "markdown",
   "metadata": {},
   "source": [
    "Assesing tweets_df - >"
   ]
  },
  {
   "cell_type": "code",
   "execution_count": 91,
   "metadata": {},
   "outputs": [
    {
     "data": {
      "text/html": [
       "<div>\n",
       "<style scoped>\n",
       "    .dataframe tbody tr th:only-of-type {\n",
       "        vertical-align: middle;\n",
       "    }\n",
       "\n",
       "    .dataframe tbody tr th {\n",
       "        vertical-align: top;\n",
       "    }\n",
       "\n",
       "    .dataframe thead th {\n",
       "        text-align: right;\n",
       "    }\n",
       "</style>\n",
       "<table border=\"1\" class=\"dataframe\">\n",
       "  <thead>\n",
       "    <tr style=\"text-align: right;\">\n",
       "      <th></th>\n",
       "      <th>tweet_id</th>\n",
       "      <th>retweets</th>\n",
       "      <th>favorites</th>\n",
       "      <th>followers</th>\n",
       "      <th>friends</th>\n",
       "    </tr>\n",
       "  </thead>\n",
       "  <tbody>\n",
       "    <tr>\n",
       "      <th>0</th>\n",
       "      <td>892420643555336193</td>\n",
       "      <td>7724</td>\n",
       "      <td>36281</td>\n",
       "      <td>8779938</td>\n",
       "      <td>16</td>\n",
       "    </tr>\n",
       "    <tr>\n",
       "      <th>1</th>\n",
       "      <td>892177421306343426</td>\n",
       "      <td>5711</td>\n",
       "      <td>31272</td>\n",
       "      <td>8779938</td>\n",
       "      <td>16</td>\n",
       "    </tr>\n",
       "    <tr>\n",
       "      <th>2</th>\n",
       "      <td>891815181378084864</td>\n",
       "      <td>3786</td>\n",
       "      <td>23543</td>\n",
       "      <td>8779938</td>\n",
       "      <td>16</td>\n",
       "    </tr>\n",
       "    <tr>\n",
       "      <th>3</th>\n",
       "      <td>891689557279858688</td>\n",
       "      <td>7870</td>\n",
       "      <td>39552</td>\n",
       "      <td>8779938</td>\n",
       "      <td>16</td>\n",
       "    </tr>\n",
       "    <tr>\n",
       "      <th>4</th>\n",
       "      <td>891327558926688256</td>\n",
       "      <td>8496</td>\n",
       "      <td>37761</td>\n",
       "      <td>8779938</td>\n",
       "      <td>16</td>\n",
       "    </tr>\n",
       "  </tbody>\n",
       "</table>\n",
       "</div>"
      ],
      "text/plain": [
       "             tweet_id  retweets  favorites  followers  friends\n",
       "0  892420643555336193      7724      36281    8779938       16\n",
       "1  892177421306343426      5711      31272    8779938       16\n",
       "2  891815181378084864      3786      23543    8779938       16\n",
       "3  891689557279858688      7870      39552    8779938       16\n",
       "4  891327558926688256      8496      37761    8779938       16"
      ]
     },
     "execution_count": 91,
     "metadata": {},
     "output_type": "execute_result"
    }
   ],
   "source": [
    "tweets_df.head(5)"
   ]
  },
  {
   "cell_type": "code",
   "execution_count": 92,
   "metadata": {},
   "outputs": [
    {
     "data": {
      "text/plain": [
       "Index(['tweet_id', 'retweets', 'favorites', 'followers', 'friends'], dtype='object')"
      ]
     },
     "execution_count": 92,
     "metadata": {},
     "output_type": "execute_result"
    }
   ],
   "source": [
    "tweets_df.columns"
   ]
  },
  {
   "cell_type": "code",
   "execution_count": 93,
   "metadata": {},
   "outputs": [
    {
     "data": {
      "text/html": [
       "<div>\n",
       "<style scoped>\n",
       "    .dataframe tbody tr th:only-of-type {\n",
       "        vertical-align: middle;\n",
       "    }\n",
       "\n",
       "    .dataframe tbody tr th {\n",
       "        vertical-align: top;\n",
       "    }\n",
       "\n",
       "    .dataframe thead th {\n",
       "        text-align: right;\n",
       "    }\n",
       "</style>\n",
       "<table border=\"1\" class=\"dataframe\">\n",
       "  <thead>\n",
       "    <tr style=\"text-align: right;\">\n",
       "      <th></th>\n",
       "      <th>retweets</th>\n",
       "      <th>favorites</th>\n",
       "      <th>followers</th>\n",
       "      <th>friends</th>\n",
       "    </tr>\n",
       "  </thead>\n",
       "  <tbody>\n",
       "    <tr>\n",
       "      <th>count</th>\n",
       "      <td>2331.000000</td>\n",
       "      <td>2331.000000</td>\n",
       "      <td>2.331000e+03</td>\n",
       "      <td>2331.0</td>\n",
       "    </tr>\n",
       "    <tr>\n",
       "      <th>mean</th>\n",
       "      <td>2709.460317</td>\n",
       "      <td>7573.655084</td>\n",
       "      <td>8.779965e+06</td>\n",
       "      <td>16.0</td>\n",
       "    </tr>\n",
       "    <tr>\n",
       "      <th>std</th>\n",
       "      <td>4582.082775</td>\n",
       "      <td>11753.262997</td>\n",
       "      <td>7.096430e+01</td>\n",
       "      <td>0.0</td>\n",
       "    </tr>\n",
       "    <tr>\n",
       "      <th>min</th>\n",
       "      <td>1.000000</td>\n",
       "      <td>0.000000</td>\n",
       "      <td>8.779374e+06</td>\n",
       "      <td>16.0</td>\n",
       "    </tr>\n",
       "    <tr>\n",
       "      <th>25%</th>\n",
       "      <td>548.500000</td>\n",
       "      <td>1320.500000</td>\n",
       "      <td>8.779950e+06</td>\n",
       "      <td>16.0</td>\n",
       "    </tr>\n",
       "    <tr>\n",
       "      <th>50%</th>\n",
       "      <td>1271.000000</td>\n",
       "      <td>3298.000000</td>\n",
       "      <td>8.779972e+06</td>\n",
       "      <td>16.0</td>\n",
       "    </tr>\n",
       "    <tr>\n",
       "      <th>75%</th>\n",
       "      <td>3148.000000</td>\n",
       "      <td>9271.000000</td>\n",
       "      <td>8.779992e+06</td>\n",
       "      <td>16.0</td>\n",
       "    </tr>\n",
       "    <tr>\n",
       "      <th>max</th>\n",
       "      <td>77979.000000</td>\n",
       "      <td>156469.000000</td>\n",
       "      <td>8.780009e+06</td>\n",
       "      <td>16.0</td>\n",
       "    </tr>\n",
       "  </tbody>\n",
       "</table>\n",
       "</div>"
      ],
      "text/plain": [
       "           retweets      favorites     followers  friends\n",
       "count   2331.000000    2331.000000  2.331000e+03   2331.0\n",
       "mean    2709.460317    7573.655084  8.779965e+06     16.0\n",
       "std     4582.082775   11753.262997  7.096430e+01      0.0\n",
       "min        1.000000       0.000000  8.779374e+06     16.0\n",
       "25%      548.500000    1320.500000  8.779950e+06     16.0\n",
       "50%     1271.000000    3298.000000  8.779972e+06     16.0\n",
       "75%     3148.000000    9271.000000  8.779992e+06     16.0\n",
       "max    77979.000000  156469.000000  8.780009e+06     16.0"
      ]
     },
     "execution_count": 93,
     "metadata": {},
     "output_type": "execute_result"
    }
   ],
   "source": [
    "tweets_df.describe()"
   ]
  },
  {
   "cell_type": "code",
   "execution_count": 94,
   "metadata": {},
   "outputs": [
    {
     "name": "stdout",
     "output_type": "stream",
     "text": [
      "<class 'pandas.core.frame.DataFrame'>\n",
      "RangeIndex: 2331 entries, 0 to 2330\n",
      "Data columns (total 5 columns):\n",
      " #   Column     Non-Null Count  Dtype \n",
      "---  ------     --------------  ----- \n",
      " 0   tweet_id   2331 non-null   object\n",
      " 1   retweets   2331 non-null   int64 \n",
      " 2   favorites  2331 non-null   int64 \n",
      " 3   followers  2331 non-null   int64 \n",
      " 4   friends    2331 non-null   int64 \n",
      "dtypes: int64(4), object(1)\n",
      "memory usage: 91.2+ KB\n"
     ]
    }
   ],
   "source": [
    "tweets_df.info()"
   ]
  },
  {
   "cell_type": "code",
   "execution_count": 95,
   "metadata": {},
   "outputs": [
    {
     "data": {
      "text/plain": [
       "tweet_id     0\n",
       "retweets     0\n",
       "favorites    0\n",
       "followers    0\n",
       "friends      0\n",
       "dtype: int64"
      ]
     },
     "execution_count": 95,
     "metadata": {},
     "output_type": "execute_result"
    }
   ],
   "source": [
    "tweets_df.isnull().sum()"
   ]
  },
  {
   "cell_type": "markdown",
   "metadata": {},
   "source": [
    "### Quality Issues \n",
    "* 14 tweet id information is missing"
   ]
  },
  {
   "cell_type": "markdown",
   "metadata": {},
   "source": [
    "### Tidiness Issues\n",
    "* Retweets and favourites must join with the df table"
   ]
  },
  {
   "cell_type": "markdown",
   "metadata": {},
   "source": [
    "Assessing image_predictions_df ->"
   ]
  },
  {
   "cell_type": "code",
   "execution_count": 96,
   "metadata": {},
   "outputs": [
    {
     "data": {
      "text/html": [
       "<div>\n",
       "<style scoped>\n",
       "    .dataframe tbody tr th:only-of-type {\n",
       "        vertical-align: middle;\n",
       "    }\n",
       "\n",
       "    .dataframe tbody tr th {\n",
       "        vertical-align: top;\n",
       "    }\n",
       "\n",
       "    .dataframe thead th {\n",
       "        text-align: right;\n",
       "    }\n",
       "</style>\n",
       "<table border=\"1\" class=\"dataframe\">\n",
       "  <thead>\n",
       "    <tr style=\"text-align: right;\">\n",
       "      <th></th>\n",
       "      <th>tweet_id</th>\n",
       "      <th>jpg_url</th>\n",
       "      <th>img_num</th>\n",
       "      <th>p1</th>\n",
       "      <th>p1_conf</th>\n",
       "      <th>p1_dog</th>\n",
       "      <th>p2</th>\n",
       "      <th>p2_conf</th>\n",
       "      <th>p2_dog</th>\n",
       "      <th>p3</th>\n",
       "      <th>p3_conf</th>\n",
       "      <th>p3_dog</th>\n",
       "    </tr>\n",
       "  </thead>\n",
       "  <tbody>\n",
       "    <tr>\n",
       "      <th>0</th>\n",
       "      <td>666020888022790149</td>\n",
       "      <td>https://pbs.twimg.com/media/CT4udn0WwAA0aMy.jpg</td>\n",
       "      <td>1</td>\n",
       "      <td>Welsh_springer_spaniel</td>\n",
       "      <td>0.465074</td>\n",
       "      <td>True</td>\n",
       "      <td>collie</td>\n",
       "      <td>0.156665</td>\n",
       "      <td>True</td>\n",
       "      <td>Shetland_sheepdog</td>\n",
       "      <td>0.061428</td>\n",
       "      <td>True</td>\n",
       "    </tr>\n",
       "    <tr>\n",
       "      <th>1</th>\n",
       "      <td>666029285002620928</td>\n",
       "      <td>https://pbs.twimg.com/media/CT42GRgUYAA5iDo.jpg</td>\n",
       "      <td>1</td>\n",
       "      <td>redbone</td>\n",
       "      <td>0.506826</td>\n",
       "      <td>True</td>\n",
       "      <td>miniature_pinscher</td>\n",
       "      <td>0.074192</td>\n",
       "      <td>True</td>\n",
       "      <td>Rhodesian_ridgeback</td>\n",
       "      <td>0.072010</td>\n",
       "      <td>True</td>\n",
       "    </tr>\n",
       "  </tbody>\n",
       "</table>\n",
       "</div>"
      ],
      "text/plain": [
       "             tweet_id                                          jpg_url  \\\n",
       "0  666020888022790149  https://pbs.twimg.com/media/CT4udn0WwAA0aMy.jpg   \n",
       "1  666029285002620928  https://pbs.twimg.com/media/CT42GRgUYAA5iDo.jpg   \n",
       "\n",
       "   img_num                      p1   p1_conf  p1_dog                  p2  \\\n",
       "0        1  Welsh_springer_spaniel  0.465074    True              collie   \n",
       "1        1                 redbone  0.506826    True  miniature_pinscher   \n",
       "\n",
       "    p2_conf  p2_dog                   p3   p3_conf  p3_dog  \n",
       "0  0.156665    True    Shetland_sheepdog  0.061428    True  \n",
       "1  0.074192    True  Rhodesian_ridgeback  0.072010    True  "
      ]
     },
     "execution_count": 96,
     "metadata": {},
     "output_type": "execute_result"
    }
   ],
   "source": [
    "image_predictions_df.head(2)"
   ]
  },
  {
   "cell_type": "code",
   "execution_count": 97,
   "metadata": {},
   "outputs": [
    {
     "data": {
      "text/plain": [
       "(2075, 12)"
      ]
     },
     "execution_count": 97,
     "metadata": {},
     "output_type": "execute_result"
    }
   ],
   "source": [
    "image_predictions_df.shape"
   ]
  },
  {
   "cell_type": "code",
   "execution_count": 98,
   "metadata": {},
   "outputs": [
    {
     "data": {
      "text/plain": [
       "Index(['tweet_id', 'jpg_url', 'img_num', 'p1', 'p1_conf', 'p1_dog', 'p2',\n",
       "       'p2_conf', 'p2_dog', 'p3', 'p3_conf', 'p3_dog'],\n",
       "      dtype='object')"
      ]
     },
     "execution_count": 98,
     "metadata": {},
     "output_type": "execute_result"
    }
   ],
   "source": [
    "image_predictions_df.columns"
   ]
  },
  {
   "cell_type": "markdown",
   "metadata": {},
   "source": [
    "### Explanation \n",
    "\n",
    "* p1: p1 is the algorithm's #1 prediction for the image in the tweet\n",
    "* p1_conf: p1_conf is how confident the algorithm is in its #1 prediction\n",
    "* p1_dog: p1_dog is whether or not the #1 prediction is a breed of dog\n",
    "* p2: is the algorithm's second most likely prediction\n",
    "* p2_conf: is how confident the algorithm is in its #2 prediction\n",
    "* p2_dog: is whether or not the #2 prediction is a breed of dog\n",
    "* p3: p3 is the algorithm's #3 prediction for the image in the tweet\n",
    "* p3_conf: p3_conf is how confident the algorithm is in its #3 prediction\n",
    "* p3_dog: p3_dog is whether or not the #3 prediction is a breed of dog"
   ]
  },
  {
   "cell_type": "code",
   "execution_count": 99,
   "metadata": {},
   "outputs": [
    {
     "name": "stdout",
     "output_type": "stream",
     "text": [
      "<class 'pandas.core.frame.DataFrame'>\n",
      "RangeIndex: 2075 entries, 0 to 2074\n",
      "Data columns (total 12 columns):\n",
      " #   Column    Non-Null Count  Dtype  \n",
      "---  ------    --------------  -----  \n",
      " 0   tweet_id  2075 non-null   int64  \n",
      " 1   jpg_url   2075 non-null   object \n",
      " 2   img_num   2075 non-null   int64  \n",
      " 3   p1        2075 non-null   object \n",
      " 4   p1_conf   2075 non-null   float64\n",
      " 5   p1_dog    2075 non-null   bool   \n",
      " 6   p2        2075 non-null   object \n",
      " 7   p2_conf   2075 non-null   float64\n",
      " 8   p2_dog    2075 non-null   bool   \n",
      " 9   p3        2075 non-null   object \n",
      " 10  p3_conf   2075 non-null   float64\n",
      " 11  p3_dog    2075 non-null   bool   \n",
      "dtypes: bool(3), float64(3), int64(2), object(4)\n",
      "memory usage: 152.1+ KB\n"
     ]
    }
   ],
   "source": [
    "image_predictions_df.info()"
   ]
  },
  {
   "cell_type": "code",
   "execution_count": 100,
   "metadata": {},
   "outputs": [
    {
     "data": {
      "text/plain": [
       "tweet_id    0\n",
       "jpg_url     0\n",
       "img_num     0\n",
       "p1          0\n",
       "p1_conf     0\n",
       "p1_dog      0\n",
       "p2          0\n",
       "p2_conf     0\n",
       "p2_dog      0\n",
       "p3          0\n",
       "p3_conf     0\n",
       "p3_dog      0\n",
       "dtype: int64"
      ]
     },
     "execution_count": 100,
     "metadata": {},
     "output_type": "execute_result"
    }
   ],
   "source": [
    "image_predictions_df.isnull().sum()"
   ]
  },
  {
   "cell_type": "markdown",
   "metadata": {},
   "source": [
    "### Quality Issues\n",
    "* only 2075 tweetIds have images"
   ]
  },
  {
   "cell_type": "markdown",
   "metadata": {},
   "source": [
    "### Tidiness Issues\n",
    "* All the prediction outputs from different algorithms have to be joined with df, becuase all the information is already found there."
   ]
  },
  {
   "cell_type": "markdown",
   "metadata": {},
   "source": [
    "# Cleaning Data"
   ]
  },
  {
   "cell_type": "markdown",
   "metadata": {},
   "source": [
    "Creation of copy of dataframes ->"
   ]
  },
  {
   "cell_type": "code",
   "execution_count": 101,
   "metadata": {},
   "outputs": [
    {
     "data": {
      "text/plain": [
       "(2356, 17)"
      ]
     },
     "execution_count": 101,
     "metadata": {},
     "output_type": "execute_result"
    }
   ],
   "source": [
    "df.shape"
   ]
  },
  {
   "cell_type": "code",
   "execution_count": 128,
   "metadata": {},
   "outputs": [],
   "source": [
    "df_clean = df.copy()\n",
    "tweets_clean = tweets_df.copy()\n",
    "img_clean = image_predictions_df.copy()"
   ]
  },
  {
   "cell_type": "code",
   "execution_count": 129,
   "metadata": {},
   "outputs": [
    {
     "data": {
      "text/plain": [
       "(2356, 17)"
      ]
     },
     "execution_count": 129,
     "metadata": {},
     "output_type": "execute_result"
    }
   ],
   "source": [
    "df_clean.shape"
   ]
  },
  {
   "cell_type": "code",
   "execution_count": 130,
   "metadata": {},
   "outputs": [
    {
     "name": "stdout",
     "output_type": "stream",
     "text": [
      "<class 'pandas.core.frame.DataFrame'>\n",
      "RangeIndex: 2356 entries, 0 to 2355\n",
      "Data columns (total 17 columns):\n",
      " #   Column                      Non-Null Count  Dtype  \n",
      "---  ------                      --------------  -----  \n",
      " 0   tweet_id                    2356 non-null   int64  \n",
      " 1   in_reply_to_status_id       78 non-null     float64\n",
      " 2   in_reply_to_user_id         78 non-null     float64\n",
      " 3   timestamp                   2356 non-null   object \n",
      " 4   source                      2356 non-null   object \n",
      " 5   text                        2356 non-null   object \n",
      " 6   retweeted_status_id         181 non-null    float64\n",
      " 7   retweeted_status_user_id    181 non-null    float64\n",
      " 8   retweeted_status_timestamp  181 non-null    object \n",
      " 9   expanded_urls               2297 non-null   object \n",
      " 10  rating_numerator            2356 non-null   int64  \n",
      " 11  rating_denominator          2356 non-null   int64  \n",
      " 12  name                        2356 non-null   object \n",
      " 13  doggo                       2356 non-null   object \n",
      " 14  floofer                     2356 non-null   object \n",
      " 15  pupper                      2356 non-null   object \n",
      " 16  puppo                       2356 non-null   object \n",
      "dtypes: float64(4), int64(3), object(10)\n",
      "memory usage: 313.0+ KB\n"
     ]
    }
   ],
   "source": [
    "df_clean.info()"
   ]
  },
  {
   "cell_type": "code",
   "execution_count": 131,
   "metadata": {},
   "outputs": [
    {
     "data": {
      "text/plain": [
       "(2356, 17)"
      ]
     },
     "execution_count": 131,
     "metadata": {},
     "output_type": "execute_result"
    }
   ],
   "source": [
    "df_clean.shape"
   ]
  },
  {
   "cell_type": "code",
   "execution_count": 132,
   "metadata": {},
   "outputs": [
    {
     "name": "stdout",
     "output_type": "stream",
     "text": [
      "<class 'pandas.core.frame.DataFrame'>\n",
      "RangeIndex: 2331 entries, 0 to 2330\n",
      "Data columns (total 5 columns):\n",
      " #   Column     Non-Null Count  Dtype \n",
      "---  ------     --------------  ----- \n",
      " 0   tweet_id   2331 non-null   object\n",
      " 1   retweets   2331 non-null   int64 \n",
      " 2   favorites  2331 non-null   int64 \n",
      " 3   followers  2331 non-null   int64 \n",
      " 4   friends    2331 non-null   int64 \n",
      "dtypes: int64(4), object(1)\n",
      "memory usage: 91.2+ KB\n"
     ]
    }
   ],
   "source": [
    "tweets_clean.info()"
   ]
  },
  {
   "cell_type": "code",
   "execution_count": 133,
   "metadata": {},
   "outputs": [
    {
     "data": {
      "text/plain": [
       "(2356, 17)"
      ]
     },
     "execution_count": 133,
     "metadata": {},
     "output_type": "execute_result"
    }
   ],
   "source": [
    "df.shape"
   ]
  },
  {
   "cell_type": "code",
   "execution_count": 134,
   "metadata": {},
   "outputs": [
    {
     "name": "stdout",
     "output_type": "stream",
     "text": [
      "<class 'pandas.core.frame.DataFrame'>\n",
      "RangeIndex: 2075 entries, 0 to 2074\n",
      "Data columns (total 12 columns):\n",
      " #   Column    Non-Null Count  Dtype  \n",
      "---  ------    --------------  -----  \n",
      " 0   tweet_id  2075 non-null   int64  \n",
      " 1   jpg_url   2075 non-null   object \n",
      " 2   img_num   2075 non-null   int64  \n",
      " 3   p1        2075 non-null   object \n",
      " 4   p1_conf   2075 non-null   float64\n",
      " 5   p1_dog    2075 non-null   bool   \n",
      " 6   p2        2075 non-null   object \n",
      " 7   p2_conf   2075 non-null   float64\n",
      " 8   p2_dog    2075 non-null   bool   \n",
      " 9   p3        2075 non-null   object \n",
      " 10  p3_conf   2075 non-null   float64\n",
      " 11  p3_dog    2075 non-null   bool   \n",
      "dtypes: bool(3), float64(3), int64(2), object(4)\n",
      "memory usage: 152.1+ KB\n"
     ]
    }
   ],
   "source": [
    "img_clean.info()"
   ]
  },
  {
   "cell_type": "markdown",
   "metadata": {},
   "source": [
    "Convert data type of tweet id to string ->"
   ]
  },
  {
   "cell_type": "code",
   "execution_count": 135,
   "metadata": {},
   "outputs": [],
   "source": [
    "df_clean['tweet_id'] = df_clean['tweet_id'].astype(str)\n",
    "img_clean['tweet_id'] = img_clean['tweet_id'].astype(str)"
   ]
  },
  {
   "cell_type": "code",
   "execution_count": 136,
   "metadata": {},
   "outputs": [
    {
     "data": {
      "text/plain": [
       "(2356, 17)"
      ]
     },
     "execution_count": 136,
     "metadata": {},
     "output_type": "execute_result"
    }
   ],
   "source": [
    "df_clean.shape"
   ]
  },
  {
   "cell_type": "code",
   "execution_count": 137,
   "metadata": {},
   "outputs": [
    {
     "data": {
      "text/plain": [
       "tweet_id                       object\n",
       "in_reply_to_status_id         float64\n",
       "in_reply_to_user_id           float64\n",
       "timestamp                      object\n",
       "source                         object\n",
       "text                           object\n",
       "retweeted_status_id           float64\n",
       "retweeted_status_user_id      float64\n",
       "retweeted_status_timestamp     object\n",
       "expanded_urls                  object\n",
       "rating_numerator                int64\n",
       "rating_denominator              int64\n",
       "name                           object\n",
       "doggo                          object\n",
       "floofer                        object\n",
       "pupper                         object\n",
       "puppo                          object\n",
       "dtype: object"
      ]
     },
     "execution_count": 137,
     "metadata": {},
     "output_type": "execute_result"
    }
   ],
   "source": [
    "df_clean.dtypes"
   ]
  },
  {
   "cell_type": "code",
   "execution_count": 138,
   "metadata": {},
   "outputs": [
    {
     "data": {
      "text/plain": [
       "tweet_id     object\n",
       "jpg_url      object\n",
       "img_num       int64\n",
       "p1           object\n",
       "p1_conf     float64\n",
       "p1_dog         bool\n",
       "p2           object\n",
       "p2_conf     float64\n",
       "p2_dog         bool\n",
       "p3           object\n",
       "p3_conf     float64\n",
       "p3_dog         bool\n",
       "dtype: object"
      ]
     },
     "execution_count": 138,
     "metadata": {},
     "output_type": "execute_result"
    }
   ],
   "source": [
    "img_clean.dtypes"
   ]
  },
  {
   "cell_type": "markdown",
   "metadata": {},
   "source": [
    "Creation of a dataset by combining all the 3 tables on the basis of tweet id ->"
   ]
  },
  {
   "cell_type": "code",
   "execution_count": 139,
   "metadata": {},
   "outputs": [
    {
     "data": {
      "text/plain": [
       "(2356, 17)"
      ]
     },
     "execution_count": 139,
     "metadata": {},
     "output_type": "execute_result"
    }
   ],
   "source": [
    "df_clean.shape"
   ]
  },
  {
   "cell_type": "code",
   "execution_count": 140,
   "metadata": {},
   "outputs": [],
   "source": [
    "df_clean=pd.merge(df_clean,tweets_clean,how=\"inner\",on='tweet_id')"
   ]
  },
  {
   "cell_type": "code",
   "execution_count": 141,
   "metadata": {},
   "outputs": [
    {
     "data": {
      "text/plain": [
       "(2331, 5)"
      ]
     },
     "execution_count": 141,
     "metadata": {},
     "output_type": "execute_result"
    }
   ],
   "source": [
    "tweets_df.shape"
   ]
  },
  {
   "cell_type": "code",
   "execution_count": 142,
   "metadata": {},
   "outputs": [
    {
     "data": {
      "text/plain": [
       "(2331, 21)"
      ]
     },
     "execution_count": 142,
     "metadata": {},
     "output_type": "execute_result"
    }
   ],
   "source": [
    "df_clean.shape"
   ]
  },
  {
   "cell_type": "code",
   "execution_count": 143,
   "metadata": {},
   "outputs": [],
   "source": [
    "df_clean=pd.merge(df_clean,img_clean,how=\"inner\",on='tweet_id')"
   ]
  },
  {
   "cell_type": "code",
   "execution_count": 144,
   "metadata": {},
   "outputs": [
    {
     "data": {
      "text/html": [
       "<div>\n",
       "<style scoped>\n",
       "    .dataframe tbody tr th:only-of-type {\n",
       "        vertical-align: middle;\n",
       "    }\n",
       "\n",
       "    .dataframe tbody tr th {\n",
       "        vertical-align: top;\n",
       "    }\n",
       "\n",
       "    .dataframe thead th {\n",
       "        text-align: right;\n",
       "    }\n",
       "</style>\n",
       "<table border=\"1\" class=\"dataframe\">\n",
       "  <thead>\n",
       "    <tr style=\"text-align: right;\">\n",
       "      <th></th>\n",
       "      <th>tweet_id</th>\n",
       "      <th>in_reply_to_status_id</th>\n",
       "      <th>in_reply_to_user_id</th>\n",
       "      <th>timestamp</th>\n",
       "      <th>source</th>\n",
       "      <th>text</th>\n",
       "      <th>retweeted_status_id</th>\n",
       "      <th>retweeted_status_user_id</th>\n",
       "      <th>retweeted_status_timestamp</th>\n",
       "      <th>expanded_urls</th>\n",
       "      <th>...</th>\n",
       "      <th>img_num</th>\n",
       "      <th>p1</th>\n",
       "      <th>p1_conf</th>\n",
       "      <th>p1_dog</th>\n",
       "      <th>p2</th>\n",
       "      <th>p2_conf</th>\n",
       "      <th>p2_dog</th>\n",
       "      <th>p3</th>\n",
       "      <th>p3_conf</th>\n",
       "      <th>p3_dog</th>\n",
       "    </tr>\n",
       "  </thead>\n",
       "  <tbody>\n",
       "    <tr>\n",
       "      <th>0</th>\n",
       "      <td>892420643555336193</td>\n",
       "      <td>NaN</td>\n",
       "      <td>NaN</td>\n",
       "      <td>2017-08-01 16:23:56 +0000</td>\n",
       "      <td>&lt;a href=\"http://twitter.com/download/iphone\" r...</td>\n",
       "      <td>This is Phineas. He's a mystical boy. Only eve...</td>\n",
       "      <td>NaN</td>\n",
       "      <td>NaN</td>\n",
       "      <td>NaN</td>\n",
       "      <td>https://twitter.com/dog_rates/status/892420643...</td>\n",
       "      <td>...</td>\n",
       "      <td>1</td>\n",
       "      <td>orange</td>\n",
       "      <td>0.097049</td>\n",
       "      <td>False</td>\n",
       "      <td>bagel</td>\n",
       "      <td>0.085851</td>\n",
       "      <td>False</td>\n",
       "      <td>banana</td>\n",
       "      <td>0.076110</td>\n",
       "      <td>False</td>\n",
       "    </tr>\n",
       "    <tr>\n",
       "      <th>1</th>\n",
       "      <td>892177421306343426</td>\n",
       "      <td>NaN</td>\n",
       "      <td>NaN</td>\n",
       "      <td>2017-08-01 00:17:27 +0000</td>\n",
       "      <td>&lt;a href=\"http://twitter.com/download/iphone\" r...</td>\n",
       "      <td>This is Tilly. She's just checking pup on you....</td>\n",
       "      <td>NaN</td>\n",
       "      <td>NaN</td>\n",
       "      <td>NaN</td>\n",
       "      <td>https://twitter.com/dog_rates/status/892177421...</td>\n",
       "      <td>...</td>\n",
       "      <td>1</td>\n",
       "      <td>Chihuahua</td>\n",
       "      <td>0.323581</td>\n",
       "      <td>True</td>\n",
       "      <td>Pekinese</td>\n",
       "      <td>0.090647</td>\n",
       "      <td>True</td>\n",
       "      <td>papillon</td>\n",
       "      <td>0.068957</td>\n",
       "      <td>True</td>\n",
       "    </tr>\n",
       "    <tr>\n",
       "      <th>2</th>\n",
       "      <td>891815181378084864</td>\n",
       "      <td>NaN</td>\n",
       "      <td>NaN</td>\n",
       "      <td>2017-07-31 00:18:03 +0000</td>\n",
       "      <td>&lt;a href=\"http://twitter.com/download/iphone\" r...</td>\n",
       "      <td>This is Archie. He is a rare Norwegian Pouncin...</td>\n",
       "      <td>NaN</td>\n",
       "      <td>NaN</td>\n",
       "      <td>NaN</td>\n",
       "      <td>https://twitter.com/dog_rates/status/891815181...</td>\n",
       "      <td>...</td>\n",
       "      <td>1</td>\n",
       "      <td>Chihuahua</td>\n",
       "      <td>0.716012</td>\n",
       "      <td>True</td>\n",
       "      <td>malamute</td>\n",
       "      <td>0.078253</td>\n",
       "      <td>True</td>\n",
       "      <td>kelpie</td>\n",
       "      <td>0.031379</td>\n",
       "      <td>True</td>\n",
       "    </tr>\n",
       "    <tr>\n",
       "      <th>3</th>\n",
       "      <td>891689557279858688</td>\n",
       "      <td>NaN</td>\n",
       "      <td>NaN</td>\n",
       "      <td>2017-07-30 15:58:51 +0000</td>\n",
       "      <td>&lt;a href=\"http://twitter.com/download/iphone\" r...</td>\n",
       "      <td>This is Darla. She commenced a snooze mid meal...</td>\n",
       "      <td>NaN</td>\n",
       "      <td>NaN</td>\n",
       "      <td>NaN</td>\n",
       "      <td>https://twitter.com/dog_rates/status/891689557...</td>\n",
       "      <td>...</td>\n",
       "      <td>1</td>\n",
       "      <td>paper_towel</td>\n",
       "      <td>0.170278</td>\n",
       "      <td>False</td>\n",
       "      <td>Labrador_retriever</td>\n",
       "      <td>0.168086</td>\n",
       "      <td>True</td>\n",
       "      <td>spatula</td>\n",
       "      <td>0.040836</td>\n",
       "      <td>False</td>\n",
       "    </tr>\n",
       "    <tr>\n",
       "      <th>4</th>\n",
       "      <td>891327558926688256</td>\n",
       "      <td>NaN</td>\n",
       "      <td>NaN</td>\n",
       "      <td>2017-07-29 16:00:24 +0000</td>\n",
       "      <td>&lt;a href=\"http://twitter.com/download/iphone\" r...</td>\n",
       "      <td>This is Franklin. He would like you to stop ca...</td>\n",
       "      <td>NaN</td>\n",
       "      <td>NaN</td>\n",
       "      <td>NaN</td>\n",
       "      <td>https://twitter.com/dog_rates/status/891327558...</td>\n",
       "      <td>...</td>\n",
       "      <td>2</td>\n",
       "      <td>basset</td>\n",
       "      <td>0.555712</td>\n",
       "      <td>True</td>\n",
       "      <td>English_springer</td>\n",
       "      <td>0.225770</td>\n",
       "      <td>True</td>\n",
       "      <td>German_short-haired_pointer</td>\n",
       "      <td>0.175219</td>\n",
       "      <td>True</td>\n",
       "    </tr>\n",
       "  </tbody>\n",
       "</table>\n",
       "<p>5 rows × 32 columns</p>\n",
       "</div>"
      ],
      "text/plain": [
       "             tweet_id  in_reply_to_status_id  in_reply_to_user_id  \\\n",
       "0  892420643555336193                    NaN                  NaN   \n",
       "1  892177421306343426                    NaN                  NaN   \n",
       "2  891815181378084864                    NaN                  NaN   \n",
       "3  891689557279858688                    NaN                  NaN   \n",
       "4  891327558926688256                    NaN                  NaN   \n",
       "\n",
       "                   timestamp  \\\n",
       "0  2017-08-01 16:23:56 +0000   \n",
       "1  2017-08-01 00:17:27 +0000   \n",
       "2  2017-07-31 00:18:03 +0000   \n",
       "3  2017-07-30 15:58:51 +0000   \n",
       "4  2017-07-29 16:00:24 +0000   \n",
       "\n",
       "                                              source  \\\n",
       "0  <a href=\"http://twitter.com/download/iphone\" r...   \n",
       "1  <a href=\"http://twitter.com/download/iphone\" r...   \n",
       "2  <a href=\"http://twitter.com/download/iphone\" r...   \n",
       "3  <a href=\"http://twitter.com/download/iphone\" r...   \n",
       "4  <a href=\"http://twitter.com/download/iphone\" r...   \n",
       "\n",
       "                                                text  retweeted_status_id  \\\n",
       "0  This is Phineas. He's a mystical boy. Only eve...                  NaN   \n",
       "1  This is Tilly. She's just checking pup on you....                  NaN   \n",
       "2  This is Archie. He is a rare Norwegian Pouncin...                  NaN   \n",
       "3  This is Darla. She commenced a snooze mid meal...                  NaN   \n",
       "4  This is Franklin. He would like you to stop ca...                  NaN   \n",
       "\n",
       "   retweeted_status_user_id retweeted_status_timestamp  \\\n",
       "0                       NaN                        NaN   \n",
       "1                       NaN                        NaN   \n",
       "2                       NaN                        NaN   \n",
       "3                       NaN                        NaN   \n",
       "4                       NaN                        NaN   \n",
       "\n",
       "                                       expanded_urls  ...  img_num  \\\n",
       "0  https://twitter.com/dog_rates/status/892420643...  ...        1   \n",
       "1  https://twitter.com/dog_rates/status/892177421...  ...        1   \n",
       "2  https://twitter.com/dog_rates/status/891815181...  ...        1   \n",
       "3  https://twitter.com/dog_rates/status/891689557...  ...        1   \n",
       "4  https://twitter.com/dog_rates/status/891327558...  ...        2   \n",
       "\n",
       "            p1   p1_conf p1_dog                  p2   p2_conf p2_dog  \\\n",
       "0       orange  0.097049  False               bagel  0.085851  False   \n",
       "1    Chihuahua  0.323581   True            Pekinese  0.090647   True   \n",
       "2    Chihuahua  0.716012   True            malamute  0.078253   True   \n",
       "3  paper_towel  0.170278  False  Labrador_retriever  0.168086   True   \n",
       "4       basset  0.555712   True    English_springer  0.225770   True   \n",
       "\n",
       "                            p3   p3_conf  p3_dog  \n",
       "0                       banana  0.076110   False  \n",
       "1                     papillon  0.068957    True  \n",
       "2                       kelpie  0.031379    True  \n",
       "3                      spatula  0.040836   False  \n",
       "4  German_short-haired_pointer  0.175219    True  \n",
       "\n",
       "[5 rows x 32 columns]"
      ]
     },
     "execution_count": 144,
     "metadata": {},
     "output_type": "execute_result"
    }
   ],
   "source": [
    "df_clean.head()"
   ]
  },
  {
   "cell_type": "code",
   "execution_count": 145,
   "metadata": {},
   "outputs": [
    {
     "name": "stdout",
     "output_type": "stream",
     "text": [
      "<class 'pandas.core.frame.DataFrame'>\n",
      "Int64Index: 2059 entries, 0 to 2058\n",
      "Data columns (total 32 columns):\n",
      " #   Column                      Non-Null Count  Dtype  \n",
      "---  ------                      --------------  -----  \n",
      " 0   tweet_id                    2059 non-null   object \n",
      " 1   in_reply_to_status_id       23 non-null     float64\n",
      " 2   in_reply_to_user_id         23 non-null     float64\n",
      " 3   timestamp                   2059 non-null   object \n",
      " 4   source                      2059 non-null   object \n",
      " 5   text                        2059 non-null   object \n",
      " 6   retweeted_status_id         72 non-null     float64\n",
      " 7   retweeted_status_user_id    72 non-null     float64\n",
      " 8   retweeted_status_timestamp  72 non-null     object \n",
      " 9   expanded_urls               2059 non-null   object \n",
      " 10  rating_numerator            2059 non-null   int64  \n",
      " 11  rating_denominator          2059 non-null   int64  \n",
      " 12  name                        2059 non-null   object \n",
      " 13  doggo                       2059 non-null   object \n",
      " 14  floofer                     2059 non-null   object \n",
      " 15  pupper                      2059 non-null   object \n",
      " 16  puppo                       2059 non-null   object \n",
      " 17  retweets                    2059 non-null   int64  \n",
      " 18  favorites                   2059 non-null   int64  \n",
      " 19  followers                   2059 non-null   int64  \n",
      " 20  friends                     2059 non-null   int64  \n",
      " 21  jpg_url                     2059 non-null   object \n",
      " 22  img_num                     2059 non-null   int64  \n",
      " 23  p1                          2059 non-null   object \n",
      " 24  p1_conf                     2059 non-null   float64\n",
      " 25  p1_dog                      2059 non-null   bool   \n",
      " 26  p2                          2059 non-null   object \n",
      " 27  p2_conf                     2059 non-null   float64\n",
      " 28  p2_dog                      2059 non-null   bool   \n",
      " 29  p3                          2059 non-null   object \n",
      " 30  p3_conf                     2059 non-null   float64\n",
      " 31  p3_dog                      2059 non-null   bool   \n",
      "dtypes: bool(3), float64(7), int64(7), object(15)\n",
      "memory usage: 488.6+ KB\n"
     ]
    }
   ],
   "source": [
    "df_clean.info()"
   ]
  },
  {
   "cell_type": "code",
   "execution_count": 146,
   "metadata": {},
   "outputs": [
    {
     "data": {
      "text/plain": [
       "(2059, 32)"
      ]
     },
     "execution_count": 146,
     "metadata": {},
     "output_type": "execute_result"
    }
   ],
   "source": [
    "df_clean.shape"
   ]
  },
  {
   "cell_type": "code",
   "execution_count": 147,
   "metadata": {},
   "outputs": [
    {
     "data": {
      "text/plain": [
       "Index(['tweet_id', 'in_reply_to_status_id', 'in_reply_to_user_id', 'timestamp',\n",
       "       'source', 'text', 'retweeted_status_id', 'retweeted_status_user_id',\n",
       "       'retweeted_status_timestamp', 'expanded_urls', 'rating_numerator',\n",
       "       'rating_denominator', 'name', 'doggo', 'floofer', 'pupper', 'puppo',\n",
       "       'retweets', 'favorites', 'followers', 'friends', 'jpg_url', 'img_num',\n",
       "       'p1', 'p1_conf', 'p1_dog', 'p2', 'p2_conf', 'p2_dog', 'p3', 'p3_conf',\n",
       "       'p3_dog'],\n",
       "      dtype='object')"
      ]
     },
     "execution_count": 147,
     "metadata": {},
     "output_type": "execute_result"
    }
   ],
   "source": [
    "df_clean.columns"
   ]
  },
  {
   "cell_type": "markdown",
   "metadata": {},
   "source": [
    "Make dog stage and dog category as 1 column ->"
   ]
  },
  {
   "cell_type": "code",
   "execution_count": 148,
   "metadata": {},
   "outputs": [],
   "source": [
    "df_clean = pd.melt(df_clean,\n",
    "                        id_vars=['tweet_id', 'in_reply_to_status_id', 'in_reply_to_user_id', 'timestamp',\n",
    "                           'source', 'text', 'retweeted_status_id', 'retweeted_status_user_id',\n",
    "                           'retweeted_status_timestamp', 'expanded_urls', 'rating_numerator',\n",
    "                           'rating_denominator', 'name', \n",
    "                           'retweets', 'favorites', 'followers', 'friends', 'jpg_url', 'img_num',\n",
    "                           'p1', 'p1_conf', 'p1_dog', 'p2', 'p2_conf', 'p2_dog', 'p3', 'p3_conf',\n",
    "                           'p3_dog'],\n",
    "                        value_name='dog_stage')"
   ]
  },
  {
   "cell_type": "code",
   "execution_count": 149,
   "metadata": {},
   "outputs": [
    {
     "data": {
      "text/html": [
       "<div>\n",
       "<style scoped>\n",
       "    .dataframe tbody tr th:only-of-type {\n",
       "        vertical-align: middle;\n",
       "    }\n",
       "\n",
       "    .dataframe tbody tr th {\n",
       "        vertical-align: top;\n",
       "    }\n",
       "\n",
       "    .dataframe thead th {\n",
       "        text-align: right;\n",
       "    }\n",
       "</style>\n",
       "<table border=\"1\" class=\"dataframe\">\n",
       "  <thead>\n",
       "    <tr style=\"text-align: right;\">\n",
       "      <th></th>\n",
       "      <th>tweet_id</th>\n",
       "      <th>in_reply_to_status_id</th>\n",
       "      <th>in_reply_to_user_id</th>\n",
       "      <th>timestamp</th>\n",
       "      <th>source</th>\n",
       "      <th>text</th>\n",
       "      <th>retweeted_status_id</th>\n",
       "      <th>retweeted_status_user_id</th>\n",
       "      <th>retweeted_status_timestamp</th>\n",
       "      <th>expanded_urls</th>\n",
       "      <th>...</th>\n",
       "      <th>p1_conf</th>\n",
       "      <th>p1_dog</th>\n",
       "      <th>p2</th>\n",
       "      <th>p2_conf</th>\n",
       "      <th>p2_dog</th>\n",
       "      <th>p3</th>\n",
       "      <th>p3_conf</th>\n",
       "      <th>p3_dog</th>\n",
       "      <th>variable</th>\n",
       "      <th>dog_stage</th>\n",
       "    </tr>\n",
       "  </thead>\n",
       "  <tbody>\n",
       "    <tr>\n",
       "      <th>0</th>\n",
       "      <td>892420643555336193</td>\n",
       "      <td>NaN</td>\n",
       "      <td>NaN</td>\n",
       "      <td>2017-08-01 16:23:56 +0000</td>\n",
       "      <td>&lt;a href=\"http://twitter.com/download/iphone\" r...</td>\n",
       "      <td>This is Phineas. He's a mystical boy. Only eve...</td>\n",
       "      <td>NaN</td>\n",
       "      <td>NaN</td>\n",
       "      <td>NaN</td>\n",
       "      <td>https://twitter.com/dog_rates/status/892420643...</td>\n",
       "      <td>...</td>\n",
       "      <td>0.097049</td>\n",
       "      <td>False</td>\n",
       "      <td>bagel</td>\n",
       "      <td>0.085851</td>\n",
       "      <td>False</td>\n",
       "      <td>banana</td>\n",
       "      <td>0.076110</td>\n",
       "      <td>False</td>\n",
       "      <td>doggo</td>\n",
       "      <td>None</td>\n",
       "    </tr>\n",
       "    <tr>\n",
       "      <th>1</th>\n",
       "      <td>892177421306343426</td>\n",
       "      <td>NaN</td>\n",
       "      <td>NaN</td>\n",
       "      <td>2017-08-01 00:17:27 +0000</td>\n",
       "      <td>&lt;a href=\"http://twitter.com/download/iphone\" r...</td>\n",
       "      <td>This is Tilly. She's just checking pup on you....</td>\n",
       "      <td>NaN</td>\n",
       "      <td>NaN</td>\n",
       "      <td>NaN</td>\n",
       "      <td>https://twitter.com/dog_rates/status/892177421...</td>\n",
       "      <td>...</td>\n",
       "      <td>0.323581</td>\n",
       "      <td>True</td>\n",
       "      <td>Pekinese</td>\n",
       "      <td>0.090647</td>\n",
       "      <td>True</td>\n",
       "      <td>papillon</td>\n",
       "      <td>0.068957</td>\n",
       "      <td>True</td>\n",
       "      <td>doggo</td>\n",
       "      <td>None</td>\n",
       "    </tr>\n",
       "    <tr>\n",
       "      <th>2</th>\n",
       "      <td>891815181378084864</td>\n",
       "      <td>NaN</td>\n",
       "      <td>NaN</td>\n",
       "      <td>2017-07-31 00:18:03 +0000</td>\n",
       "      <td>&lt;a href=\"http://twitter.com/download/iphone\" r...</td>\n",
       "      <td>This is Archie. He is a rare Norwegian Pouncin...</td>\n",
       "      <td>NaN</td>\n",
       "      <td>NaN</td>\n",
       "      <td>NaN</td>\n",
       "      <td>https://twitter.com/dog_rates/status/891815181...</td>\n",
       "      <td>...</td>\n",
       "      <td>0.716012</td>\n",
       "      <td>True</td>\n",
       "      <td>malamute</td>\n",
       "      <td>0.078253</td>\n",
       "      <td>True</td>\n",
       "      <td>kelpie</td>\n",
       "      <td>0.031379</td>\n",
       "      <td>True</td>\n",
       "      <td>doggo</td>\n",
       "      <td>None</td>\n",
       "    </tr>\n",
       "    <tr>\n",
       "      <th>3</th>\n",
       "      <td>891689557279858688</td>\n",
       "      <td>NaN</td>\n",
       "      <td>NaN</td>\n",
       "      <td>2017-07-30 15:58:51 +0000</td>\n",
       "      <td>&lt;a href=\"http://twitter.com/download/iphone\" r...</td>\n",
       "      <td>This is Darla. She commenced a snooze mid meal...</td>\n",
       "      <td>NaN</td>\n",
       "      <td>NaN</td>\n",
       "      <td>NaN</td>\n",
       "      <td>https://twitter.com/dog_rates/status/891689557...</td>\n",
       "      <td>...</td>\n",
       "      <td>0.170278</td>\n",
       "      <td>False</td>\n",
       "      <td>Labrador_retriever</td>\n",
       "      <td>0.168086</td>\n",
       "      <td>True</td>\n",
       "      <td>spatula</td>\n",
       "      <td>0.040836</td>\n",
       "      <td>False</td>\n",
       "      <td>doggo</td>\n",
       "      <td>None</td>\n",
       "    </tr>\n",
       "    <tr>\n",
       "      <th>4</th>\n",
       "      <td>891327558926688256</td>\n",
       "      <td>NaN</td>\n",
       "      <td>NaN</td>\n",
       "      <td>2017-07-29 16:00:24 +0000</td>\n",
       "      <td>&lt;a href=\"http://twitter.com/download/iphone\" r...</td>\n",
       "      <td>This is Franklin. He would like you to stop ca...</td>\n",
       "      <td>NaN</td>\n",
       "      <td>NaN</td>\n",
       "      <td>NaN</td>\n",
       "      <td>https://twitter.com/dog_rates/status/891327558...</td>\n",
       "      <td>...</td>\n",
       "      <td>0.555712</td>\n",
       "      <td>True</td>\n",
       "      <td>English_springer</td>\n",
       "      <td>0.225770</td>\n",
       "      <td>True</td>\n",
       "      <td>German_short-haired_pointer</td>\n",
       "      <td>0.175219</td>\n",
       "      <td>True</td>\n",
       "      <td>doggo</td>\n",
       "      <td>None</td>\n",
       "    </tr>\n",
       "    <tr>\n",
       "      <th>...</th>\n",
       "      <td>...</td>\n",
       "      <td>...</td>\n",
       "      <td>...</td>\n",
       "      <td>...</td>\n",
       "      <td>...</td>\n",
       "      <td>...</td>\n",
       "      <td>...</td>\n",
       "      <td>...</td>\n",
       "      <td>...</td>\n",
       "      <td>...</td>\n",
       "      <td>...</td>\n",
       "      <td>...</td>\n",
       "      <td>...</td>\n",
       "      <td>...</td>\n",
       "      <td>...</td>\n",
       "      <td>...</td>\n",
       "      <td>...</td>\n",
       "      <td>...</td>\n",
       "      <td>...</td>\n",
       "      <td>...</td>\n",
       "      <td>...</td>\n",
       "    </tr>\n",
       "    <tr>\n",
       "      <th>8231</th>\n",
       "      <td>666049248165822465</td>\n",
       "      <td>NaN</td>\n",
       "      <td>NaN</td>\n",
       "      <td>2015-11-16 00:24:50 +0000</td>\n",
       "      <td>&lt;a href=\"http://twitter.com/download/iphone\" r...</td>\n",
       "      <td>Here we have a 1949 1st generation vulpix. Enj...</td>\n",
       "      <td>NaN</td>\n",
       "      <td>NaN</td>\n",
       "      <td>NaN</td>\n",
       "      <td>https://twitter.com/dog_rates/status/666049248...</td>\n",
       "      <td>...</td>\n",
       "      <td>0.560311</td>\n",
       "      <td>True</td>\n",
       "      <td>Rottweiler</td>\n",
       "      <td>0.243682</td>\n",
       "      <td>True</td>\n",
       "      <td>Doberman</td>\n",
       "      <td>0.154629</td>\n",
       "      <td>True</td>\n",
       "      <td>puppo</td>\n",
       "      <td>None</td>\n",
       "    </tr>\n",
       "    <tr>\n",
       "      <th>8232</th>\n",
       "      <td>666044226329800704</td>\n",
       "      <td>NaN</td>\n",
       "      <td>NaN</td>\n",
       "      <td>2015-11-16 00:04:52 +0000</td>\n",
       "      <td>&lt;a href=\"http://twitter.com/download/iphone\" r...</td>\n",
       "      <td>This is a purebred Piers Morgan. Loves to Netf...</td>\n",
       "      <td>NaN</td>\n",
       "      <td>NaN</td>\n",
       "      <td>NaN</td>\n",
       "      <td>https://twitter.com/dog_rates/status/666044226...</td>\n",
       "      <td>...</td>\n",
       "      <td>0.408143</td>\n",
       "      <td>True</td>\n",
       "      <td>redbone</td>\n",
       "      <td>0.360687</td>\n",
       "      <td>True</td>\n",
       "      <td>miniature_pinscher</td>\n",
       "      <td>0.222752</td>\n",
       "      <td>True</td>\n",
       "      <td>puppo</td>\n",
       "      <td>None</td>\n",
       "    </tr>\n",
       "    <tr>\n",
       "      <th>8233</th>\n",
       "      <td>666033412701032449</td>\n",
       "      <td>NaN</td>\n",
       "      <td>NaN</td>\n",
       "      <td>2015-11-15 23:21:54 +0000</td>\n",
       "      <td>&lt;a href=\"http://twitter.com/download/iphone\" r...</td>\n",
       "      <td>Here is a very happy pup. Big fan of well-main...</td>\n",
       "      <td>NaN</td>\n",
       "      <td>NaN</td>\n",
       "      <td>NaN</td>\n",
       "      <td>https://twitter.com/dog_rates/status/666033412...</td>\n",
       "      <td>...</td>\n",
       "      <td>0.596461</td>\n",
       "      <td>True</td>\n",
       "      <td>malinois</td>\n",
       "      <td>0.138584</td>\n",
       "      <td>True</td>\n",
       "      <td>bloodhound</td>\n",
       "      <td>0.116197</td>\n",
       "      <td>True</td>\n",
       "      <td>puppo</td>\n",
       "      <td>None</td>\n",
       "    </tr>\n",
       "    <tr>\n",
       "      <th>8234</th>\n",
       "      <td>666029285002620928</td>\n",
       "      <td>NaN</td>\n",
       "      <td>NaN</td>\n",
       "      <td>2015-11-15 23:05:30 +0000</td>\n",
       "      <td>&lt;a href=\"http://twitter.com/download/iphone\" r...</td>\n",
       "      <td>This is a western brown Mitsubishi terrier. Up...</td>\n",
       "      <td>NaN</td>\n",
       "      <td>NaN</td>\n",
       "      <td>NaN</td>\n",
       "      <td>https://twitter.com/dog_rates/status/666029285...</td>\n",
       "      <td>...</td>\n",
       "      <td>0.506826</td>\n",
       "      <td>True</td>\n",
       "      <td>miniature_pinscher</td>\n",
       "      <td>0.074192</td>\n",
       "      <td>True</td>\n",
       "      <td>Rhodesian_ridgeback</td>\n",
       "      <td>0.072010</td>\n",
       "      <td>True</td>\n",
       "      <td>puppo</td>\n",
       "      <td>None</td>\n",
       "    </tr>\n",
       "    <tr>\n",
       "      <th>8235</th>\n",
       "      <td>666020888022790149</td>\n",
       "      <td>NaN</td>\n",
       "      <td>NaN</td>\n",
       "      <td>2015-11-15 22:32:08 +0000</td>\n",
       "      <td>&lt;a href=\"http://twitter.com/download/iphone\" r...</td>\n",
       "      <td>Here we have a Japanese Irish Setter. Lost eye...</td>\n",
       "      <td>NaN</td>\n",
       "      <td>NaN</td>\n",
       "      <td>NaN</td>\n",
       "      <td>https://twitter.com/dog_rates/status/666020888...</td>\n",
       "      <td>...</td>\n",
       "      <td>0.465074</td>\n",
       "      <td>True</td>\n",
       "      <td>collie</td>\n",
       "      <td>0.156665</td>\n",
       "      <td>True</td>\n",
       "      <td>Shetland_sheepdog</td>\n",
       "      <td>0.061428</td>\n",
       "      <td>True</td>\n",
       "      <td>puppo</td>\n",
       "      <td>None</td>\n",
       "    </tr>\n",
       "  </tbody>\n",
       "</table>\n",
       "<p>8236 rows × 30 columns</p>\n",
       "</div>"
      ],
      "text/plain": [
       "                tweet_id  in_reply_to_status_id  in_reply_to_user_id  \\\n",
       "0     892420643555336193                    NaN                  NaN   \n",
       "1     892177421306343426                    NaN                  NaN   \n",
       "2     891815181378084864                    NaN                  NaN   \n",
       "3     891689557279858688                    NaN                  NaN   \n",
       "4     891327558926688256                    NaN                  NaN   \n",
       "...                  ...                    ...                  ...   \n",
       "8231  666049248165822465                    NaN                  NaN   \n",
       "8232  666044226329800704                    NaN                  NaN   \n",
       "8233  666033412701032449                    NaN                  NaN   \n",
       "8234  666029285002620928                    NaN                  NaN   \n",
       "8235  666020888022790149                    NaN                  NaN   \n",
       "\n",
       "                      timestamp  \\\n",
       "0     2017-08-01 16:23:56 +0000   \n",
       "1     2017-08-01 00:17:27 +0000   \n",
       "2     2017-07-31 00:18:03 +0000   \n",
       "3     2017-07-30 15:58:51 +0000   \n",
       "4     2017-07-29 16:00:24 +0000   \n",
       "...                         ...   \n",
       "8231  2015-11-16 00:24:50 +0000   \n",
       "8232  2015-11-16 00:04:52 +0000   \n",
       "8233  2015-11-15 23:21:54 +0000   \n",
       "8234  2015-11-15 23:05:30 +0000   \n",
       "8235  2015-11-15 22:32:08 +0000   \n",
       "\n",
       "                                                 source  \\\n",
       "0     <a href=\"http://twitter.com/download/iphone\" r...   \n",
       "1     <a href=\"http://twitter.com/download/iphone\" r...   \n",
       "2     <a href=\"http://twitter.com/download/iphone\" r...   \n",
       "3     <a href=\"http://twitter.com/download/iphone\" r...   \n",
       "4     <a href=\"http://twitter.com/download/iphone\" r...   \n",
       "...                                                 ...   \n",
       "8231  <a href=\"http://twitter.com/download/iphone\" r...   \n",
       "8232  <a href=\"http://twitter.com/download/iphone\" r...   \n",
       "8233  <a href=\"http://twitter.com/download/iphone\" r...   \n",
       "8234  <a href=\"http://twitter.com/download/iphone\" r...   \n",
       "8235  <a href=\"http://twitter.com/download/iphone\" r...   \n",
       "\n",
       "                                                   text  retweeted_status_id  \\\n",
       "0     This is Phineas. He's a mystical boy. Only eve...                  NaN   \n",
       "1     This is Tilly. She's just checking pup on you....                  NaN   \n",
       "2     This is Archie. He is a rare Norwegian Pouncin...                  NaN   \n",
       "3     This is Darla. She commenced a snooze mid meal...                  NaN   \n",
       "4     This is Franklin. He would like you to stop ca...                  NaN   \n",
       "...                                                 ...                  ...   \n",
       "8231  Here we have a 1949 1st generation vulpix. Enj...                  NaN   \n",
       "8232  This is a purebred Piers Morgan. Loves to Netf...                  NaN   \n",
       "8233  Here is a very happy pup. Big fan of well-main...                  NaN   \n",
       "8234  This is a western brown Mitsubishi terrier. Up...                  NaN   \n",
       "8235  Here we have a Japanese Irish Setter. Lost eye...                  NaN   \n",
       "\n",
       "      retweeted_status_user_id retweeted_status_timestamp  \\\n",
       "0                          NaN                        NaN   \n",
       "1                          NaN                        NaN   \n",
       "2                          NaN                        NaN   \n",
       "3                          NaN                        NaN   \n",
       "4                          NaN                        NaN   \n",
       "...                        ...                        ...   \n",
       "8231                       NaN                        NaN   \n",
       "8232                       NaN                        NaN   \n",
       "8233                       NaN                        NaN   \n",
       "8234                       NaN                        NaN   \n",
       "8235                       NaN                        NaN   \n",
       "\n",
       "                                          expanded_urls  ...   p1_conf  \\\n",
       "0     https://twitter.com/dog_rates/status/892420643...  ...  0.097049   \n",
       "1     https://twitter.com/dog_rates/status/892177421...  ...  0.323581   \n",
       "2     https://twitter.com/dog_rates/status/891815181...  ...  0.716012   \n",
       "3     https://twitter.com/dog_rates/status/891689557...  ...  0.170278   \n",
       "4     https://twitter.com/dog_rates/status/891327558...  ...  0.555712   \n",
       "...                                                 ...  ...       ...   \n",
       "8231  https://twitter.com/dog_rates/status/666049248...  ...  0.560311   \n",
       "8232  https://twitter.com/dog_rates/status/666044226...  ...  0.408143   \n",
       "8233  https://twitter.com/dog_rates/status/666033412...  ...  0.596461   \n",
       "8234  https://twitter.com/dog_rates/status/666029285...  ...  0.506826   \n",
       "8235  https://twitter.com/dog_rates/status/666020888...  ...  0.465074   \n",
       "\n",
       "      p1_dog                  p2   p2_conf  p2_dog  \\\n",
       "0      False               bagel  0.085851   False   \n",
       "1       True            Pekinese  0.090647    True   \n",
       "2       True            malamute  0.078253    True   \n",
       "3      False  Labrador_retriever  0.168086    True   \n",
       "4       True    English_springer  0.225770    True   \n",
       "...      ...                 ...       ...     ...   \n",
       "8231    True          Rottweiler  0.243682    True   \n",
       "8232    True             redbone  0.360687    True   \n",
       "8233    True            malinois  0.138584    True   \n",
       "8234    True  miniature_pinscher  0.074192    True   \n",
       "8235    True              collie  0.156665    True   \n",
       "\n",
       "                               p3   p3_conf p3_dog  variable dog_stage  \n",
       "0                          banana  0.076110  False     doggo      None  \n",
       "1                        papillon  0.068957   True     doggo      None  \n",
       "2                          kelpie  0.031379   True     doggo      None  \n",
       "3                         spatula  0.040836  False     doggo      None  \n",
       "4     German_short-haired_pointer  0.175219   True     doggo      None  \n",
       "...                           ...       ...    ...       ...       ...  \n",
       "8231                     Doberman  0.154629   True     puppo      None  \n",
       "8232           miniature_pinscher  0.222752   True     puppo      None  \n",
       "8233                   bloodhound  0.116197   True     puppo      None  \n",
       "8234          Rhodesian_ridgeback  0.072010   True     puppo      None  \n",
       "8235            Shetland_sheepdog  0.061428   True     puppo      None  \n",
       "\n",
       "[8236 rows x 30 columns]"
      ]
     },
     "execution_count": 149,
     "metadata": {},
     "output_type": "execute_result"
    }
   ],
   "source": [
    "df_clean"
   ]
  },
  {
   "cell_type": "code",
   "execution_count": 150,
   "metadata": {},
   "outputs": [],
   "source": [
    "df_clean = df_clean[df_clean.retweeted_status_id.isnull()] #removing retweet data "
   ]
  },
  {
   "cell_type": "code",
   "execution_count": 151,
   "metadata": {},
   "outputs": [
    {
     "name": "stderr",
     "output_type": "stream",
     "text": [
      "C:\\Users\\Samriddhi\\anaconda3\\lib\\site-packages\\pandas\\core\\frame.py:3997: SettingWithCopyWarning: \n",
      "A value is trying to be set on a copy of a slice from a DataFrame\n",
      "\n",
      "See the caveats in the documentation: https://pandas.pydata.org/pandas-docs/stable/user_guide/indexing.html#returning-a-view-versus-a-copy\n",
      "  errors=errors,\n"
     ]
    }
   ],
   "source": [
    "df_clean.drop(['variable'], axis=1,inplace= True)"
   ]
  },
  {
   "cell_type": "code",
   "execution_count": 152,
   "metadata": {},
   "outputs": [
    {
     "data": {
      "text/html": [
       "<div>\n",
       "<style scoped>\n",
       "    .dataframe tbody tr th:only-of-type {\n",
       "        vertical-align: middle;\n",
       "    }\n",
       "\n",
       "    .dataframe tbody tr th {\n",
       "        vertical-align: top;\n",
       "    }\n",
       "\n",
       "    .dataframe thead th {\n",
       "        text-align: right;\n",
       "    }\n",
       "</style>\n",
       "<table border=\"1\" class=\"dataframe\">\n",
       "  <thead>\n",
       "    <tr style=\"text-align: right;\">\n",
       "      <th></th>\n",
       "      <th>tweet_id</th>\n",
       "      <th>in_reply_to_status_id</th>\n",
       "      <th>in_reply_to_user_id</th>\n",
       "      <th>timestamp</th>\n",
       "      <th>source</th>\n",
       "      <th>text</th>\n",
       "      <th>retweeted_status_id</th>\n",
       "      <th>retweeted_status_user_id</th>\n",
       "      <th>retweeted_status_timestamp</th>\n",
       "      <th>expanded_urls</th>\n",
       "      <th>...</th>\n",
       "      <th>p1</th>\n",
       "      <th>p1_conf</th>\n",
       "      <th>p1_dog</th>\n",
       "      <th>p2</th>\n",
       "      <th>p2_conf</th>\n",
       "      <th>p2_dog</th>\n",
       "      <th>p3</th>\n",
       "      <th>p3_conf</th>\n",
       "      <th>p3_dog</th>\n",
       "      <th>dog_stage</th>\n",
       "    </tr>\n",
       "  </thead>\n",
       "  <tbody>\n",
       "    <tr>\n",
       "      <th>4227</th>\n",
       "      <td>866686824827068416</td>\n",
       "      <td>NaN</td>\n",
       "      <td>NaN</td>\n",
       "      <td>2017-05-22 16:06:55 +0000</td>\n",
       "      <td>&lt;a href=\"http://twitter.com/download/iphone\" r...</td>\n",
       "      <td>This is Lili. She can't believe you betrayed h...</td>\n",
       "      <td>NaN</td>\n",
       "      <td>NaN</td>\n",
       "      <td>NaN</td>\n",
       "      <td>https://twitter.com/dog_rates/status/866686824...</td>\n",
       "      <td>...</td>\n",
       "      <td>flat-coated_retriever</td>\n",
       "      <td>0.514730</td>\n",
       "      <td>True</td>\n",
       "      <td>groenendael</td>\n",
       "      <td>0.306407</td>\n",
       "      <td>True</td>\n",
       "      <td>curly-coated_retriever</td>\n",
       "      <td>0.061314</td>\n",
       "      <td>True</td>\n",
       "      <td>None</td>\n",
       "    </tr>\n",
       "    <tr>\n",
       "      <th>4243</th>\n",
       "      <td>862457590147678208</td>\n",
       "      <td>NaN</td>\n",
       "      <td>NaN</td>\n",
       "      <td>2017-05-11 00:01:27 +0000</td>\n",
       "      <td>&lt;a href=\"http://twitter.com/download/iphone\" r...</td>\n",
       "      <td>This is Jersey. He likes to watch movies, but ...</td>\n",
       "      <td>NaN</td>\n",
       "      <td>NaN</td>\n",
       "      <td>NaN</td>\n",
       "      <td>https://twitter.com/dog_rates/status/862457590...</td>\n",
       "      <td>...</td>\n",
       "      <td>home_theater</td>\n",
       "      <td>0.496348</td>\n",
       "      <td>False</td>\n",
       "      <td>studio_couch</td>\n",
       "      <td>0.167256</td>\n",
       "      <td>False</td>\n",
       "      <td>barber_chair</td>\n",
       "      <td>0.052625</td>\n",
       "      <td>False</td>\n",
       "      <td>None</td>\n",
       "    </tr>\n",
       "    <tr>\n",
       "      <th>3276</th>\n",
       "      <td>695051054296211456</td>\n",
       "      <td>NaN</td>\n",
       "      <td>NaN</td>\n",
       "      <td>2016-02-04 01:07:39 +0000</td>\n",
       "      <td>&lt;a href=\"http://twitter.com/download/iphone\" r...</td>\n",
       "      <td>Meet Brian (pronounced \"Kirk\"). He's not amuse...</td>\n",
       "      <td>NaN</td>\n",
       "      <td>NaN</td>\n",
       "      <td>NaN</td>\n",
       "      <td>https://twitter.com/dog_rates/status/695051054...</td>\n",
       "      <td>...</td>\n",
       "      <td>Boston_bull</td>\n",
       "      <td>0.761454</td>\n",
       "      <td>True</td>\n",
       "      <td>pug</td>\n",
       "      <td>0.075395</td>\n",
       "      <td>True</td>\n",
       "      <td>Chihuahua</td>\n",
       "      <td>0.041598</td>\n",
       "      <td>True</td>\n",
       "      <td>None</td>\n",
       "    </tr>\n",
       "  </tbody>\n",
       "</table>\n",
       "<p>3 rows × 29 columns</p>\n",
       "</div>"
      ],
      "text/plain": [
       "                tweet_id  in_reply_to_status_id  in_reply_to_user_id  \\\n",
       "4227  866686824827068416                    NaN                  NaN   \n",
       "4243  862457590147678208                    NaN                  NaN   \n",
       "3276  695051054296211456                    NaN                  NaN   \n",
       "\n",
       "                      timestamp  \\\n",
       "4227  2017-05-22 16:06:55 +0000   \n",
       "4243  2017-05-11 00:01:27 +0000   \n",
       "3276  2016-02-04 01:07:39 +0000   \n",
       "\n",
       "                                                 source  \\\n",
       "4227  <a href=\"http://twitter.com/download/iphone\" r...   \n",
       "4243  <a href=\"http://twitter.com/download/iphone\" r...   \n",
       "3276  <a href=\"http://twitter.com/download/iphone\" r...   \n",
       "\n",
       "                                                   text  retweeted_status_id  \\\n",
       "4227  This is Lili. She can't believe you betrayed h...                  NaN   \n",
       "4243  This is Jersey. He likes to watch movies, but ...                  NaN   \n",
       "3276  Meet Brian (pronounced \"Kirk\"). He's not amuse...                  NaN   \n",
       "\n",
       "      retweeted_status_user_id retweeted_status_timestamp  \\\n",
       "4227                       NaN                        NaN   \n",
       "4243                       NaN                        NaN   \n",
       "3276                       NaN                        NaN   \n",
       "\n",
       "                                          expanded_urls  ...  \\\n",
       "4227  https://twitter.com/dog_rates/status/866686824...  ...   \n",
       "4243  https://twitter.com/dog_rates/status/862457590...  ...   \n",
       "3276  https://twitter.com/dog_rates/status/695051054...  ...   \n",
       "\n",
       "                         p1   p1_conf p1_dog            p2   p2_conf  p2_dog  \\\n",
       "4227  flat-coated_retriever  0.514730   True   groenendael  0.306407    True   \n",
       "4243           home_theater  0.496348  False  studio_couch  0.167256   False   \n",
       "3276            Boston_bull  0.761454   True           pug  0.075395    True   \n",
       "\n",
       "                          p3   p3_conf  p3_dog dog_stage  \n",
       "4227  curly-coated_retriever  0.061314    True      None  \n",
       "4243            barber_chair  0.052625   False      None  \n",
       "3276               Chihuahua  0.041598    True      None  \n",
       "\n",
       "[3 rows x 29 columns]"
      ]
     },
     "execution_count": 152,
     "metadata": {},
     "output_type": "execute_result"
    }
   ],
   "source": [
    "df_clean.sample(3)"
   ]
  },
  {
   "cell_type": "code",
   "execution_count": 153,
   "metadata": {},
   "outputs": [],
   "source": [
    "df_clean = df_clean.drop_duplicates()"
   ]
  },
  {
   "cell_type": "code",
   "execution_count": 154,
   "metadata": {},
   "outputs": [
    {
     "data": {
      "text/plain": [
       "(2303, 29)"
      ]
     },
     "execution_count": 154,
     "metadata": {},
     "output_type": "execute_result"
    }
   ],
   "source": [
    "df_clean.shape"
   ]
  },
  {
   "cell_type": "code",
   "execution_count": 155,
   "metadata": {},
   "outputs": [
    {
     "data": {
      "text/plain": [
       "316"
      ]
     },
     "execution_count": 155,
     "metadata": {},
     "output_type": "execute_result"
    }
   ],
   "source": [
    "df_clean.tweet_id.duplicated().sum()"
   ]
  },
  {
   "cell_type": "markdown",
   "metadata": {},
   "source": [
    "There are 331 duplicated rows becuase the count has increased. These duplicated rows might have occured due to multiple tagging done with dog_stage. "
   ]
  },
  {
   "cell_type": "code",
   "execution_count": 156,
   "metadata": {},
   "outputs": [
    {
     "data": {
      "text/plain": [
       "None       1987\n",
       "pupper      212\n",
       "doggo        73\n",
       "puppo        23\n",
       "floofer       8\n",
       "Name: dog_stage, dtype: int64"
      ]
     },
     "execution_count": 156,
     "metadata": {},
     "output_type": "execute_result"
    }
   ],
   "source": [
    "df_clean.dog_stage.value_counts()"
   ]
  },
  {
   "cell_type": "code",
   "execution_count": 157,
   "metadata": {},
   "outputs": [],
   "source": [
    "tweet_dog_stage = df_clean.drop_duplicates(subset=['tweet_id', 'dog_stage']) "
   ]
  },
  {
   "cell_type": "code",
   "execution_count": 158,
   "metadata": {},
   "outputs": [
    {
     "data": {
      "text/plain": [
       "(2303, 29)"
      ]
     },
     "execution_count": 158,
     "metadata": {},
     "output_type": "execute_result"
    }
   ],
   "source": [
    "tweet_dog_stage.shape"
   ]
  },
  {
   "cell_type": "code",
   "execution_count": 159,
   "metadata": {},
   "outputs": [],
   "source": [
    "tweet_dog_stage_1 = tweet_dog_stage[tweet_dog_stage['dog_stage'] != 'None']"
   ]
  },
  {
   "cell_type": "code",
   "execution_count": 160,
   "metadata": {},
   "outputs": [
    {
     "data": {
      "text/plain": [
       "(316, 29)"
      ]
     },
     "execution_count": 160,
     "metadata": {},
     "output_type": "execute_result"
    }
   ],
   "source": [
    "tweet_dog_stage_1.shape"
   ]
  },
  {
   "cell_type": "code",
   "execution_count": 161,
   "metadata": {},
   "outputs": [
    {
     "data": {
      "text/plain": [
       "759793422261743616    2\n",
       "733109485275860992    2\n",
       "854010172552949760    2\n",
       "801115127852503040    2\n",
       "741067306818797568    2\n",
       "                     ..\n",
       "688519176466644993    1\n",
       "732375214819057664    1\n",
       "705428427625635840    1\n",
       "707411934438625280    1\n",
       "773985732834758656    1\n",
       "Name: tweet_id, Length: 305, dtype: int64"
      ]
     },
     "execution_count": 161,
     "metadata": {},
     "output_type": "execute_result"
    }
   ],
   "source": [
    "tweet_dog_stage_1['tweet_id'].value_counts()"
   ]
  },
  {
   "cell_type": "code",
   "execution_count": 162,
   "metadata": {},
   "outputs": [
    {
     "data": {
      "text/html": [
       "<div>\n",
       "<style scoped>\n",
       "    .dataframe tbody tr th:only-of-type {\n",
       "        vertical-align: middle;\n",
       "    }\n",
       "\n",
       "    .dataframe tbody tr th {\n",
       "        vertical-align: top;\n",
       "    }\n",
       "\n",
       "    .dataframe thead th {\n",
       "        text-align: right;\n",
       "    }\n",
       "</style>\n",
       "<table border=\"1\" class=\"dataframe\">\n",
       "  <thead>\n",
       "    <tr style=\"text-align: right;\">\n",
       "      <th></th>\n",
       "      <th>tweet_id</th>\n",
       "      <th>in_reply_to_status_id</th>\n",
       "      <th>in_reply_to_user_id</th>\n",
       "      <th>timestamp</th>\n",
       "      <th>source</th>\n",
       "      <th>text</th>\n",
       "      <th>retweeted_status_id</th>\n",
       "      <th>retweeted_status_user_id</th>\n",
       "      <th>retweeted_status_timestamp</th>\n",
       "      <th>expanded_urls</th>\n",
       "      <th>...</th>\n",
       "      <th>p1</th>\n",
       "      <th>p1_conf</th>\n",
       "      <th>p1_dog</th>\n",
       "      <th>p2</th>\n",
       "      <th>p2_conf</th>\n",
       "      <th>p2_dog</th>\n",
       "      <th>p3</th>\n",
       "      <th>p3_conf</th>\n",
       "      <th>p3_dog</th>\n",
       "      <th>dog_stage</th>\n",
       "    </tr>\n",
       "  </thead>\n",
       "  <tbody>\n",
       "    <tr>\n",
       "      <th>357</th>\n",
       "      <td>817777686764523521</td>\n",
       "      <td>NaN</td>\n",
       "      <td>NaN</td>\n",
       "      <td>2017-01-07 16:59:28 +0000</td>\n",
       "      <td>&lt;a href=\"http://twitter.com/download/iphone\" r...</td>\n",
       "      <td>This is Dido. She's playing the lead role in \"...</td>\n",
       "      <td>NaN</td>\n",
       "      <td>NaN</td>\n",
       "      <td>NaN</td>\n",
       "      <td>https://twitter.com/dog_rates/status/817777686...</td>\n",
       "      <td>...</td>\n",
       "      <td>curly-coated_retriever</td>\n",
       "      <td>0.733256</td>\n",
       "      <td>True</td>\n",
       "      <td>flat-coated_retriever</td>\n",
       "      <td>0.214145</td>\n",
       "      <td>True</td>\n",
       "      <td>Irish_water_spaniel</td>\n",
       "      <td>0.029769</td>\n",
       "      <td>True</td>\n",
       "      <td>doggo</td>\n",
       "    </tr>\n",
       "    <tr>\n",
       "      <th>4475</th>\n",
       "      <td>817777686764523521</td>\n",
       "      <td>NaN</td>\n",
       "      <td>NaN</td>\n",
       "      <td>2017-01-07 16:59:28 +0000</td>\n",
       "      <td>&lt;a href=\"http://twitter.com/download/iphone\" r...</td>\n",
       "      <td>This is Dido. She's playing the lead role in \"...</td>\n",
       "      <td>NaN</td>\n",
       "      <td>NaN</td>\n",
       "      <td>NaN</td>\n",
       "      <td>https://twitter.com/dog_rates/status/817777686...</td>\n",
       "      <td>...</td>\n",
       "      <td>curly-coated_retriever</td>\n",
       "      <td>0.733256</td>\n",
       "      <td>True</td>\n",
       "      <td>flat-coated_retriever</td>\n",
       "      <td>0.214145</td>\n",
       "      <td>True</td>\n",
       "      <td>Irish_water_spaniel</td>\n",
       "      <td>0.029769</td>\n",
       "      <td>True</td>\n",
       "      <td>pupper</td>\n",
       "    </tr>\n",
       "  </tbody>\n",
       "</table>\n",
       "<p>2 rows × 29 columns</p>\n",
       "</div>"
      ],
      "text/plain": [
       "                tweet_id  in_reply_to_status_id  in_reply_to_user_id  \\\n",
       "357   817777686764523521                    NaN                  NaN   \n",
       "4475  817777686764523521                    NaN                  NaN   \n",
       "\n",
       "                      timestamp  \\\n",
       "357   2017-01-07 16:59:28 +0000   \n",
       "4475  2017-01-07 16:59:28 +0000   \n",
       "\n",
       "                                                 source  \\\n",
       "357   <a href=\"http://twitter.com/download/iphone\" r...   \n",
       "4475  <a href=\"http://twitter.com/download/iphone\" r...   \n",
       "\n",
       "                                                   text  retweeted_status_id  \\\n",
       "357   This is Dido. She's playing the lead role in \"...                  NaN   \n",
       "4475  This is Dido. She's playing the lead role in \"...                  NaN   \n",
       "\n",
       "      retweeted_status_user_id retweeted_status_timestamp  \\\n",
       "357                        NaN                        NaN   \n",
       "4475                       NaN                        NaN   \n",
       "\n",
       "                                          expanded_urls  ...  \\\n",
       "357   https://twitter.com/dog_rates/status/817777686...  ...   \n",
       "4475  https://twitter.com/dog_rates/status/817777686...  ...   \n",
       "\n",
       "                          p1   p1_conf p1_dog                     p2  \\\n",
       "357   curly-coated_retriever  0.733256   True  flat-coated_retriever   \n",
       "4475  curly-coated_retriever  0.733256   True  flat-coated_retriever   \n",
       "\n",
       "       p2_conf  p2_dog                   p3   p3_conf  p3_dog dog_stage  \n",
       "357   0.214145    True  Irish_water_spaniel  0.029769    True     doggo  \n",
       "4475  0.214145    True  Irish_water_spaniel  0.029769    True    pupper  \n",
       "\n",
       "[2 rows x 29 columns]"
      ]
     },
     "execution_count": 162,
     "metadata": {},
     "output_type": "execute_result"
    }
   ],
   "source": [
    "tweet_dog_stage_1[tweet_dog_stage_1['tweet_id'] == '817777686764523521']"
   ]
  },
  {
   "cell_type": "code",
   "execution_count": 163,
   "metadata": {},
   "outputs": [
    {
     "data": {
      "text/plain": [
       "357     This is Dido. She's playing the lead role in \"...\n",
       "4475    This is Dido. She's playing the lead role in \"...\n",
       "Name: text, dtype: object"
      ]
     },
     "execution_count": 163,
     "metadata": {},
     "output_type": "execute_result"
    }
   ],
   "source": [
    "#to check if text can help\n",
    "tweet_dog_stage_1[tweet_dog_stage_1['tweet_id'] == '817777686764523521']['text']"
   ]
  },
  {
   "cell_type": "code",
   "execution_count": 164,
   "metadata": {},
   "outputs": [],
   "source": [
    "bool_series = tweet_dog_stage_1[\"tweet_id\"].duplicated(keep = False) #to make a bool series to keep the unique values"
   ]
  },
  {
   "cell_type": "code",
   "execution_count": 165,
   "metadata": {},
   "outputs": [],
   "source": [
    "tweet_dog_stage_1 = tweet_dog_stage_1[~bool_series] "
   ]
  },
  {
   "cell_type": "code",
   "execution_count": 166,
   "metadata": {},
   "outputs": [
    {
     "data": {
      "text/plain": [
       "(294, 29)"
      ]
     },
     "execution_count": 166,
     "metadata": {},
     "output_type": "execute_result"
    }
   ],
   "source": [
    "tweet_dog_stage_1.shape"
   ]
  },
  {
   "cell_type": "code",
   "execution_count": 167,
   "metadata": {},
   "outputs": [
    {
     "data": {
      "text/plain": [
       "0"
      ]
     },
     "execution_count": 167,
     "metadata": {},
     "output_type": "execute_result"
    }
   ],
   "source": [
    "tweet_dog_stage_1.tweet_id.duplicated().sum() #to check for duplicate values"
   ]
  },
  {
   "cell_type": "code",
   "execution_count": 168,
   "metadata": {},
   "outputs": [],
   "source": [
    "tweet_dog_stage_2 = tweet_dog_stage_1.drop_duplicates(subset=['tweet_id']) "
   ]
  },
  {
   "cell_type": "code",
   "execution_count": 169,
   "metadata": {},
   "outputs": [
    {
     "data": {
      "text/plain": [
       "(294, 29)"
      ]
     },
     "execution_count": 169,
     "metadata": {},
     "output_type": "execute_result"
    }
   ],
   "source": [
    "tweet_dog_stage_2.shape"
   ]
  },
  {
   "cell_type": "code",
   "execution_count": 170,
   "metadata": {},
   "outputs": [
    {
     "data": {
      "text/plain": [
       "(1976, 29)"
      ]
     },
     "execution_count": 170,
     "metadata": {},
     "output_type": "execute_result"
    }
   ],
   "source": [
    "#combine to get all unique values\n",
    "df1 = tweet_dog_stage.drop_duplicates(subset = 'tweet_id', keep = False)\n",
    "df_merged = df1.append(tweet_dog_stage_2)\n",
    "df_merged.shape"
   ]
  },
  {
   "cell_type": "markdown",
   "metadata": {},
   "source": [
    "### Test"
   ]
  },
  {
   "cell_type": "code",
   "execution_count": 171,
   "metadata": {},
   "outputs": [
    {
     "data": {
      "text/plain": [
       "0"
      ]
     },
     "execution_count": 171,
     "metadata": {},
     "output_type": "execute_result"
    }
   ],
   "source": [
    "df_merged.tweet_id.duplicated().sum() #cross check for duplicates"
   ]
  },
  {
   "cell_type": "code",
   "execution_count": 172,
   "metadata": {},
   "outputs": [
    {
     "data": {
      "text/plain": [
       "None       1682\n",
       "pupper      203\n",
       "doggo        62\n",
       "puppo        22\n",
       "floofer       7\n",
       "Name: dog_stage, dtype: int64"
      ]
     },
     "execution_count": 172,
     "metadata": {},
     "output_type": "execute_result"
    }
   ],
   "source": [
    "df_merged.dog_stage.value_counts()"
   ]
  },
  {
   "cell_type": "code",
   "execution_count": 173,
   "metadata": {},
   "outputs": [
    {
     "name": "stdout",
     "output_type": "stream",
     "text": [
      "<class 'pandas.core.frame.DataFrame'>\n",
      "Int64Index: 1976 entries, 0 to 7053\n",
      "Data columns (total 29 columns):\n",
      " #   Column                      Non-Null Count  Dtype  \n",
      "---  ------                      --------------  -----  \n",
      " 0   tweet_id                    1976 non-null   object \n",
      " 1   in_reply_to_status_id       22 non-null     float64\n",
      " 2   in_reply_to_user_id         22 non-null     float64\n",
      " 3   timestamp                   1976 non-null   object \n",
      " 4   source                      1976 non-null   object \n",
      " 5   text                        1976 non-null   object \n",
      " 6   retweeted_status_id         0 non-null      float64\n",
      " 7   retweeted_status_user_id    0 non-null      float64\n",
      " 8   retweeted_status_timestamp  0 non-null      object \n",
      " 9   expanded_urls               1976 non-null   object \n",
      " 10  rating_numerator            1976 non-null   int64  \n",
      " 11  rating_denominator          1976 non-null   int64  \n",
      " 12  name                        1976 non-null   object \n",
      " 13  retweets                    1976 non-null   int64  \n",
      " 14  favorites                   1976 non-null   int64  \n",
      " 15  followers                   1976 non-null   int64  \n",
      " 16  friends                     1976 non-null   int64  \n",
      " 17  jpg_url                     1976 non-null   object \n",
      " 18  img_num                     1976 non-null   int64  \n",
      " 19  p1                          1976 non-null   object \n",
      " 20  p1_conf                     1976 non-null   float64\n",
      " 21  p1_dog                      1976 non-null   bool   \n",
      " 22  p2                          1976 non-null   object \n",
      " 23  p2_conf                     1976 non-null   float64\n",
      " 24  p2_dog                      1976 non-null   bool   \n",
      " 25  p3                          1976 non-null   object \n",
      " 26  p3_conf                     1976 non-null   float64\n",
      " 27  p3_dog                      1976 non-null   bool   \n",
      " 28  dog_stage                   1976 non-null   object \n",
      "dtypes: bool(3), float64(7), int64(7), object(12)\n",
      "memory usage: 422.6+ KB\n"
     ]
    }
   ],
   "source": [
    "df_merged.info()"
   ]
  },
  {
   "cell_type": "code",
   "execution_count": 174,
   "metadata": {},
   "outputs": [],
   "source": [
    "df_clean = df_merged.copy()"
   ]
  },
  {
   "cell_type": "markdown",
   "metadata": {},
   "source": [
    "### DEFINE \n",
    "\n",
    "To convert in_reply_to_status_id, in_reply_to_user_id, retweeted_status_id , retweeted_status_user_id to string"
   ]
  },
  {
   "cell_type": "markdown",
   "metadata": {},
   "source": [
    "### Code"
   ]
  },
  {
   "cell_type": "code",
   "execution_count": 175,
   "metadata": {},
   "outputs": [],
   "source": [
    "df_clean.in_reply_to_status_id = df_clean.in_reply_to_status_id.astype(str)\n",
    "df_clean.in_reply_to_user_id = df_clean.in_reply_to_user_id.astype(str)\n",
    "df_clean.retweeted_status_id = df_clean.retweeted_status_id.astype(str)\n",
    "df_clean.retweeted_status_user_id = df_clean.retweeted_status_user_id.astype(str)"
   ]
  },
  {
   "cell_type": "markdown",
   "metadata": {},
   "source": [
    "### Test"
   ]
  },
  {
   "cell_type": "code",
   "execution_count": 176,
   "metadata": {},
   "outputs": [
    {
     "data": {
      "text/plain": [
       "tweet_id                       object\n",
       "in_reply_to_status_id          object\n",
       "in_reply_to_user_id            object\n",
       "timestamp                      object\n",
       "source                         object\n",
       "text                           object\n",
       "retweeted_status_id            object\n",
       "retweeted_status_user_id       object\n",
       "retweeted_status_timestamp     object\n",
       "expanded_urls                  object\n",
       "rating_numerator                int64\n",
       "rating_denominator              int64\n",
       "name                           object\n",
       "retweets                        int64\n",
       "favorites                       int64\n",
       "followers                       int64\n",
       "friends                         int64\n",
       "jpg_url                        object\n",
       "img_num                         int64\n",
       "p1                             object\n",
       "p1_conf                       float64\n",
       "p1_dog                           bool\n",
       "p2                             object\n",
       "p2_conf                       float64\n",
       "p2_dog                           bool\n",
       "p3                             object\n",
       "p3_conf                       float64\n",
       "p3_dog                           bool\n",
       "dog_stage                      object\n",
       "dtype: object"
      ]
     },
     "execution_count": 176,
     "metadata": {},
     "output_type": "execute_result"
    }
   ],
   "source": [
    "df_clean.dtypes"
   ]
  },
  {
   "cell_type": "markdown",
   "metadata": {},
   "source": [
    "### Define\n",
    "\n",
    "Convert required variables to date time format"
   ]
  },
  {
   "cell_type": "markdown",
   "metadata": {},
   "source": [
    "### Code"
   ]
  },
  {
   "cell_type": "code",
   "execution_count": 177,
   "metadata": {},
   "outputs": [],
   "source": [
    "df_clean.retweeted_status_timestamp = pd.to_datetime(df_clean.retweeted_status_timestamp) \n",
    "df_clean.timestamp = pd.to_datetime(df_clean.timestamp)"
   ]
  },
  {
   "cell_type": "markdown",
   "metadata": {},
   "source": [
    "### Test"
   ]
  },
  {
   "cell_type": "code",
   "execution_count": 178,
   "metadata": {},
   "outputs": [
    {
     "data": {
      "text/plain": [
       "tweet_id                                   object\n",
       "in_reply_to_status_id                      object\n",
       "in_reply_to_user_id                        object\n",
       "timestamp                     datetime64[ns, UTC]\n",
       "source                                     object\n",
       "text                                       object\n",
       "retweeted_status_id                        object\n",
       "retweeted_status_user_id                   object\n",
       "retweeted_status_timestamp         datetime64[ns]\n",
       "expanded_urls                              object\n",
       "rating_numerator                            int64\n",
       "rating_denominator                          int64\n",
       "name                                       object\n",
       "retweets                                    int64\n",
       "favorites                                   int64\n",
       "followers                                   int64\n",
       "friends                                     int64\n",
       "jpg_url                                    object\n",
       "img_num                                     int64\n",
       "p1                                         object\n",
       "p1_conf                                   float64\n",
       "p1_dog                                       bool\n",
       "p2                                         object\n",
       "p2_conf                                   float64\n",
       "p2_dog                                       bool\n",
       "p3                                         object\n",
       "p3_conf                                   float64\n",
       "p3_dog                                       bool\n",
       "dog_stage                                  object\n",
       "dtype: object"
      ]
     },
     "execution_count": 178,
     "metadata": {},
     "output_type": "execute_result"
    }
   ],
   "source": [
    "df_clean.dtypes"
   ]
  },
  {
   "cell_type": "markdown",
   "metadata": {},
   "source": [
    "### Define\n",
    "Increase the text format representation"
   ]
  },
  {
   "cell_type": "markdown",
   "metadata": {},
   "source": [
    "### Code"
   ]
  },
  {
   "cell_type": "code",
   "execution_count": 179,
   "metadata": {},
   "outputs": [
    {
     "name": "stderr",
     "output_type": "stream",
     "text": [
      "C:\\Users\\Samriddhi\\anaconda3\\lib\\site-packages\\ipykernel_launcher.py:1: FutureWarning: Passing a negative integer is deprecated in version 1.0 and will not be supported in future version. Instead, use None to not limit the column width.\n",
      "  \"\"\"Entry point for launching an IPython kernel.\n"
     ]
    }
   ],
   "source": [
    "pd.set_option('display.max_colwidth', -1)"
   ]
  },
  {
   "cell_type": "markdown",
   "metadata": {},
   "source": [
    "### Test"
   ]
  },
  {
   "cell_type": "code",
   "execution_count": 180,
   "metadata": {},
   "outputs": [
    {
     "data": {
      "text/plain": [
       "1037    We 👏🏻 only 👏🏻 rate 👏🏻 dogs. Pls stop sending in non-canines like this Dutch Panda Worm. This is infuriating. 11/10 https://t.co/odfLzBonG2\n",
       "Name: text, dtype: object"
      ]
     },
     "execution_count": 180,
     "metadata": {},
     "output_type": "execute_result"
    }
   ],
   "source": [
    "df_clean.text[df_clean.name =='infuriating']"
   ]
  },
  {
   "cell_type": "code",
   "execution_count": 181,
   "metadata": {},
   "outputs": [
    {
     "data": {
      "text/plain": [
       "1709    This is light saber pup. Ready to fight off evil with light saber. 10/10 true hero https://t.co/LPPa3btIIt\n",
       "Name: text, dtype: object"
      ]
     },
     "execution_count": 181,
     "metadata": {},
     "output_type": "execute_result"
    }
   ],
   "source": [
    "df_clean[df_clean.name =='light']['text']"
   ]
  },
  {
   "cell_type": "markdown",
   "metadata": {},
   "source": [
    "### DEFINE\n",
    "Set appropriate names for dogs with weird names by seeing the text information"
   ]
  },
  {
   "cell_type": "markdown",
   "metadata": {},
   "source": [
    "### Code"
   ]
  },
  {
   "cell_type": "code",
   "execution_count": 182,
   "metadata": {},
   "outputs": [
    {
     "name": "stdout",
     "output_type": "stream",
     "text": [
      "1037    We 👏🏻 only 👏🏻 rate 👏🏻 dogs. Pls stop sending in non-canines like this Dutch Panda Worm. This is infuriating. 11/10 https://t.co/odfLzBonG2\n",
      "Name: text, dtype: object\n",
      "1727    This is just impressive I have nothing else to say. 11/10 https://t.co/LquQZiZjJP \n",
      "5332    This is just a beautiful pupper good shit evolution. 12/10 https://t.co/2L8pI0Z2Ib\n",
      "Name: text, dtype: object\n",
      "Series([], Name: text, dtype: object)\n",
      "1709    This is light saber pup. Ready to fight off evil with light saber. 10/10 true hero https://t.co/LPPa3btIIt\n",
      "Name: text, dtype: object\n",
      "Series([], Name: text, dtype: object)\n",
      "679    This is my dog. Her name is Zoey. She knows I've been rating other dogs. She's not happy. 13/10 no bias at all https://t.co/ep1NkYoiwB\n",
      "Name: text, dtype: object\n",
      "797    What jokester sent in a pic without a dog in it? This is not @rock_rates. This is @dog_rates. Thank you ...10/10 https://t.co/nDPaYHrtNX\n",
      "Name: text, dtype: object\n",
      "1470    This is officially the greatest yawn of all time. 12/10 https://t.co/4R0Cc0sLVE\n",
      "Name: text, dtype: object\n",
      "Series([], Name: text, dtype: object)\n",
      "284     Occasionally, we're sent fantastic stories. This is one of them. 14/10 for Grace https://t.co/bZ4axuH6OK                                    \n",
      "802     This is one of the most reckless puppers I've ever seen. How she got a license in the first place is beyond me. 6/10 https://t.co/z5bAdtn9kd\n",
      "743     This is one of the most inspirational stories I've ever come across. I have no words. 14/10 for both doggo and owner https://t.co/I5ld3eKD5k\n",
      "5763    This is one esteemed pupper. Just graduated college. 10/10 what a champ https://t.co/nyReCVRiyd                                             \n",
      "Name: text, dtype: object\n",
      "138     We only rate dogs. This is quite clearly a smol broken polar bear. We'd appreciate if you only send dogs. Thank you... 12/10 https://t.co/g2nSyGenG9              \n",
      "152     Guys, we only rate dogs. This is quite clearly a bulbasaur. Please only send dogs. Thank you... 12/10 human used pet, it's super effective https://t.co/Xc7uj1C64x\n",
      "2029    This is quite the dog. Gets really excited when not in water. Not very soft tho. Bad at fetch. Can't do tricks. 2/10 https://t.co/aMCTNWO94t                      \n",
      "Name: text, dtype: object\n",
      "1738    This is space pup. He's very confused. Tries to moonwalk at one point. Super spiffy uniform. 13/10 I love space pup https://t.co/SfPQ2KeLdq\n",
      "Name: text, dtype: object\n",
      "21    I've yet to rate a Venezuelan Hover Wiener. This is such an honor. 14/10 paw-inspiring af (IG: roxy.thedoxy) https://t.co/20VrLAA8ba\n",
      "Name: text, dtype: object\n",
      "1273    Stop sending in lobsters. This is the final warning. We only rate dogs. Thank you... 9/10 https://t.co/B9ZXXKJYNx                               \n",
      "1532    This is the saddest/sweetest/best picture I've been sent. 12/10 😢🐶 https://t.co/vQ2Lw1BLBF                                                      \n",
      "1745    This is the best thing I've ever seen so spread it like wildfire &amp; maybe we'll find the genius who created it. 13/10 https://t.co/q6RsuOVYwU\n",
      "2048    This is the happiest dog you will ever see. Very committed owner. Nice couch. 10/10 https://t.co/RhUEAloehK                                     \n",
      "2049    Here is the Rand Paul of retrievers folks! He's probably good at poker. Can drink beer (lol rad). 8/10 good dog https://t.co/pYAJkAe76p         \n",
      "5457    This is the newly formed pupper a capella group. They're just starting out but I see tons of potential. 8/10 for all https://t.co/wbAcvFoNtn    \n",
      "5633    This is the happiest pupper I've ever seen. 10/10 would trade lives with https://t.co/ep8ATEJwRb                                                \n",
      "Name: text, dtype: object\n",
      "911    Say hello to this unbelievably well behaved squad of doggos. 204/170 would try to pet all at once https://t.co/yGQI3He3xv\n",
      "Name: text, dtype: object\n",
      "912    We only rate dogs. Pls stop sending non-canines like this Bulgarian Eyeless Porch Bear. This is unacceptable... 9/10 https://t.co/2yctWAUZ3Z\n",
      "Name: text, dtype: object\n",
      "651     We only rate dogs. Pls stop sending in non-canines like this Arctic Floof Kangaroo. This is very frustrating. 11/10 https://t.co/qlUDuPoE3d \n",
      "831     We only rate dogs. Pls stop sending in non-canines like this Jamaican Flop Seal. This is very very frustrating. 9/10 https://t.co/nc53zEN0hZ\n",
      "889     We only rate dogs. Please stop sending in non-canines like this Alaskan Flop Turtle. This is very frustrating. 10/10 https://t.co/qXteK6Atxc\n",
      "1149    We only rate dogs. Pls stop sending in non-canines like this Mongolian grass snake. This is very frustrating. 11/10 https://t.co/22x9SbCYCU \n",
      "Name: text, dtype: object\n",
      "514     Here is a perfect example of someone who has their priorities in order. 13/10 for both owner and Forrest https://t.co/LRyMrU7Wfq                           \n",
      "636     Guys this is getting so out of hand. We only rate dogs. This is a Galapagos Speed Panda. Pls only send dogs... 10/10 https://t.co/8lpAGaZRFn               \n",
      "809     This is a mighty rare blue-tailed hammer sherk. Human almost lost a limb trying to take these. Be careful guys. 8/10 https://t.co/TGenMeXreW               \n",
      "811     Viewer discretion is advised. This is a terrible attack in progress. Not even in water (tragic af). 4/10 bad sherk https://t.co/L3U0j14N5R                 \n",
      "820     This is a carrot. We only rate dogs. Please only send in dogs. You all really should know this by now ...11/10 https://t.co/9e48aPrBm2                     \n",
      "982     People please. This is a Deadly Mediterranean Plop T-Rex. We only rate dogs. Only send in dogs. Thanks you... 11/10 https://t.co/2ATDsgHD4n                \n",
      "992     This is a taco. We only rate dogs. Please only send in dogs. Dogs are what we rate. Not tacos. Thank you... 10/10 https://t.co/cxl6xGY8B9                  \n",
      "1118    Here is a whole flock of puppers.  60/50 I'll take the lot https://t.co/9dpcw6MdWa                                                                         \n",
      "1128    This is a Butternut Cumberfloof. It's not windy they just look like that. 11/10 back at it again with the red socks https://t.co/hMjzhdUHaW                \n",
      "1134    This is a Wild Tuscan Poofwiggle. Careful not to startle. Rare tongue slip. One eye magical. 12/10 would def pet https://t.co/4EnShAQjv6                   \n",
      "1249    This is a rare Arctic Wubberfloof. Unamused by the happenings. No longer has the appetites. 12/10 would totally hug https://t.co/krvbacIX0N                \n",
      "1461    Guys this really needs to stop. We've been over this way too many times. This is a giraffe. We only rate dogs.. 7/10 https://t.co/yavgkHYPOC               \n",
      "1504    This is a dog swinging. I really enjoyed it so I hope you all do as well. 11/10 https://t.co/Ozo9KHTRND                                                    \n",
      "1566    This is a Sizzlin Menorah spaniel from Brooklyn named Wylie. Lovable eyes. Chiller as hell. 10/10 and I'm out.. poof https://t.co/7E0AiJXPmI               \n",
      "1567    Seriously guys?! Only send in dogs. I only rate dogs. This is a baby black bear... 11/10 https://t.co/H7kpabTfLj                                           \n",
      "1590    C'mon guys. We've been over this. We only rate dogs. This is a cow. Please only submit dogs. Thank you...... 9/10 https://t.co/WjcELNEqN2                  \n",
      "1591    This is a fluffy albino Bacardi Columbia mix. Excellent at the tweets. 11/10 would hug gently https://t.co/diboDRUuEI                                      \n",
      "1632    This is a Sagitariot Baklava mix. Loves her new hat. 11/10 radiant pup https://t.co/Bko5kFJYUU                                                             \n",
      "1649    This is a heavily opinionated dog. Loves walls. Nobody knows how the hair works. Always ready for a kiss. 4/10 https://t.co/dFiaKZ9cDl                     \n",
      "1663    This is a Lofted Aphrodisiac Terrier named Kip. Big fan of bed n breakfasts. Fits perfectly. 10/10 would pet firmly https://t.co/gKlLpNzIl3                \n",
      "1702    This is a baby Rand Paul. Curls for days. 11/10 would cuddle the hell out of https://t.co/xHXNaPAYRe                                                       \n",
      "1742    This is a Tuscaloosa Alcatraz named Jacob (Yacōb). Loves to sit in swing. Stellar tongue. 11/10 look at his feet https://t.co/2IslQ8ZSc7                   \n",
      "1773    This is a Helvetica Listerine named Rufus. This time Rufus will be ready for the UPS guy. He'll never expect it 9/10 https://t.co/34OhVhMkVr               \n",
      "1823    This is a Deciduous Trimester mix named Spork. Only 1 ear works. No seat belt. Incredibly reckless. 9/10 still cute https://t.co/CtuJoLHiDo                \n",
      "1832    This is a Rich Mahogany Seltzer named Cherokee. Just got destroyed by a snowball. Isn't very happy about it. 9/10 https://t.co/98ZBi6o4dj                  \n",
      "1835    This is a Speckled Cauliflower Yosemite named Hemry. He's terrified of intruder dog. Not one bit comfortable. 9/10 https://t.co/yV3Qgjh8iN                 \n",
      "1853    This is a spotted Lipitor Rumpelstiltskin named Alphred. He can't wait for the Turkey. 10/10 would pet really well https://t.co/6GUGO7azNX                 \n",
      "1859    This is a brave dog. Excellent free climber. Trying to get closer to God. Not very loyal though. Doesn't bark. 5/10 https://t.co/ODnILTr4QM                \n",
      "1867    This is a Coriander Baton Rouge named Alfredo. Loves to cuddle with smaller well-dressed dog. 10/10 would hug lots https://t.co/eCRdwouKCl                 \n",
      "1896    This is a Slovakian Helter Skelter Feta named Leroi. Likes to skip on roofs. Good traction. Much balance. 10/10 wow! https://t.co/Dmy2mY2Qj5               \n",
      "1903    This is a wild Toblerone from Papua New Guinea. Mouth always open. Addicted to hay. Acts blind. 7/10 handsome dog https://t.co/IGmVbz07tZ                  \n",
      "1916    Here is a horned dog. Much grace. Can jump over moons (dam!). Paws not soft. Bad at barking. 7/10 can still pet tho https://t.co/2Su7gmsnZm                \n",
      "1922    This is a Birmingham Quagmire named Chuk. Loves to relax and watch the game while sippin on that iced mocha. 10/10 https://t.co/HvNg9JWxFt                 \n",
      "1926    Here is a mother dog caring for her pups. Snazzy red mohawk. Doesn't wag tail. Pups look confused. Overall 4/10 https://t.co/YOHe6lf09m                    \n",
      "1939    This is a Trans Siberian Kellogg named Alfonso. Huge ass eyeballs. Actually Dobby from Harry Potter. 7/10 https://t.co/XpseHBlAAb                          \n",
      "1953    This is a Shotokon Macadamia mix named Cheryl. Sophisticated af. Looks like a disappointed librarian. Shh (lol) 9/10 https://t.co/J4GnJ5Swba               \n",
      "1959    This is a rare Hungarian Pinot named Jessiga. She is either mid-stroke or got stuck in the washing machine. 8/10 https://t.co/ZU0i0KJyqD                   \n",
      "1968    This is a southwest Coriander named Klint. Hat looks expensive. Still on house arrest :(\\n9/10 https://t.co/IQTOMqDUIe                                     \n",
      "1977    This is a northern Wahoo named Kohl. He runs this town. Chases tumbleweeds. Draws gun wicked fast. 11/10 legendary https://t.co/J4vn2rOYFk                 \n",
      "1991    This is a Dasani Kingfisher from Maine. His name is Daryl. Daryl doesn't like being swallowed by a panda. 8/10 https://t.co/jpaeu6LNmW                     \n",
      "2007    This is a curly Ticonderoga named Pepe. No feet. Loves to jet ski. 11/10 would hug until forever https://t.co/cyDfaK8NBc                                   \n",
      "2014    This is a purebred Bacardi named Octaviath. Can shoot spaghetti out of mouth. 10/10 https://t.co/uEvsGLOFHa                                                \n",
      "2017    This is a golden Buckminsterfullerene named Johm. Drives trucks. Lumberjack (?). Enjoys wall. 8/10 would hug softly https://t.co/uQbZJM2DQB                \n",
      "2030    This is a southern Vesuvius bumblegruff. Can drive a truck (wow). Made friends with 5 other nifty dogs (neat). 7/10 https://t.co/LopTBkKa8h                \n",
      "2037    This is a funny dog. Weird toes. Won't come down. Loves branch. Refuses to eat his food. Hard to cuddle with. 3/10 https://t.co/IIXis0zta0                 \n",
      "2050    My oh my. This is a rare blond Canadian terrier on wheels. Only $8.98. Rather docile. 9/10 very rare https://t.co/yWBqbrzy8O                               \n",
      "2051    Here is a Siberian heavily armored polar bear mix. Strong owner. 10/10 I would do unspeakable things to pet this dog https://t.co/rdivxLiqEt               \n",
      "2053    This is a truly beautiful English Wilson Staff retriever. Has a nice phone. Privileged. 10/10 would trade lives with https://t.co/fvIbQfHjIe               \n",
      "2055    This is a purebred Piers Morgan. Loves to Netflix and chill. Always looks like he forgot to unplug the iron. 6/10 https://t.co/DWnyCjf2mx                  \n",
      "2056    Here is a very happy pup. Big fan of well-maintained decks. Just look at that tongue. 9/10 would cuddle af https://t.co/y671yMhoiR                         \n",
      "2057    This is a western brown Mitsubishi terrier. Upset about leaf. Actually 2 dogs here. 7/10 would walk the shit out of https://t.co/r7mOb2m0UI                \n",
      "4168    Here is a pupper approaching maximum borkdrive. Zooming at never before seen speeds. 14/10 paw-inspiring af \\n(IG: puffie_the_chow) https://t.co/ghXBIIeQZF\n",
      "4964    This is a very rare Great Alaskan Bush Pupper. Hard to stumble upon without spooking. 12/10 would pet passionately https://t.co/xOBKCdpzaa                 \n",
      "5227    Here is a heartbreaking scene of an incredible pupper being laid to rest. 10/10 RIP pupper https://t.co/81mvJ0rGRu                                         \n",
      "5264    \"Pupper is a present to world. Here is a bow for pupper.\" 12/10 precious as hell https://t.co/ItSsE92gCW                                                   \n",
      "Name: text, dtype: object\n",
      "825     This is an Iraqi Speed Kangaroo. It is not a dog. Please only send in dogs. I'm very angry with all of you ...9/10 https://t.co/5qpBTTpgUt \n",
      "1129    This is an East African Chalupa Seal. We only rate dogs. Please only send in dogs. Thank you... 10/10 https://t.co/iHe6liLwWR              \n",
      "1909    This is an Irish Rigatoni terrier named Berta. Completely made of rope. No eyes. Quite large. Loves to dance. 10/10 https://t.co/EM5fDykrJg\n",
      "2036    This is an extremely rare horned Parthenon. Not amused. Wears shoes. Overall very nice. 9/10 would pet aggressively https://t.co/QpRjllzWAL\n",
      "2038    This is an Albanian 3 1/2 legged  Episcopalian. Loves well-polished hardwood flooring. Penis on the collar. 9/10 https://t.co/d9NcXFKwLv   \n",
      "2052    This is an odd dog. Hard on the outside but loving on the inside. Petting still fun. Doesn't play catch well. 2/10 https://t.co/v5A4vzSDdc \n",
      "Name: text, dtype: object\n"
     ]
    }
   ],
   "source": [
    "l = ['infuriating', 'just', 'life', 'light', 'mad', 'my', 'not', 'officially', 'old', 'one', 'quite', 'space', \n",
    "       'such', 'the', 'this', 'unacceptable', 'very', 'a', 'an']\n",
    "\n",
    "for w in l:\n",
    "    print(df_clean.text[df_clean.name == w])"
   ]
  },
  {
   "cell_type": "markdown",
   "metadata": {},
   "source": [
    "We observed that it is impossible to get the dog names from the text. We can put a none value for all inappropriate names."
   ]
  },
  {
   "cell_type": "markdown",
   "metadata": {},
   "source": [
    "### Test"
   ]
  },
  {
   "cell_type": "code",
   "execution_count": 183,
   "metadata": {},
   "outputs": [
    {
     "name": "stderr",
     "output_type": "stream",
     "text": [
      "C:\\Users\\Samriddhi\\anaconda3\\lib\\site-packages\\ipykernel_launcher.py:2: SettingWithCopyWarning: \n",
      "A value is trying to be set on a copy of a slice from a DataFrame\n",
      "\n",
      "See the caveats in the documentation: https://pandas.pydata.org/pandas-docs/stable/user_guide/indexing.html#returning-a-view-versus-a-copy\n",
      "  \n"
     ]
    }
   ],
   "source": [
    "for w in l:    \n",
    "     df_clean.name[df_clean.name == w] = 'None' "
   ]
  },
  {
   "cell_type": "code",
   "execution_count": 184,
   "metadata": {},
   "outputs": [
    {
     "data": {
      "text/plain": [
       "None        630\n",
       "Cooper      10 \n",
       "Charlie     10 \n",
       "Oliver      10 \n",
       "Tucker      9  \n",
       "           ..  \n",
       "Dale        1  \n",
       "Monty       1  \n",
       "Jessifer    1  \n",
       "Bloop       1  \n",
       "Cedrick     1  \n",
       "Name: name, Length: 915, dtype: int64"
      ]
     },
     "execution_count": 184,
     "metadata": {},
     "output_type": "execute_result"
    }
   ],
   "source": [
    "df_clean.name.value_counts()"
   ]
  },
  {
   "cell_type": "markdown",
   "metadata": {},
   "source": [
    "### Define\n",
    "rating_numerator and rating_denominator have some incosistent values in the numerator and denominator. The rating for denominator is shown as 0 in a tweet. But since it is not possible to correct the ratings with the provided data, I have left them unaltered."
   ]
  },
  {
   "cell_type": "code",
   "execution_count": 185,
   "metadata": {},
   "outputs": [
    {
     "name": "stdout",
     "output_type": "stream",
     "text": [
      "<class 'pandas.core.frame.DataFrame'>\n",
      "Int64Index: 1976 entries, 0 to 7053\n",
      "Data columns (total 29 columns):\n",
      " #   Column                      Non-Null Count  Dtype              \n",
      "---  ------                      --------------  -----              \n",
      " 0   tweet_id                    1976 non-null   object             \n",
      " 1   in_reply_to_status_id       1976 non-null   object             \n",
      " 2   in_reply_to_user_id         1976 non-null   object             \n",
      " 3   timestamp                   1976 non-null   datetime64[ns, UTC]\n",
      " 4   source                      1976 non-null   object             \n",
      " 5   text                        1976 non-null   object             \n",
      " 6   retweeted_status_id         1976 non-null   object             \n",
      " 7   retweeted_status_user_id    1976 non-null   object             \n",
      " 8   retweeted_status_timestamp  0 non-null      datetime64[ns]     \n",
      " 9   expanded_urls               1976 non-null   object             \n",
      " 10  rating_numerator            1976 non-null   int64              \n",
      " 11  rating_denominator          1976 non-null   int64              \n",
      " 12  name                        1976 non-null   object             \n",
      " 13  retweets                    1976 non-null   int64              \n",
      " 14  favorites                   1976 non-null   int64              \n",
      " 15  followers                   1976 non-null   int64              \n",
      " 16  friends                     1976 non-null   int64              \n",
      " 17  jpg_url                     1976 non-null   object             \n",
      " 18  img_num                     1976 non-null   int64              \n",
      " 19  p1                          1976 non-null   object             \n",
      " 20  p1_conf                     1976 non-null   float64            \n",
      " 21  p1_dog                      1976 non-null   bool               \n",
      " 22  p2                          1976 non-null   object             \n",
      " 23  p2_conf                     1976 non-null   float64            \n",
      " 24  p2_dog                      1976 non-null   bool               \n",
      " 25  p3                          1976 non-null   object             \n",
      " 26  p3_conf                     1976 non-null   float64            \n",
      " 27  p3_dog                      1976 non-null   bool               \n",
      " 28  dog_stage                   1976 non-null   object             \n",
      "dtypes: bool(3), datetime64[ns, UTC](1), datetime64[ns](1), float64(3), int64(7), object(14)\n",
      "memory usage: 422.6+ KB\n"
     ]
    }
   ],
   "source": [
    "df_clean.info()"
   ]
  },
  {
   "cell_type": "markdown",
   "metadata": {},
   "source": [
    "### Define\n",
    "retweeted_status_timestamp has the null values"
   ]
  },
  {
   "cell_type": "markdown",
   "metadata": {},
   "source": [
    "### Code"
   ]
  },
  {
   "cell_type": "code",
   "execution_count": 186,
   "metadata": {},
   "outputs": [],
   "source": [
    "#the importance of this variable for the analysis is not significant. Hence, it is removed.\n",
    "df_clean.drop(['retweeted_status_timestamp'],axis=1, inplace= True)"
   ]
  },
  {
   "cell_type": "markdown",
   "metadata": {},
   "source": [
    "### Test"
   ]
  },
  {
   "cell_type": "code",
   "execution_count": 187,
   "metadata": {},
   "outputs": [
    {
     "name": "stdout",
     "output_type": "stream",
     "text": [
      "<class 'pandas.core.frame.DataFrame'>\n",
      "Int64Index: 1976 entries, 0 to 7053\n",
      "Data columns (total 28 columns):\n",
      " #   Column                    Non-Null Count  Dtype              \n",
      "---  ------                    --------------  -----              \n",
      " 0   tweet_id                  1976 non-null   object             \n",
      " 1   in_reply_to_status_id     1976 non-null   object             \n",
      " 2   in_reply_to_user_id       1976 non-null   object             \n",
      " 3   timestamp                 1976 non-null   datetime64[ns, UTC]\n",
      " 4   source                    1976 non-null   object             \n",
      " 5   text                      1976 non-null   object             \n",
      " 6   retweeted_status_id       1976 non-null   object             \n",
      " 7   retweeted_status_user_id  1976 non-null   object             \n",
      " 8   expanded_urls             1976 non-null   object             \n",
      " 9   rating_numerator          1976 non-null   int64              \n",
      " 10  rating_denominator        1976 non-null   int64              \n",
      " 11  name                      1976 non-null   object             \n",
      " 12  retweets                  1976 non-null   int64              \n",
      " 13  favorites                 1976 non-null   int64              \n",
      " 14  followers                 1976 non-null   int64              \n",
      " 15  friends                   1976 non-null   int64              \n",
      " 16  jpg_url                   1976 non-null   object             \n",
      " 17  img_num                   1976 non-null   int64              \n",
      " 18  p1                        1976 non-null   object             \n",
      " 19  p1_conf                   1976 non-null   float64            \n",
      " 20  p1_dog                    1976 non-null   bool               \n",
      " 21  p2                        1976 non-null   object             \n",
      " 22  p2_conf                   1976 non-null   float64            \n",
      " 23  p2_dog                    1976 non-null   bool               \n",
      " 24  p3                        1976 non-null   object             \n",
      " 25  p3_conf                   1976 non-null   float64            \n",
      " 26  p3_dog                    1976 non-null   bool               \n",
      " 27  dog_stage                 1976 non-null   object             \n",
      "dtypes: bool(3), datetime64[ns, UTC](1), float64(3), int64(7), object(14)\n",
      "memory usage: 407.2+ KB\n"
     ]
    }
   ],
   "source": [
    "df_clean.info()"
   ]
  },
  {
   "cell_type": "markdown",
   "metadata": {},
   "source": [
    "### Storing the clean and merged file for further analysis"
   ]
  },
  {
   "cell_type": "code",
   "execution_count": 188,
   "metadata": {},
   "outputs": [],
   "source": [
    "df_clean.to_csv('twitter_archive_master.csv', encoding='utf-8', index=False)"
   ]
  },
  {
   "cell_type": "markdown",
   "metadata": {},
   "source": [
    "# Analyzing and Visualization"
   ]
  },
  {
   "cell_type": "code",
   "execution_count": 189,
   "metadata": {},
   "outputs": [
    {
     "data": {
      "text/plain": [
       "Index(['tweet_id', 'in_reply_to_status_id', 'in_reply_to_user_id', 'timestamp',\n",
       "       'source', 'text', 'retweeted_status_id', 'retweeted_status_user_id',\n",
       "       'expanded_urls', 'rating_numerator', 'rating_denominator', 'name',\n",
       "       'retweets', 'favorites', 'followers', 'friends', 'jpg_url', 'img_num',\n",
       "       'p1', 'p1_conf', 'p1_dog', 'p2', 'p2_conf', 'p2_dog', 'p3', 'p3_conf',\n",
       "       'p3_dog', 'dog_stage'],\n",
       "      dtype='object')"
      ]
     },
     "execution_count": 189,
     "metadata": {},
     "output_type": "execute_result"
    }
   ],
   "source": [
    "df_clean.columns"
   ]
  },
  {
   "cell_type": "code",
   "execution_count": 190,
   "metadata": {},
   "outputs": [
    {
     "data": {
      "text/plain": [
       "[Text(0, 0.5, 'Frequency'), Text(0.5, 1.0, 'Freq distribution of Retweets')]"
      ]
     },
     "execution_count": 190,
     "metadata": {},
     "output_type": "execute_result"
    },
    {
     "data": {
      "image/png": "[encoded data removed]",
      "text/plain": [
       "<Figure size 432x288 with 1 Axes>"
      ]
     },
     "metadata": {
      "needs_background": "light"
     },
     "output_type": "display_data"
    }
   ],
   "source": [
    "sns.distplot(df_clean['retweets'], color = 'blue').set(title = 'Freq distribution of Retweets', ylabel=\"Frequency\")"
   ]
  },
  {
   "cell_type": "code",
   "execution_count": 191,
   "metadata": {},
   "outputs": [
    {
     "data": {
      "text/plain": [
       "Text(0, 0.5, 'Frequency')"
      ]
     },
     "execution_count": 191,
     "metadata": {},
     "output_type": "execute_result"
    },
    {
     "data": {
      "image/png": "[encoded data removed]",
      "text/plain": [
       "<Figure size 576x360 with 1 Axes>"
      ]
     },
     "metadata": {
      "needs_background": "light"
     },
     "output_type": "display_data"
    }
   ],
   "source": [
    "df_clean['retweets'].plot.box(figsize=(8,5))\n",
    "plt.title('Symmetrism of retweets')\n",
    "plt.ylabel('Frequency')"
   ]
  },
  {
   "cell_type": "code",
   "execution_count": 192,
   "metadata": {},
   "outputs": [
    {
     "data": {
      "text/plain": [
       "[Text(0, 0.5, 'Frequency'), Text(0.5, 1.0, 'Freq distribution of Favourites')]"
      ]
     },
     "execution_count": 192,
     "metadata": {},
     "output_type": "execute_result"
    },
    {
     "data": {
      "image/png": "[encoded data removed]",
      "text/plain": [
       "<Figure size 432x288 with 1 Axes>"
      ]
     },
     "metadata": {
      "needs_background": "light"
     },
     "output_type": "display_data"
    }
   ],
   "source": [
    "sns.distplot(df_clean['favorites'], color = 'blue').set(title = 'Freq distribution of Favourites', ylabel=\"Frequency\")"
   ]
  },
  {
   "cell_type": "code",
   "execution_count": 193,
   "metadata": {},
   "outputs": [
    {
     "data": {
      "text/plain": [
       "Text(0, 0.5, 'Frequency')"
      ]
     },
     "execution_count": 193,
     "metadata": {},
     "output_type": "execute_result"
    },
    {
     "data": {
      "image/png": "[encoded data removed]",
      "text/plain": [
       "<Figure size 576x360 with 1 Axes>"
      ]
     },
     "metadata": {
      "needs_background": "light"
     },
     "output_type": "display_data"
    }
   ],
   "source": [
    "df_clean['favorites'].plot.box(figsize=(8,5))\n",
    "plt.title('Symmetrism of favourites')\n",
    "plt.ylabel('Frequency')"
   ]
  },
  {
   "cell_type": "code",
   "execution_count": 194,
   "metadata": {},
   "outputs": [
    {
     "data": {
      "text/plain": [
       "[Text(0, 0.5, 'Frequency'), Text(0.5, 1.0, 'Freq distribution of Followers')]"
      ]
     },
     "execution_count": 194,
     "metadata": {},
     "output_type": "execute_result"
    },
    {
     "data": {
      "image/png": "[encoded data removed]",
      "text/plain": [
       "<Figure size 432x288 with 1 Axes>"
      ]
     },
     "metadata": {
      "needs_background": "light"
     },
     "output_type": "display_data"
    }
   ],
   "source": [
    "sns.distplot(df_clean['followers'], color = 'blue').set(title = 'Freq distribution of Followers', ylabel=\"Frequency\")"
   ]
  },
  {
   "cell_type": "code",
   "execution_count": 195,
   "metadata": {},
   "outputs": [
    {
     "data": {
      "text/plain": [
       "Text(0, 0.5, 'Frequency')"
      ]
     },
     "execution_count": 195,
     "metadata": {},
     "output_type": "execute_result"
    },
    {
     "data": {
      "image/png": "[encoded data removed]",
      "text/plain": [
       "<Figure size 576x360 with 1 Axes>"
      ]
     },
     "metadata": {
      "needs_background": "light"
     },
     "output_type": "display_data"
    }
   ],
   "source": [
    "df_clean['followers'].plot.box(figsize=(8,5))\n",
    "plt.title('Symmetrism of followers')\n",
    "plt.ylabel('Frequency')"
   ]
  },
  {
   "cell_type": "code",
   "execution_count": 196,
   "metadata": {},
   "outputs": [
    {
     "name": "stderr",
     "output_type": "stream",
     "text": [
      "C:\\Users\\Samriddhi\\anaconda3\\lib\\site-packages\\seaborn\\distributions.py:283: UserWarning: Data must have variance to compute a kernel density estimate.\n",
      "  warnings.warn(msg, UserWarning)\n"
     ]
    },
    {
     "data": {
      "text/plain": [
       "[Text(0, 0.5, 'Frequency'), Text(0.5, 1.0, 'Freq distribution of friends')]"
      ]
     },
     "execution_count": 196,
     "metadata": {},
     "output_type": "execute_result"
    },
    {
     "data": {
      "image/png": "[encoded data removed]",
      "text/plain": [
       "<Figure size 432x288 with 1 Axes>"
      ]
     },
     "metadata": {
      "needs_background": "light"
     },
     "output_type": "display_data"
    }
   ],
   "source": [
    "sns.distplot(df_clean['friends'], color = 'blue').set(title = 'Freq distribution of friends', ylabel=\"Frequency\")"
   ]
  },
  {
   "cell_type": "code",
   "execution_count": 197,
   "metadata": {},
   "outputs": [
    {
     "data": {
      "text/plain": [
       "Text(0, 0.5, 'Frequency')"
      ]
     },
     "execution_count": 197,
     "metadata": {},
     "output_type": "execute_result"
    },
    {
     "data": {
      "image/png": "[encoded data removed]",
      "text/plain": [
       "<Figure size 576x360 with 1 Axes>"
      ]
     },
     "metadata": {
      "needs_background": "light"
     },
     "output_type": "display_data"
    }
   ],
   "source": [
    "df_clean['friends'].plot.box(figsize=(8,5))\n",
    "plt.title('Symmetrism of friends')\n",
    "plt.ylabel('Frequency')"
   ]
  },
  {
   "cell_type": "code",
   "execution_count": 198,
   "metadata": {
    "scrolled": false
   },
   "outputs": [
    {
     "name": "stderr",
     "output_type": "stream",
     "text": [
      "C:\\Users\\Samriddhi\\anaconda3\\lib\\site-packages\\ipykernel_launcher.py:1: SettingWithCopyWarning: \n",
      "A value is trying to be set on a copy of a slice from a DataFrame\n",
      "\n",
      "See the caveats in the documentation: https://pandas.pydata.org/pandas-docs/stable/user_guide/indexing.html#returning-a-view-versus-a-copy\n",
      "  \"\"\"Entry point for launching an IPython kernel.\n",
      "C:\\Users\\Samriddhi\\anaconda3\\lib\\site-packages\\ipykernel_launcher.py:2: SettingWithCopyWarning: \n",
      "A value is trying to be set on a copy of a slice from a DataFrame\n",
      "\n",
      "See the caveats in the documentation: https://pandas.pydata.org/pandas-docs/stable/user_guide/indexing.html#returning-a-view-versus-a-copy\n",
      "  \n"
     ]
    }
   ],
   "source": [
    "df_clean['favorites_mod'] = df_clean.favorites[df_clean.favorites <= 0] = 1\n",
    "df_clean['retweets_mod'] = df_clean.retweets[df_clean.retweets <= 0] = 1"
   ]
  },
  {
   "cell_type": "code",
   "execution_count": 199,
   "metadata": {},
   "outputs": [
    {
     "data": {
      "text/plain": [
       "<Figure size 432x288 with 0 Axes>"
      ]
     },
     "metadata": {},
     "output_type": "display_data"
    },
    {
     "data": {
      "image/png": "[encoded data removed]",
      "text/plain": [
       "<Figure size 1080x432 with 2 Axes>"
      ]
     },
     "metadata": {
      "needs_background": "light"
     },
     "output_type": "display_data"
    }
   ],
   "source": [
    "plt.figure(1)\n",
    "plt.figure(figsize = (15,6))\n",
    "plt.subplot(121)\n",
    "sns.distplot(df_clean.retweets, color = 'orange')\n",
    "plt.title('Retweets')\n",
    "plt.xlabel('Retweets - Count')\n",
    "\n",
    "\n",
    "plt.subplot(122)\n",
    "sns.distplot(df_clean.retweets.apply(np.log), color = 'green')\n",
    "plt.title('Log Transformed - Retweets')\n",
    "plt.xlabel('Retweets - Count')\n",
    "\n",
    "plt.show()"
   ]
  },
  {
   "cell_type": "code",
   "execution_count": 200,
   "metadata": {},
   "outputs": [
    {
     "data": {
      "text/plain": [
       "<Figure size 432x288 with 0 Axes>"
      ]
     },
     "metadata": {},
     "output_type": "display_data"
    },
    {
     "data": {
      "image/png": "[encoded data removed]",
      "text/plain": [
       "<Figure size 1080x432 with 2 Axes>"
      ]
     },
     "metadata": {
      "needs_background": "light"
     },
     "output_type": "display_data"
    }
   ],
   "source": [
    "plt.figure(1)\n",
    "plt.figure(figsize = (15,6))\n",
    "plt.subplot(121)\n",
    "sns.distplot(df_clean.favorites, color = 'red')\n",
    "plt.title('Favorites')\n",
    "plt.xlabel('Favorites - Count')\n",
    "\n",
    "\n",
    "plt.subplot(122)\n",
    "sns.distplot(df_clean.favorites.apply(np.log), color = 'blue')\n",
    "plt.title('Log Transformed - Favorites')\n",
    "plt.xlabel('Favorites - Count')\n",
    "\n",
    "plt.show()"
   ]
  },
  {
   "cell_type": "code",
   "execution_count": 201,
   "metadata": {},
   "outputs": [
    {
     "data": {
      "image/png": "[encoded data removed]",
      "text/plain": [
       "<Figure size 1440x720 with 2 Axes>"
      ]
     },
     "metadata": {
      "needs_background": "light"
     },
     "output_type": "display_data"
    }
   ],
   "source": [
    "# Correlation between numerical variables\n",
    "from matplotlib import cm as cm\n",
    "num = (df_clean[['retweets', 'followers', 'favorites','rating_numerator', 'rating_denominator' ]])\n",
    "mat = num.corr()\n",
    "f, ax = plt.subplots(figsize=(20, 10))\n",
    "c1 = cm.get_cmap('jet', 30)\n",
    "sns.heatmap(mat, vmax=.8, square=True, cmap=c1);"
   ]
  },
  {
   "cell_type": "markdown",
   "metadata": {},
   "source": [
    "It seems like Retweets and Favorites are highly correlated which means the people who retweeted have also tagged as favourites."
   ]
  },
  {
   "cell_type": "code",
   "execution_count": 202,
   "metadata": {},
   "outputs": [
    {
     "data": {
      "image/png": "[encoded data removed]",
      "text/plain": [
       "<Figure size 432x288 with 1 Axes>"
      ]
     },
     "metadata": {
      "needs_background": "light"
     },
     "output_type": "display_data"
    }
   ],
   "source": [
    "graph = sns.regplot(x=df_clean.retweets, y=df_clean.favorites)\n",
    "plt.title(\"Favorites and Retweets\")\n",
    "plt.xlabel('Retweets')\n",
    "plt.ylabel('Favorites')\n",
    "fig = graph.get_figure()\n",
    "fig.savefig('fav_retweet_scatter.png')"
   ]
  },
  {
   "cell_type": "markdown",
   "metadata": {},
   "source": [
    "We can see that favourites and retweets go together."
   ]
  },
  {
   "cell_type": "code",
   "execution_count": 203,
   "metadata": {},
   "outputs": [],
   "source": [
    "def plot_algo(p):\n",
    "    df_clean[p].value_counts(normalize=True).head(10).plot.bar(figsize=(24,6), fontsize = 15.0)\n",
    "    plt.title(p+' Algorithm Output')\n",
    "    plt.ylabel('Count %')\n"
   ]
  },
  {
   "cell_type": "code",
   "execution_count": 204,
   "metadata": {},
   "outputs": [
    {
     "data": {
      "image/png": "[encoded data removed]",
      "text/plain": [
       "<Figure size 1728x432 with 1 Axes>"
      ]
     },
     "metadata": {
      "needs_background": "light"
     },
     "output_type": "display_data"
    }
   ],
   "source": [
    "plot_algo('p1')"
   ]
  },
  {
   "cell_type": "code",
   "execution_count": 205,
   "metadata": {},
   "outputs": [
    {
     "data": {
      "image/png": "[encoded data removed]",
      "text/plain": [
       "<Figure size 1728x432 with 1 Axes>"
      ]
     },
     "metadata": {
      "needs_background": "light"
     },
     "output_type": "display_data"
    }
   ],
   "source": [
    "plot_algo('p2')"
   ]
  },
  {
   "cell_type": "code",
   "execution_count": 206,
   "metadata": {},
   "outputs": [
    {
     "data": {
      "image/png": "[encoded data removed]",
      "text/plain": [
       "<Figure size 1728x432 with 1 Axes>"
      ]
     },
     "metadata": {
      "needs_background": "light"
     },
     "output_type": "display_data"
    }
   ],
   "source": [
    "plot_algo('p3')"
   ]
  },
  {
   "cell_type": "markdown",
   "metadata": {},
   "source": [
    "Most of the predictions by 3 algorithms is done for golden_retriever, Labrador_retriever and Chihuahua dogs"
   ]
  },
  {
   "cell_type": "markdown",
   "metadata": {},
   "source": [
    "To get the top rating_numerator values based on the count->"
   ]
  },
  {
   "cell_type": "code",
   "execution_count": 207,
   "metadata": {},
   "outputs": [],
   "source": [
    "def rating(nd):\n",
    "    cnt = df_clean['rating_'+nd].value_counts().head(20)\n",
    "    sns.barplot(y=cnt.index, x=cnt.values, alpha=0.8)\n",
    "    plt.xlabel('Rating '+nd+' Count', fontsize=12)\n",
    "    plt.ylabel('Rating '+nd+' Scale', fontsize=12)\n",
    "    plt.title('Rating '+nd+' vs Count', fontsize=15)\n",
    "    plt.show()"
   ]
  },
  {
   "cell_type": "code",
   "execution_count": 208,
   "metadata": {},
   "outputs": [
    {
     "data": {
      "image/png": "[encoded data removed]",
      "text/plain": [
       "<Figure size 432x288 with 1 Axes>"
      ]
     },
     "metadata": {
      "needs_background": "light"
     },
     "output_type": "display_data"
    }
   ],
   "source": [
    "rating('numerator')"
   ]
  },
  {
   "cell_type": "markdown",
   "metadata": {},
   "source": [
    "Majority of the ratings are around 10"
   ]
  },
  {
   "cell_type": "code",
   "execution_count": 209,
   "metadata": {},
   "outputs": [
    {
     "data": {
      "text/plain": [
       "(2, 30)"
      ]
     },
     "execution_count": 209,
     "metadata": {},
     "output_type": "execute_result"
    }
   ],
   "source": [
    "df_clean[df_clean['rating_denominator'] < 10].shape"
   ]
  },
  {
   "cell_type": "code",
   "execution_count": 210,
   "metadata": {},
   "outputs": [
    {
     "data": {
      "text/plain": [
       "(16, 30)"
      ]
     },
     "execution_count": 210,
     "metadata": {},
     "output_type": "execute_result"
    }
   ],
   "source": [
    "df_clean[df_clean['rating_denominator'] > 10].shape"
   ]
  },
  {
   "cell_type": "markdown",
   "metadata": {},
   "source": [
    "To get the top rating_denominator values based on the count->"
   ]
  },
  {
   "cell_type": "code",
   "execution_count": 211,
   "metadata": {},
   "outputs": [
    {
     "data": {
      "image/png": "[encoded data removed]",
      "text/plain": [
       "<Figure size 432x288 with 1 Axes>"
      ]
     },
     "metadata": {
      "needs_background": "light"
     },
     "output_type": "display_data"
    }
   ],
   "source": [
    "rating('denominator')"
   ]
  },
  {
   "cell_type": "markdown",
   "metadata": {},
   "source": [
    "* There must be rating denominator with 10, but sometimes users are rated with < 10 and > 10.\n",
    "* So, 1958 are rated on 10. "
   ]
  },
  {
   "cell_type": "markdown",
   "metadata": {},
   "source": [
    "The Top dog name values ->"
   ]
  },
  {
   "cell_type": "code",
   "execution_count": 212,
   "metadata": {},
   "outputs": [],
   "source": [
    "def dog(n):\n",
    "    cnt = df_clean[n].value_counts().head(10)\n",
    "    sns.barplot(y=cnt.index, x=cnt.values, alpha=0.8)\n",
    "    plt.xlabel(n+' Count')\n",
    "    plt.ylabel(n+' of the Dog')\n",
    "    plt.title(n+\" w.r.t Count\")\n",
    "    plt.show()"
   ]
  },
  {
   "cell_type": "code",
   "execution_count": 213,
   "metadata": {},
   "outputs": [
    {
     "data": {
      "image/png": "[encoded data removed]",
      "text/plain": [
       "<Figure size 432x288 with 1 Axes>"
      ]
     },
     "metadata": {
      "needs_background": "light"
     },
     "output_type": "display_data"
    }
   ],
   "source": [
    "dog('name')"
   ]
  },
  {
   "cell_type": "markdown",
   "metadata": {},
   "source": [
    "Majority of the Dog names are \"None\". This was set by us for the inappropriate names."
   ]
  },
  {
   "cell_type": "markdown",
   "metadata": {},
   "source": [
    "Dog_stage values based on the count ->"
   ]
  },
  {
   "cell_type": "code",
   "execution_count": 214,
   "metadata": {},
   "outputs": [
    {
     "data": {
      "image/png": "[encoded data removed]",
      "text/plain": [
       "<Figure size 432x288 with 1 Axes>"
      ]
     },
     "metadata": {
      "needs_background": "light"
     },
     "output_type": "display_data"
    }
   ],
   "source": [
    "dog('dog_stage')"
   ]
  },
  {
   "cell_type": "markdown",
   "metadata": {},
   "source": [
    "Majority of the Dog stages are none and second highest is pupper."
   ]
  }
 ],
 "metadata": {
  "kernelspec": {
   "display_name": "Python 3",
   "language": "python",
   "name": "python3"
  },
  "language_info": {
   "codemirror_mode": {
    "name": "ipython",
    "version": 3
   },
   "file_extension": ".py",
   "mimetype": "text/x-python",
   "name": "python",
   "nbconvert_exporter": "python",
   "pygments_lexer": "ipython3",
   "version": "3.7.7"
  }
 },
 "nbformat": 4,
 "nbformat_minor": 4
}
