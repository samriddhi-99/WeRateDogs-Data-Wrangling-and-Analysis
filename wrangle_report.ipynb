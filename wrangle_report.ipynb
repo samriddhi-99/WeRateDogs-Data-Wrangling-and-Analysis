{
 "cells": [
  {
   "cell_type": "markdown",
   "metadata": {},
   "source": [
    "# WeRateDogs - Data Wrangling"
   ]
  },
  {
   "cell_type": "markdown",
   "metadata": {},
   "source": [
    "## Gather Data"
   ]
  },
  {
   "cell_type": "markdown",
   "metadata": {},
   "source": [
    "The instruction provided by Udacity to gather data from different sources eased the task of collecting data.\n",
    "* I downloaded the 'twitter-archive-enhanced.csv' file as per the instructions\n",
    "* I made a twitter developer account to get the access codes and further get the data using API. The data collected was stored in a JSON file.\n",
    "* The image predictions file was next downloaded in tsv format."
   ]
  },
  {
   "cell_type": "markdown",
   "metadata": {},
   "source": [
    "After collecting the data I stored them in 3 different dataframes.\n",
    "* df -> 'twitter-archive-enhanced.csv'\n",
    "* tweets_df -> 'tweets_json.txt' collected using API\n",
    "* image_predictions_df -> image predictions file in tsv format"
   ]
  },
  {
   "cell_type": "markdown",
   "metadata": {},
   "source": [
    "## Assessing Data"
   ]
  },
  {
   "cell_type": "markdown",
   "metadata": {},
   "source": [
    "Visually assessed the data in the 3 dataframes created to further organize and structure the data."
   ]
  },
  {
   "cell_type": "markdown",
   "metadata": {},
   "source": [
    "### 1) df "
   ]
  },
  {
   "cell_type": "markdown",
   "metadata": {},
   "source": [
    "### Columns in df ->"
   ]
  },
  {
   "cell_type": "markdown",
   "metadata": {},
   "source": [
    "* name: the breed or dog's name\n",
    "* timestamp: Date and time the tweet was created, in Excel-friendly format.\n",
    "* source: the web link as source\n",
    "* text: the corresponding tweets text\n",
    "* tweet_id: the unique identifier for each of the tweet\n",
    "* retweeted_status_id: the status id for the reply given to the tweet id i.e., for the retweeted id\n",
    "* retweeted_status_user_id: the status id for the reply given to the tweet id ( w.r.t user id) i.e., for the retweeted id\n",
    "* retweeted_status_timestamp: Date and time the tweet was created, in Excel-friendly format.\n",
    "* expanded_urls: Expanded version of url1; URL entered by user and displayed in Twitter. Note that the user-entered URL may itself be a shortened URL, e.g. from bit.ly.\n",
    "* rating_numerator: the ranking given by the user\n",
    "* rating_denominator: The reference ranking given by the user\n",
    "* in_reply_to_status_id: the status id for the reply given to the tweet id\n",
    "* in_reply_to_user_id: the status id for the reply given to the tweet id ( w.r.t user id)\n",
    "* doggo, floofer, pupper, puppo -- The stage of the dog"
   ]
  },
  {
   "cell_type": "markdown",
   "metadata": {},
   "source": [
    "### Quality Issues"
   ]
  },
  {
   "cell_type": "markdown",
   "metadata": {},
   "source": [
    "* in_reply_to_status_id, in_reply_to_user_id, retweeted_status_id , retweeted_status_user_id, retweeted_status_timestamp, expanded_urls have missing values.\n",
    "* 'infuriating', 'just', 'life', 'light', 'mad', 'my', 'not', 'officially', 'old', 'one', 'quite', 'space', 'such', 'the', 'this', 'unacceptable', 'very' -> inappropriate names for dogs\n",
    "* Missing values in doggo, floofer, pupper , puppo are None instead of NaN\n",
    "* Information of text is truncated to 50 characters.\n",
    "* timestamp and retweeted_status_timestamp must be of datetime\n",
    "* in_reply_to_status_id, in_reply_to_user_id, retweeted_status_id, retweeted_status_user_id must be integers\n",
    "* rating_numerator and rating_denominator have some incosistent values in the numerator and denominator\n",
    "* tweet id 835246439529840640 has a rating of denominator = 0\n",
    "* removed the rows with retweets value"
   ]
  },
  {
   "cell_type": "markdown",
   "metadata": {},
   "source": [
    "### Tidiness Issues\n",
    "* We need to join all dataframes to get a final dataframe because some columns are present in more than 1 table.\n",
    "* Dog stages are found in multiple columns."
   ]
  },
  {
   "cell_type": "markdown",
   "metadata": {},
   "source": [
    "### 2) tweets_df "
   ]
  },
  {
   "cell_type": "markdown",
   "metadata": {},
   "source": [
    "### Columns in tweets_df ->"
   ]
  },
  {
   "cell_type": "markdown",
   "metadata": {},
   "source": [
    "* retweets: The count of retweets done by user\n",
    "* tweet_id: The unique identifier for each of the tweet\n",
    "* followers: The count of number of followers\n",
    "* friends: The count of number of friends\n",
    "* favorites: The count of favorites done by user"
   ]
  },
  {
   "cell_type": "markdown",
   "metadata": {},
   "source": [
    "### Quality Issues \n",
    "* 14 tweet id information is missing"
   ]
  },
  {
   "cell_type": "markdown",
   "metadata": {},
   "source": [
    "### Tidiness Issues\n",
    "* Retweets and favourites must join with the df table"
   ]
  },
  {
   "cell_type": "markdown",
   "metadata": {},
   "source": [
    "### 3) image_predictions_df"
   ]
  },
  {
   "cell_type": "markdown",
   "metadata": {},
   "source": [
    "### Columns in image_predictions_df ->"
   ]
  },
  {
   "cell_type": "markdown",
   "metadata": {},
   "source": [
    "* p1: the algorithm's #1 prediction for the image in the tweet\n",
    "* p1_conf: how confident the algorithm is in its #1 prediction\n",
    "* p1_dog: whether or not the #1 prediction is a breed of dog\n",
    "* p2: the algorithm's second most likely prediction\n",
    "* p3: the algorithm's #3 prediction for the image in the tweet\n",
    "* p3_conf: how confident the algorithm is in its #3 prediction\n",
    "* p3_dog: whether or not the #3 prediction is a breed of dog\n",
    "* p2_conf: how confident the algorithm is in its #2 prediction\n",
    "* p2_dog: whether or not the #2 prediction is a breed of dog\n",
    "* tweet_id: tweet_id is the last part of the tweet URL after \"status/\"\n",
    "* jpg_url: Image link or URL\n",
    "* img_num: Image number"
   ]
  },
  {
   "cell_type": "markdown",
   "metadata": {},
   "source": [
    "### Quality Issues\n",
    "* only 2075 tweetIds have images"
   ]
  },
  {
   "cell_type": "markdown",
   "metadata": {},
   "source": [
    "### Tidiness Issues\n",
    "* All the prediction outputs from different algorithms have to be joined with df, becuase all the information is already found there."
   ]
  },
  {
   "cell_type": "markdown",
   "metadata": {},
   "source": [
    "# Cleaning "
   ]
  },
  {
   "cell_type": "markdown",
   "metadata": {},
   "source": [
    "### Joint the 3 dataframes into 1 ->"
   ]
  },
  {
   "cell_type": "markdown",
   "metadata": {},
   "source": [
    "* Converted the datatype of \"tweet_id\" to string/object.\n",
    "* Combined the 3 dataframes into one using tweet_id.\n",
    "* Converted the dog stage and category into 1 column."
   ]
  },
  {
   "cell_type": "markdown",
   "metadata": {},
   "source": [
    "### Further cleaning of data ->\n",
    "* There are 331 duplicated rows becuase the count has increased. These duplicated rows might have occured due to multiple tagging done with dog_stage.\n",
    "* converted in_reply_to_status_id, in_reply_to_user_id, retweeted_status_id , retweeted_status_user_id to string\n",
    "* Converted required variables to date time format\n",
    "* Increase the text format representation\n",
    "* We put a none value for all inappropriate names of dogs \n",
    "* rating_numerator and rating_denominator have some incosistent values in the numerator and denominator. The rating for denominator is shown as 0 in a tweet. But since it is not possible to correct the ratings with the provided data, I have left them unaltered.\n",
    "* removed retweeted_status_timestamp with null values"
   ]
  },
  {
   "cell_type": "markdown",
   "metadata": {},
   "source": [
    "# Storing the cleaned dataframe"
   ]
  },
  {
   "cell_type": "markdown",
   "metadata": {},
   "source": [
    "Stored the data as a csv file 'twitter_archive_master.csv' for further analysis. "
   ]
  }
 ],
 "metadata": {
  "kernelspec": {
   "display_name": "Python 3",
   "language": "python",
   "name": "python3"
  },
  "language_info": {
   "codemirror_mode": {
    "name": "ipython",
    "version": 3
   },
   "file_extension": ".py",
   "mimetype": "text/x-python",
   "name": "python",
   "nbconvert_exporter": "python",
   "pygments_lexer": "ipython3",
   "version": "3.7.7"
  }
 },
 "nbformat": 4,
 "nbformat_minor": 4
}
